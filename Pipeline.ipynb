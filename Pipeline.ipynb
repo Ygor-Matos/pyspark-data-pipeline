{
 "cells": [
  {
   "cell_type": "code",
   "execution_count": 0,
   "metadata": {
    "application/vnd.databricks.v1+cell": {
     "cellMetadata": {
      "byteLimit": 2048000,
      "rowLimit": 10000
     },
     "inputWidgets": {},
     "nuid": "e4aee6a0-d783-483a-adb0-bcf2a1828332",
     "showTitle": false,
     "tableResultSettingsMap": {},
     "title": ""
    }
   },
   "outputs": [
    {
     "output_type": "display_data",
     "data": {
      "text/html": [
       "<style scoped>\n",
       "  .table-result-container {\n",
       "    max-height: 300px;\n",
       "    overflow: auto;\n",
       "  }\n",
       "  table, th, td {\n",
       "    border: 1px solid black;\n",
       "    border-collapse: collapse;\n",
       "  }\n",
       "  th, td {\n",
       "    padding: 5px;\n",
       "  }\n",
       "  th {\n",
       "    text-align: left;\n",
       "  }\n",
       "</style><div class='table-result-container'><table class='table-result'><thead style='background-color: white'><tr><th>value</th></tr></thead><tbody><tr><td>\"id_venda,data_venda,local_venda,tipo_maquina,valor_total,revendedor_id\"</td></tr><tr><td>\"id\\_venda,data\\_venda,local\\_venda,tipo\\_maquina,valor\\_total,revendedor\\_id\"</td></tr><tr><td>\"1,2025-06-01,Sao Paulo,Trator,150000.00,101\"</td></tr><tr><td>\"2,2025-06-02, Rio de Janeiro,Colheitadeira,300000.00,102\"</td></tr><tr><td>\"3,2025-06-03,S. Paulo,Pulverizador,80000.00,101\"</td></tr><tr><td>\"4,2025-006-04,Belo Horizote,Trator,160000.00,103\"</td></tr><tr><td>\"5,2025-06-05,Florianopolis,,200000.00,104\"</td></tr><tr><td>\"6,2025-06-06,Brasilia,Colheitadeira,280000.00,105\"</td></tr><tr><td>\"7,2025-06-07,RIO DE JANEIRO,Pulverizador,75000.00,102\"</td></tr><tr><td>\"8,2025-06-08,Curitiba,Trator,145000.00,106\"</td></tr><tr><td>\"9,2025-06-09,São Paulo,Colheitadeira,310000.00,101\"</td></tr><tr><td>\"10,2025-06-10,Recife,Trator,130000.00,107\"</td></tr><tr><td>\"00011,2025/06/11,Porto Alegre,Pulverizdor,90000.00,108\"</td></tr><tr><td>\"00012,2025-06-12,Salvador,Colheitadeira,290000.00,109\"</td></tr><tr><td>\"00013,2025/06/13,Sao Paulo,Trator,155000.00,101\"</td></tr><tr><td>\"00014,2025-06-14,Rio de Janeiro,Pulverizador,82000.00,102\"</td></tr><tr><td>\"00015,2025/06/15,Belo Horizonte,Colhetadeira,275000.00,103\"</td></tr><tr><td>\"00016,2025-06-16,Brasília,Trator,162000.00,105\"</td></tr><tr><td>\"00017,2025/06/17,Curitiba,Pulverizador,78000.00,106\"</td></tr><tr><td>\"00018,2025-06-18,Recife,Colheitadeira,295000.00,107\"</td></tr><tr><td>\"00019,2025/06/19,Porto Alegre,Trator,148000.00,108\"</td></tr><tr><td>\"00020,2025-06-20,Salvador,Pulverizador,85000.00,109\"</td></tr><tr><td>\"00021,2025/06/21,S. Paulo,Colheitadeira,305000.00,101\"</td></tr><tr><td>\"00022,2025-06-22,Rio de janeiro,Trator,153000.00,102\"</td></tr><tr><td>\"00023,2025/06/23,Belo Horizonte,Pulverizador,79000.00,103\"</td></tr><tr><td>\"00024,2025-06-24,Florianopolis,Colheitadeira,285000.00,104\"</td></tr><tr><td>\"00025,2025-06-25,Brasilia,Trator,165000.00,105\"</td></tr><tr><td>\"00026,2025-06-26,Curitiba,Pulverizdor,76000.00,106\"</td></tr><tr><td>\"00027,2025/06/27,Recife,Colheitadeira,288000.00,107\"</td></tr><tr><td>\"00028,2025-06-28,Porto Alegre,Trator,149000.00,108\"</td></tr><tr><td>\"00029,2025/06/29,Salvador,Pulverizador,81000.00,109\"</td></tr><tr><td>\"00030,2025-06-30,São Paulo,Colheitadeira,312000.00,101\"</td></tr><tr><td>\"00031,2025/07/01,Rio de Janeiro,Trator,157000.00,102\"</td></tr><tr><td>\"00032,2025-07-02,Belo Horizote,Pulverizador,83000.00,103\"</td></tr><tr><td>\"00033,2025/07/03,Florianopolis,Colheitadeira,292000.00,104\"</td></tr><tr><td>\"00034,2025-07-04,Brasília,Trator,168000.00,105\"</td></tr><tr><td>\"00035,2025-07-05,Curitiba,Pulverizador,77000.00,106\"</td></tr><tr><td>\"00036,2025-07-06,Recife,Colheitadeira,298000.00,107\"</td></tr><tr><td>\"00037,2025-07-07,Porto Alegre,Trator,151000.00,108\"</td></tr><tr><td>\"00038,2025-07-08,Salvador,Pulverizador,86000.00,109\"</td></tr><tr><td>\"00039,2025-07-09,São Paulo,Colheitadeira,315000.00,101\"</td></tr><tr><td>\"00040,2025-07-10,Rio de Janeiro,Trator,159000.00,102\"</td></tr><tr><td>\"00041,2025/07/11,Belo Horizonte,Pulverizador,84000.00,103\"</td></tr><tr><td>\"00042,2025-07-12,Florianópolis,Colheitadeira,297000.00,104\"</td></tr><tr><td>\"00043,2025-07-13,Brasilia,Trator,170000.00,105\"</td></tr><tr><td>\"00044,2025-07-14,Curitiba,Pulverizador,79000.00,106\"</td></tr><tr><td>\"00045,2025/07/15,Recife,Colheitadeira,301000.00,107\"</td></tr><tr><td>\"00046,2025-07-16,Porto Alegre,Trator,153000.00,108\"</td></tr><tr><td>\"00047,2025/07/17,Salvador,Pulverizador,88000.00,109\"</td></tr><tr><td>\"00048,2025-07-18,São Paulo,Colheitadeira,318000.00,101\"</td></tr><tr><td>\"00049,2025-07-19,Rio de Janeiro,Trator,161000.00,102\"</td></tr><tr><td>\"00050,2025/07/20,Belo Horizonte,Pulverizador,85000.00,103\"</td></tr><tr><td>\"00051,2025-07-21,Florianopolis,Colheitadeira,305000.00,104\"</td></tr><tr><td>\"00052,2025/07/22,Brasilia,Trator,172000.00,105\"</td></tr><tr><td>\"00053,2025-07-23,Curitiba\"</td></tr></tbody></table></div>"
      ]
     },
     "metadata": {
      "application/vnd.databricks.v1+output": {
       "addedWidgets": {},
       "aggData": [],
       "aggError": "",
       "aggOverflow": false,
       "aggSchema": [],
       "aggSeriesLimitReached": false,
       "aggType": "",
       "arguments": {},
       "columnCustomDisplayInfos": {},
       "data": [
        [
         "\"id_venda,data_venda,local_venda,tipo_maquina,valor_total,revendedor_id\""
        ],
        [
         "\"id\\_venda,data\\_venda,local\\_venda,tipo\\_maquina,valor\\_total,revendedor\\_id\""
        ],
        [
         "\"1,2025-06-01,Sao Paulo,Trator,150000.00,101\""
        ],
        [
         "\"2,2025-06-02, Rio de Janeiro,Colheitadeira,300000.00,102\""
        ],
        [
         "\"3,2025-06-03,S. Paulo,Pulverizador,80000.00,101\""
        ],
        [
         "\"4,2025-006-04,Belo Horizote,Trator,160000.00,103\""
        ],
        [
         "\"5,2025-06-05,Florianopolis,,200000.00,104\""
        ],
        [
         "\"6,2025-06-06,Brasilia,Colheitadeira,280000.00,105\""
        ],
        [
         "\"7,2025-06-07,RIO DE JANEIRO,Pulverizador,75000.00,102\""
        ],
        [
         "\"8,2025-06-08,Curitiba,Trator,145000.00,106\""
        ],
        [
         "\"9,2025-06-09,São Paulo,Colheitadeira,310000.00,101\""
        ],
        [
         "\"10,2025-06-10,Recife,Trator,130000.00,107\""
        ],
        [
         "\"00011,2025/06/11,Porto Alegre,Pulverizdor,90000.00,108\""
        ],
        [
         "\"00012,2025-06-12,Salvador,Colheitadeira,290000.00,109\""
        ],
        [
         "\"00013,2025/06/13,Sao Paulo,Trator,155000.00,101\""
        ],
        [
         "\"00014,2025-06-14,Rio de Janeiro,Pulverizador,82000.00,102\""
        ],
        [
         "\"00015,2025/06/15,Belo Horizonte,Colhetadeira,275000.00,103\""
        ],
        [
         "\"00016,2025-06-16,Brasília,Trator,162000.00,105\""
        ],
        [
         "\"00017,2025/06/17,Curitiba,Pulverizador,78000.00,106\""
        ],
        [
         "\"00018,2025-06-18,Recife,Colheitadeira,295000.00,107\""
        ],
        [
         "\"00019,2025/06/19,Porto Alegre,Trator,148000.00,108\""
        ],
        [
         "\"00020,2025-06-20,Salvador,Pulverizador,85000.00,109\""
        ],
        [
         "\"00021,2025/06/21,S. Paulo,Colheitadeira,305000.00,101\""
        ],
        [
         "\"00022,2025-06-22,Rio de janeiro,Trator,153000.00,102\""
        ],
        [
         "\"00023,2025/06/23,Belo Horizonte,Pulverizador,79000.00,103\""
        ],
        [
         "\"00024,2025-06-24,Florianopolis,Colheitadeira,285000.00,104\""
        ],
        [
         "\"00025,2025-06-25,Brasilia,Trator,165000.00,105\""
        ],
        [
         "\"00026,2025-06-26,Curitiba,Pulverizdor,76000.00,106\""
        ],
        [
         "\"00027,2025/06/27,Recife,Colheitadeira,288000.00,107\""
        ],
        [
         "\"00028,2025-06-28,Porto Alegre,Trator,149000.00,108\""
        ],
        [
         "\"00029,2025/06/29,Salvador,Pulverizador,81000.00,109\""
        ],
        [
         "\"00030,2025-06-30,São Paulo,Colheitadeira,312000.00,101\""
        ],
        [
         "\"00031,2025/07/01,Rio de Janeiro,Trator,157000.00,102\""
        ],
        [
         "\"00032,2025-07-02,Belo Horizote,Pulverizador,83000.00,103\""
        ],
        [
         "\"00033,2025/07/03,Florianopolis,Colheitadeira,292000.00,104\""
        ],
        [
         "\"00034,2025-07-04,Brasília,Trator,168000.00,105\""
        ],
        [
         "\"00035,2025-07-05,Curitiba,Pulverizador,77000.00,106\""
        ],
        [
         "\"00036,2025-07-06,Recife,Colheitadeira,298000.00,107\""
        ],
        [
         "\"00037,2025-07-07,Porto Alegre,Trator,151000.00,108\""
        ],
        [
         "\"00038,2025-07-08,Salvador,Pulverizador,86000.00,109\""
        ],
        [
         "\"00039,2025-07-09,São Paulo,Colheitadeira,315000.00,101\""
        ],
        [
         "\"00040,2025-07-10,Rio de Janeiro,Trator,159000.00,102\""
        ],
        [
         "\"00041,2025/07/11,Belo Horizonte,Pulverizador,84000.00,103\""
        ],
        [
         "\"00042,2025-07-12,Florianópolis,Colheitadeira,297000.00,104\""
        ],
        [
         "\"00043,2025-07-13,Brasilia,Trator,170000.00,105\""
        ],
        [
         "\"00044,2025-07-14,Curitiba,Pulverizador,79000.00,106\""
        ],
        [
         "\"00045,2025/07/15,Recife,Colheitadeira,301000.00,107\""
        ],
        [
         "\"00046,2025-07-16,Porto Alegre,Trator,153000.00,108\""
        ],
        [
         "\"00047,2025/07/17,Salvador,Pulverizador,88000.00,109\""
        ],
        [
         "\"00048,2025-07-18,São Paulo,Colheitadeira,318000.00,101\""
        ],
        [
         "\"00049,2025-07-19,Rio de Janeiro,Trator,161000.00,102\""
        ],
        [
         "\"00050,2025/07/20,Belo Horizonte,Pulverizador,85000.00,103\""
        ],
        [
         "\"00051,2025-07-21,Florianopolis,Colheitadeira,305000.00,104\""
        ],
        [
         "\"00052,2025/07/22,Brasilia,Trator,172000.00,105\""
        ],
        [
         "\"00053,2025-07-23,Curitiba\""
        ]
       ],
       "datasetInfos": [],
       "dbfsResultPath": null,
       "isJsonSchema": true,
       "metadata": {},
       "overflow": false,
       "plotOptions": {
        "customPlotOptions": {},
        "displayType": "table",
        "pivotAggregation": null,
        "pivotColumns": null,
        "xColumns": null,
        "yColumns": null
       },
       "removedWidgets": [],
       "schema": [
        {
         "metadata": "{}",
         "name": "value",
         "type": "\"string\""
        }
       ],
       "type": "table"
      }
     },
     "output_type": "display_data"
    }
   ],
   "source": [
    "\n",
    "# passo 1: PROCESSAMENTO DO ARQUIVO DE VENDAS\n",
    "\n",
    "#através do .text é possível acessar os dados, visto que com o .csv foi impossível realizar a leitura\n",
    "\n",
    "\n",
    "from pyspark.sql import SparkSession\n",
    "from pyspark.sql.functions import col, split\n",
    "from pyspark.sql.functions import col, to_date, trim, when, regexp_replace, monotonically_increasing_id, split, size, lower, translate, exists, transform, count, sum, split\n",
    "\n",
    "file_path_vendas = \"/Volumes/workspace/default/ray/vendas.csv\"\n",
    "file_path_cotacoes = \"/Volumes/workspace/default/ray/cotacoes.csv\"\n",
    "\n",
    "\n",
    "df_vendas_raw = spark.read.text(file_path_vendas)\n",
    "display(df_vendas_raw)\n"
   ]
  },
  {
   "cell_type": "code",
   "execution_count": 0,
   "metadata": {
    "application/vnd.databricks.v1+cell": {
     "cellMetadata": {
      "byteLimit": 2048000,
      "rowLimit": 10000
     },
     "inputWidgets": {},
     "nuid": "94eef149-cda4-4b85-8d71-40bba18f61e0",
     "showTitle": false,
     "tableResultSettingsMap": {},
     "title": ""
    }
   },
   "outputs": [],
   "source": [
    "# Passo 2: removendo os dois cabeçalhos inúteis \n",
    "\n",
    "df_vendas_indexed = df_vendas_raw.withColumn(\"index\", monotonically_increasing_id())\n",
    "\n",
    "df_vendas_datalines = df_vendas_indexed.filter(col(\"index\") > 1).drop(\"index\")"
   ]
  },
  {
   "cell_type": "code",
   "execution_count": 0,
   "metadata": {
    "application/vnd.databricks.v1+cell": {
     "cellMetadata": {
      "byteLimit": 2048000,
      "rowLimit": 10000
     },
     "inputWidgets": {},
     "nuid": "753657ff-83aa-40dd-8a1d-d4ba652bbed0",
     "showTitle": false,
     "tableResultSettingsMap": {},
     "title": ""
    }
   },
   "outputs": [],
   "source": [
    "# Passo 3: Limpeza das Strings, retirando acentos\n",
    "\n",
    "df_vendas_cleaned_str = df_vendas_datalines.withColumn(\"value\", regexp_replace(col(\"value\"), '^\"|\"$', ''))\n",
    "\n",
    "caracteres_acentuados = 'áàâãéèêíìîóòôõúùûçÁÀÂÃÉÈÊÍÌÎÓÒÔÕÚÙÛÇ'\n",
    "caracteres_nao_acentuados = 'aaaaeeeiiioooouuucAAAAEEEIIIOOOUUUC'\n",
    "\n",
    "df_vendas_cleaned_str = df_vendas_cleaned_str.withColumn(\"value\", translate(col(\"value\"), caracteres_acentuados, caracteres_nao_acentuados))\n"
   ]
  },
  {
   "cell_type": "code",
   "execution_count": 0,
   "metadata": {
    "application/vnd.databricks.v1+cell": {
     "cellMetadata": {
      "byteLimit": 2048000,
      "rowLimit": 10000
     },
     "inputWidgets": {},
     "nuid": "fbff2495-66f4-42b9-9d22-c40f30eb2125",
     "showTitle": false,
     "tableResultSettingsMap": {},
     "title": ""
    }
   },
   "outputs": [
    {
     "output_type": "display_data",
     "data": {
      "text/html": [
       "<style scoped>\n",
       "  .table-result-container {\n",
       "    max-height: 300px;\n",
       "    overflow: auto;\n",
       "  }\n",
       "  table, th, td {\n",
       "    border: 1px solid black;\n",
       "    border-collapse: collapse;\n",
       "  }\n",
       "  th, td {\n",
       "    padding: 5px;\n",
       "  }\n",
       "  th {\n",
       "    text-align: left;\n",
       "  }\n",
       "</style><div class='table-result-container'><table class='table-result'><thead style='background-color: white'><tr><th>value</th><th>data_array</th></tr></thead><tbody><tr><td>1,2025-06-01,Sao Paulo,Trator,150000.00,101</td><td>List(1, 2025-06-01, Sao Paulo, Trator, 150000.00, 101)</td></tr><tr><td>2,2025-06-02, Rio de Janeiro,Colheitadeira,300000.00,102</td><td>List(2, 2025-06-02,  Rio de Janeiro, Colheitadeira, 300000.00, 102)</td></tr><tr><td>3,2025-06-03,S. Paulo,Pulverizador,80000.00,101</td><td>List(3, 2025-06-03, S. Paulo, Pulverizador, 80000.00, 101)</td></tr><tr><td>4,2025-006-04,Belo Horizote,Trator,160000.00,103</td><td>List(4, 2025-006-04, Belo Horizote, Trator, 160000.00, 103)</td></tr><tr><td>5,2025-06-05,Florianopolis,,200000.00,104</td><td>List(5, 2025-06-05, Florianopolis, , 200000.00, 104)</td></tr><tr><td>6,2025-06-06,Brasilia,Colheitadeira,280000.00,105</td><td>List(6, 2025-06-06, Brasilia, Colheitadeira, 280000.00, 105)</td></tr><tr><td>7,2025-06-07,RIO DE JANEIRO,Pulverizador,75000.00,102</td><td>List(7, 2025-06-07, RIO DE JANEIRO, Pulverizador, 75000.00, 102)</td></tr><tr><td>8,2025-06-08,Curitiba,Trator,145000.00,106</td><td>List(8, 2025-06-08, Curitiba, Trator, 145000.00, 106)</td></tr><tr><td>9,2025-06-09,Sao Paulo,Colheitadeira,310000.00,101</td><td>List(9, 2025-06-09, Sao Paulo, Colheitadeira, 310000.00, 101)</td></tr><tr><td>10,2025-06-10,Recife,Trator,130000.00,107</td><td>List(10, 2025-06-10, Recife, Trator, 130000.00, 107)</td></tr><tr><td>00011,2025/06/11,Porto Alegre,Pulverizdor,90000.00,108</td><td>List(00011, 2025/06/11, Porto Alegre, Pulverizdor, 90000.00, 108)</td></tr><tr><td>00012,2025-06-12,Salvador,Colheitadeira,290000.00,109</td><td>List(00012, 2025-06-12, Salvador, Colheitadeira, 290000.00, 109)</td></tr><tr><td>00013,2025/06/13,Sao Paulo,Trator,155000.00,101</td><td>List(00013, 2025/06/13, Sao Paulo, Trator, 155000.00, 101)</td></tr><tr><td>00014,2025-06-14,Rio de Janeiro,Pulverizador,82000.00,102</td><td>List(00014, 2025-06-14, Rio de Janeiro, Pulverizador, 82000.00, 102)</td></tr><tr><td>00015,2025/06/15,Belo Horizonte,Colhetadeira,275000.00,103</td><td>List(00015, 2025/06/15, Belo Horizonte, Colhetadeira, 275000.00, 103)</td></tr><tr><td>00016,2025-06-16,Brasilia,Trator,162000.00,105</td><td>List(00016, 2025-06-16, Brasilia, Trator, 162000.00, 105)</td></tr><tr><td>00017,2025/06/17,Curitiba,Pulverizador,78000.00,106</td><td>List(00017, 2025/06/17, Curitiba, Pulverizador, 78000.00, 106)</td></tr><tr><td>00018,2025-06-18,Recife,Colheitadeira,295000.00,107</td><td>List(00018, 2025-06-18, Recife, Colheitadeira, 295000.00, 107)</td></tr><tr><td>00019,2025/06/19,Porto Alegre,Trator,148000.00,108</td><td>List(00019, 2025/06/19, Porto Alegre, Trator, 148000.00, 108)</td></tr><tr><td>00020,2025-06-20,Salvador,Pulverizador,85000.00,109</td><td>List(00020, 2025-06-20, Salvador, Pulverizador, 85000.00, 109)</td></tr><tr><td>00021,2025/06/21,S. Paulo,Colheitadeira,305000.00,101</td><td>List(00021, 2025/06/21, S. Paulo, Colheitadeira, 305000.00, 101)</td></tr><tr><td>00022,2025-06-22,Rio de janeiro,Trator,153000.00,102</td><td>List(00022, 2025-06-22, Rio de janeiro, Trator, 153000.00, 102)</td></tr><tr><td>00023,2025/06/23,Belo Horizonte,Pulverizador,79000.00,103</td><td>List(00023, 2025/06/23, Belo Horizonte, Pulverizador, 79000.00, 103)</td></tr><tr><td>00024,2025-06-24,Florianopolis,Colheitadeira,285000.00,104</td><td>List(00024, 2025-06-24, Florianopolis, Colheitadeira, 285000.00, 104)</td></tr><tr><td>00025,2025-06-25,Brasilia,Trator,165000.00,105</td><td>List(00025, 2025-06-25, Brasilia, Trator, 165000.00, 105)</td></tr><tr><td>00026,2025-06-26,Curitiba,Pulverizdor,76000.00,106</td><td>List(00026, 2025-06-26, Curitiba, Pulverizdor, 76000.00, 106)</td></tr><tr><td>00027,2025/06/27,Recife,Colheitadeira,288000.00,107</td><td>List(00027, 2025/06/27, Recife, Colheitadeira, 288000.00, 107)</td></tr><tr><td>00028,2025-06-28,Porto Alegre,Trator,149000.00,108</td><td>List(00028, 2025-06-28, Porto Alegre, Trator, 149000.00, 108)</td></tr><tr><td>00029,2025/06/29,Salvador,Pulverizador,81000.00,109</td><td>List(00029, 2025/06/29, Salvador, Pulverizador, 81000.00, 109)</td></tr><tr><td>00030,2025-06-30,Sao Paulo,Colheitadeira,312000.00,101</td><td>List(00030, 2025-06-30, Sao Paulo, Colheitadeira, 312000.00, 101)</td></tr><tr><td>00031,2025/07/01,Rio de Janeiro,Trator,157000.00,102</td><td>List(00031, 2025/07/01, Rio de Janeiro, Trator, 157000.00, 102)</td></tr><tr><td>00032,2025-07-02,Belo Horizote,Pulverizador,83000.00,103</td><td>List(00032, 2025-07-02, Belo Horizote, Pulverizador, 83000.00, 103)</td></tr><tr><td>00033,2025/07/03,Florianopolis,Colheitadeira,292000.00,104</td><td>List(00033, 2025/07/03, Florianopolis, Colheitadeira, 292000.00, 104)</td></tr><tr><td>00034,2025-07-04,Brasilia,Trator,168000.00,105</td><td>List(00034, 2025-07-04, Brasilia, Trator, 168000.00, 105)</td></tr><tr><td>00035,2025-07-05,Curitiba,Pulverizador,77000.00,106</td><td>List(00035, 2025-07-05, Curitiba, Pulverizador, 77000.00, 106)</td></tr><tr><td>00036,2025-07-06,Recife,Colheitadeira,298000.00,107</td><td>List(00036, 2025-07-06, Recife, Colheitadeira, 298000.00, 107)</td></tr><tr><td>00037,2025-07-07,Porto Alegre,Trator,151000.00,108</td><td>List(00037, 2025-07-07, Porto Alegre, Trator, 151000.00, 108)</td></tr><tr><td>00038,2025-07-08,Salvador,Pulverizador,86000.00,109</td><td>List(00038, 2025-07-08, Salvador, Pulverizador, 86000.00, 109)</td></tr><tr><td>00039,2025-07-09,Sao Paulo,Colheitadeira,315000.00,101</td><td>List(00039, 2025-07-09, Sao Paulo, Colheitadeira, 315000.00, 101)</td></tr><tr><td>00040,2025-07-10,Rio de Janeiro,Trator,159000.00,102</td><td>List(00040, 2025-07-10, Rio de Janeiro, Trator, 159000.00, 102)</td></tr><tr><td>00041,2025/07/11,Belo Horizonte,Pulverizador,84000.00,103</td><td>List(00041, 2025/07/11, Belo Horizonte, Pulverizador, 84000.00, 103)</td></tr><tr><td>00042,2025-07-12,Florianopolis,Colheitadeira,297000.00,104</td><td>List(00042, 2025-07-12, Florianopolis, Colheitadeira, 297000.00, 104)</td></tr><tr><td>00043,2025-07-13,Brasilia,Trator,170000.00,105</td><td>List(00043, 2025-07-13, Brasilia, Trator, 170000.00, 105)</td></tr><tr><td>00044,2025-07-14,Curitiba,Pulverizador,79000.00,106</td><td>List(00044, 2025-07-14, Curitiba, Pulverizador, 79000.00, 106)</td></tr><tr><td>00045,2025/07/15,Recife,Colheitadeira,301000.00,107</td><td>List(00045, 2025/07/15, Recife, Colheitadeira, 301000.00, 107)</td></tr><tr><td>00046,2025-07-16,Porto Alegre,Trator,153000.00,108</td><td>List(00046, 2025-07-16, Porto Alegre, Trator, 153000.00, 108)</td></tr><tr><td>00047,2025/07/17,Salvador,Pulverizador,88000.00,109</td><td>List(00047, 2025/07/17, Salvador, Pulverizador, 88000.00, 109)</td></tr><tr><td>00048,2025-07-18,Sao Paulo,Colheitadeira,318000.00,101</td><td>List(00048, 2025-07-18, Sao Paulo, Colheitadeira, 318000.00, 101)</td></tr><tr><td>00049,2025-07-19,Rio de Janeiro,Trator,161000.00,102</td><td>List(00049, 2025-07-19, Rio de Janeiro, Trator, 161000.00, 102)</td></tr><tr><td>00050,2025/07/20,Belo Horizonte,Pulverizador,85000.00,103</td><td>List(00050, 2025/07/20, Belo Horizonte, Pulverizador, 85000.00, 103)</td></tr><tr><td>00051,2025-07-21,Florianopolis,Colheitadeira,305000.00,104</td><td>List(00051, 2025-07-21, Florianopolis, Colheitadeira, 305000.00, 104)</td></tr><tr><td>00052,2025/07/22,Brasilia,Trator,172000.00,105</td><td>List(00052, 2025/07/22, Brasilia, Trator, 172000.00, 105)</td></tr><tr><td>00053,2025-07-23,Curitiba</td><td>List(00053, 2025-07-23, Curitiba)</td></tr></tbody></table></div>"
      ]
     },
     "metadata": {
      "application/vnd.databricks.v1+output": {
       "addedWidgets": {},
       "aggData": [],
       "aggError": "",
       "aggOverflow": false,
       "aggSchema": [],
       "aggSeriesLimitReached": false,
       "aggType": "",
       "arguments": {},
       "columnCustomDisplayInfos": {},
       "data": [
        [
         "1,2025-06-01,Sao Paulo,Trator,150000.00,101",
         [
          "1",
          "2025-06-01",
          "Sao Paulo",
          "Trator",
          "150000.00",
          "101"
         ]
        ],
        [
         "2,2025-06-02, Rio de Janeiro,Colheitadeira,300000.00,102",
         [
          "2",
          "2025-06-02",
          " Rio de Janeiro",
          "Colheitadeira",
          "300000.00",
          "102"
         ]
        ],
        [
         "3,2025-06-03,S. Paulo,Pulverizador,80000.00,101",
         [
          "3",
          "2025-06-03",
          "S. Paulo",
          "Pulverizador",
          "80000.00",
          "101"
         ]
        ],
        [
         "4,2025-006-04,Belo Horizote,Trator,160000.00,103",
         [
          "4",
          "2025-006-04",
          "Belo Horizote",
          "Trator",
          "160000.00",
          "103"
         ]
        ],
        [
         "5,2025-06-05,Florianopolis,,200000.00,104",
         [
          "5",
          "2025-06-05",
          "Florianopolis",
          "",
          "200000.00",
          "104"
         ]
        ],
        [
         "6,2025-06-06,Brasilia,Colheitadeira,280000.00,105",
         [
          "6",
          "2025-06-06",
          "Brasilia",
          "Colheitadeira",
          "280000.00",
          "105"
         ]
        ],
        [
         "7,2025-06-07,RIO DE JANEIRO,Pulverizador,75000.00,102",
         [
          "7",
          "2025-06-07",
          "RIO DE JANEIRO",
          "Pulverizador",
          "75000.00",
          "102"
         ]
        ],
        [
         "8,2025-06-08,Curitiba,Trator,145000.00,106",
         [
          "8",
          "2025-06-08",
          "Curitiba",
          "Trator",
          "145000.00",
          "106"
         ]
        ],
        [
         "9,2025-06-09,Sao Paulo,Colheitadeira,310000.00,101",
         [
          "9",
          "2025-06-09",
          "Sao Paulo",
          "Colheitadeira",
          "310000.00",
          "101"
         ]
        ],
        [
         "10,2025-06-10,Recife,Trator,130000.00,107",
         [
          "10",
          "2025-06-10",
          "Recife",
          "Trator",
          "130000.00",
          "107"
         ]
        ],
        [
         "00011,2025/06/11,Porto Alegre,Pulverizdor,90000.00,108",
         [
          "00011",
          "2025/06/11",
          "Porto Alegre",
          "Pulverizdor",
          "90000.00",
          "108"
         ]
        ],
        [
         "00012,2025-06-12,Salvador,Colheitadeira,290000.00,109",
         [
          "00012",
          "2025-06-12",
          "Salvador",
          "Colheitadeira",
          "290000.00",
          "109"
         ]
        ],
        [
         "00013,2025/06/13,Sao Paulo,Trator,155000.00,101",
         [
          "00013",
          "2025/06/13",
          "Sao Paulo",
          "Trator",
          "155000.00",
          "101"
         ]
        ],
        [
         "00014,2025-06-14,Rio de Janeiro,Pulverizador,82000.00,102",
         [
          "00014",
          "2025-06-14",
          "Rio de Janeiro",
          "Pulverizador",
          "82000.00",
          "102"
         ]
        ],
        [
         "00015,2025/06/15,Belo Horizonte,Colhetadeira,275000.00,103",
         [
          "00015",
          "2025/06/15",
          "Belo Horizonte",
          "Colhetadeira",
          "275000.00",
          "103"
         ]
        ],
        [
         "00016,2025-06-16,Brasilia,Trator,162000.00,105",
         [
          "00016",
          "2025-06-16",
          "Brasilia",
          "Trator",
          "162000.00",
          "105"
         ]
        ],
        [
         "00017,2025/06/17,Curitiba,Pulverizador,78000.00,106",
         [
          "00017",
          "2025/06/17",
          "Curitiba",
          "Pulverizador",
          "78000.00",
          "106"
         ]
        ],
        [
         "00018,2025-06-18,Recife,Colheitadeira,295000.00,107",
         [
          "00018",
          "2025-06-18",
          "Recife",
          "Colheitadeira",
          "295000.00",
          "107"
         ]
        ],
        [
         "00019,2025/06/19,Porto Alegre,Trator,148000.00,108",
         [
          "00019",
          "2025/06/19",
          "Porto Alegre",
          "Trator",
          "148000.00",
          "108"
         ]
        ],
        [
         "00020,2025-06-20,Salvador,Pulverizador,85000.00,109",
         [
          "00020",
          "2025-06-20",
          "Salvador",
          "Pulverizador",
          "85000.00",
          "109"
         ]
        ],
        [
         "00021,2025/06/21,S. Paulo,Colheitadeira,305000.00,101",
         [
          "00021",
          "2025/06/21",
          "S. Paulo",
          "Colheitadeira",
          "305000.00",
          "101"
         ]
        ],
        [
         "00022,2025-06-22,Rio de janeiro,Trator,153000.00,102",
         [
          "00022",
          "2025-06-22",
          "Rio de janeiro",
          "Trator",
          "153000.00",
          "102"
         ]
        ],
        [
         "00023,2025/06/23,Belo Horizonte,Pulverizador,79000.00,103",
         [
          "00023",
          "2025/06/23",
          "Belo Horizonte",
          "Pulverizador",
          "79000.00",
          "103"
         ]
        ],
        [
         "00024,2025-06-24,Florianopolis,Colheitadeira,285000.00,104",
         [
          "00024",
          "2025-06-24",
          "Florianopolis",
          "Colheitadeira",
          "285000.00",
          "104"
         ]
        ],
        [
         "00025,2025-06-25,Brasilia,Trator,165000.00,105",
         [
          "00025",
          "2025-06-25",
          "Brasilia",
          "Trator",
          "165000.00",
          "105"
         ]
        ],
        [
         "00026,2025-06-26,Curitiba,Pulverizdor,76000.00,106",
         [
          "00026",
          "2025-06-26",
          "Curitiba",
          "Pulverizdor",
          "76000.00",
          "106"
         ]
        ],
        [
         "00027,2025/06/27,Recife,Colheitadeira,288000.00,107",
         [
          "00027",
          "2025/06/27",
          "Recife",
          "Colheitadeira",
          "288000.00",
          "107"
         ]
        ],
        [
         "00028,2025-06-28,Porto Alegre,Trator,149000.00,108",
         [
          "00028",
          "2025-06-28",
          "Porto Alegre",
          "Trator",
          "149000.00",
          "108"
         ]
        ],
        [
         "00029,2025/06/29,Salvador,Pulverizador,81000.00,109",
         [
          "00029",
          "2025/06/29",
          "Salvador",
          "Pulverizador",
          "81000.00",
          "109"
         ]
        ],
        [
         "00030,2025-06-30,Sao Paulo,Colheitadeira,312000.00,101",
         [
          "00030",
          "2025-06-30",
          "Sao Paulo",
          "Colheitadeira",
          "312000.00",
          "101"
         ]
        ],
        [
         "00031,2025/07/01,Rio de Janeiro,Trator,157000.00,102",
         [
          "00031",
          "2025/07/01",
          "Rio de Janeiro",
          "Trator",
          "157000.00",
          "102"
         ]
        ],
        [
         "00032,2025-07-02,Belo Horizote,Pulverizador,83000.00,103",
         [
          "00032",
          "2025-07-02",
          "Belo Horizote",
          "Pulverizador",
          "83000.00",
          "103"
         ]
        ],
        [
         "00033,2025/07/03,Florianopolis,Colheitadeira,292000.00,104",
         [
          "00033",
          "2025/07/03",
          "Florianopolis",
          "Colheitadeira",
          "292000.00",
          "104"
         ]
        ],
        [
         "00034,2025-07-04,Brasilia,Trator,168000.00,105",
         [
          "00034",
          "2025-07-04",
          "Brasilia",
          "Trator",
          "168000.00",
          "105"
         ]
        ],
        [
         "00035,2025-07-05,Curitiba,Pulverizador,77000.00,106",
         [
          "00035",
          "2025-07-05",
          "Curitiba",
          "Pulverizador",
          "77000.00",
          "106"
         ]
        ],
        [
         "00036,2025-07-06,Recife,Colheitadeira,298000.00,107",
         [
          "00036",
          "2025-07-06",
          "Recife",
          "Colheitadeira",
          "298000.00",
          "107"
         ]
        ],
        [
         "00037,2025-07-07,Porto Alegre,Trator,151000.00,108",
         [
          "00037",
          "2025-07-07",
          "Porto Alegre",
          "Trator",
          "151000.00",
          "108"
         ]
        ],
        [
         "00038,2025-07-08,Salvador,Pulverizador,86000.00,109",
         [
          "00038",
          "2025-07-08",
          "Salvador",
          "Pulverizador",
          "86000.00",
          "109"
         ]
        ],
        [
         "00039,2025-07-09,Sao Paulo,Colheitadeira,315000.00,101",
         [
          "00039",
          "2025-07-09",
          "Sao Paulo",
          "Colheitadeira",
          "315000.00",
          "101"
         ]
        ],
        [
         "00040,2025-07-10,Rio de Janeiro,Trator,159000.00,102",
         [
          "00040",
          "2025-07-10",
          "Rio de Janeiro",
          "Trator",
          "159000.00",
          "102"
         ]
        ],
        [
         "00041,2025/07/11,Belo Horizonte,Pulverizador,84000.00,103",
         [
          "00041",
          "2025/07/11",
          "Belo Horizonte",
          "Pulverizador",
          "84000.00",
          "103"
         ]
        ],
        [
         "00042,2025-07-12,Florianopolis,Colheitadeira,297000.00,104",
         [
          "00042",
          "2025-07-12",
          "Florianopolis",
          "Colheitadeira",
          "297000.00",
          "104"
         ]
        ],
        [
         "00043,2025-07-13,Brasilia,Trator,170000.00,105",
         [
          "00043",
          "2025-07-13",
          "Brasilia",
          "Trator",
          "170000.00",
          "105"
         ]
        ],
        [
         "00044,2025-07-14,Curitiba,Pulverizador,79000.00,106",
         [
          "00044",
          "2025-07-14",
          "Curitiba",
          "Pulverizador",
          "79000.00",
          "106"
         ]
        ],
        [
         "00045,2025/07/15,Recife,Colheitadeira,301000.00,107",
         [
          "00045",
          "2025/07/15",
          "Recife",
          "Colheitadeira",
          "301000.00",
          "107"
         ]
        ],
        [
         "00046,2025-07-16,Porto Alegre,Trator,153000.00,108",
         [
          "00046",
          "2025-07-16",
          "Porto Alegre",
          "Trator",
          "153000.00",
          "108"
         ]
        ],
        [
         "00047,2025/07/17,Salvador,Pulverizador,88000.00,109",
         [
          "00047",
          "2025/07/17",
          "Salvador",
          "Pulverizador",
          "88000.00",
          "109"
         ]
        ],
        [
         "00048,2025-07-18,Sao Paulo,Colheitadeira,318000.00,101",
         [
          "00048",
          "2025-07-18",
          "Sao Paulo",
          "Colheitadeira",
          "318000.00",
          "101"
         ]
        ],
        [
         "00049,2025-07-19,Rio de Janeiro,Trator,161000.00,102",
         [
          "00049",
          "2025-07-19",
          "Rio de Janeiro",
          "Trator",
          "161000.00",
          "102"
         ]
        ],
        [
         "00050,2025/07/20,Belo Horizonte,Pulverizador,85000.00,103",
         [
          "00050",
          "2025/07/20",
          "Belo Horizonte",
          "Pulverizador",
          "85000.00",
          "103"
         ]
        ],
        [
         "00051,2025-07-21,Florianopolis,Colheitadeira,305000.00,104",
         [
          "00051",
          "2025-07-21",
          "Florianopolis",
          "Colheitadeira",
          "305000.00",
          "104"
         ]
        ],
        [
         "00052,2025/07/22,Brasilia,Trator,172000.00,105",
         [
          "00052",
          "2025/07/22",
          "Brasilia",
          "Trator",
          "172000.00",
          "105"
         ]
        ],
        [
         "00053,2025-07-23,Curitiba",
         [
          "00053",
          "2025-07-23",
          "Curitiba"
         ]
        ]
       ],
       "datasetInfos": [],
       "dbfsResultPath": null,
       "isJsonSchema": true,
       "metadata": {},
       "overflow": false,
       "plotOptions": {
        "customPlotOptions": {},
        "displayType": "table",
        "pivotAggregation": null,
        "pivotColumns": null,
        "xColumns": null,
        "yColumns": null
       },
       "removedWidgets": [],
       "schema": [
        {
         "metadata": "{}",
         "name": "value",
         "type": "\"string\""
        },
        {
         "metadata": "{}",
         "name": "data_array",
         "type": "{\"containsNull\":false,\"elementType\":\"string\",\"type\":\"array\"}"
        }
       ],
       "type": "table"
      }
     },
     "output_type": "display_data"
    }
   ],
   "source": [
    "# Passo 4: Divisão da String em um Array\n",
    "# Dividindo as strings de cada linha em arrays de string\n",
    "df_vendas_split = df_vendas_cleaned_str.withColumn(\"data_array\", split(col(\"value\"), \",\"))\n",
    "\n",
    "display(df_vendas_split)\n"
   ]
  },
  {
   "cell_type": "code",
   "execution_count": 0,
   "metadata": {
    "application/vnd.databricks.v1+cell": {
     "cellMetadata": {
      "byteLimit": 2048000,
      "rowLimit": 10000
     },
     "inputWidgets": {},
     "nuid": "6884e480-255f-438a-9a5a-77ccceb3fb8b",
     "showTitle": false,
     "tableResultSettingsMap": {},
     "title": ""
    }
   },
   "outputs": [],
   "source": [
    "# Passo 5: Filtro para retirar linhas com dados incompletos \n",
    "#retirando do data frame linhas com tamanho diferente de 6 \n",
    "df_vendas_filtered = df_vendas_split.filter(size(col(\"data_array\")) == 6)"
   ]
  },
  {
   "cell_type": "code",
   "execution_count": 0,
   "metadata": {
    "application/vnd.databricks.v1+cell": {
     "cellMetadata": {
      "byteLimit": 2048000,
      "rowLimit": 10000
     },
     "inputWidgets": {},
     "nuid": "8d583e69-e45a-4fbf-b75f-f3d6815d40f4",
     "showTitle": false,
     "tableResultSettingsMap": {},
     "title": ""
    }
   },
   "outputs": [
    {
     "output_type": "display_data",
     "data": {
      "text/html": [
       "<style scoped>\n",
       "  .table-result-container {\n",
       "    max-height: 300px;\n",
       "    overflow: auto;\n",
       "  }\n",
       "  table, th, td {\n",
       "    border: 1px solid black;\n",
       "    border-collapse: collapse;\n",
       "  }\n",
       "  th, td {\n",
       "    padding: 5px;\n",
       "  }\n",
       "  th {\n",
       "    text-align: left;\n",
       "  }\n",
       "</style><div class='table-result-container'><table class='table-result'><thead style='background-color: white'><tr><th>id_venda</th><th>data_venda</th><th>local_venda</th><th>tipo_maquina</th><th>valor_total</th><th>revendedor_id</th></tr></thead><tbody><tr><td>1</td><td>2025-06-01</td><td>Sao Paulo</td><td>Trator</td><td>150000.00</td><td>101</td></tr><tr><td>2</td><td>2025-06-02</td><td> Rio de Janeiro</td><td>Colheitadeira</td><td>300000.00</td><td>102</td></tr><tr><td>3</td><td>2025-06-03</td><td>S. Paulo</td><td>Pulverizador</td><td>80000.00</td><td>101</td></tr><tr><td>4</td><td>2025-006-04</td><td>Belo Horizote</td><td>Trator</td><td>160000.00</td><td>103</td></tr><tr><td>5</td><td>2025-06-05</td><td>Florianopolis</td><td></td><td>200000.00</td><td>104</td></tr><tr><td>6</td><td>2025-06-06</td><td>Brasilia</td><td>Colheitadeira</td><td>280000.00</td><td>105</td></tr><tr><td>7</td><td>2025-06-07</td><td>RIO DE JANEIRO</td><td>Pulverizador</td><td>75000.00</td><td>102</td></tr><tr><td>8</td><td>2025-06-08</td><td>Curitiba</td><td>Trator</td><td>145000.00</td><td>106</td></tr><tr><td>9</td><td>2025-06-09</td><td>Sao Paulo</td><td>Colheitadeira</td><td>310000.00</td><td>101</td></tr><tr><td>10</td><td>2025-06-10</td><td>Recife</td><td>Trator</td><td>130000.00</td><td>107</td></tr><tr><td>00011</td><td>2025/06/11</td><td>Porto Alegre</td><td>Pulverizdor</td><td>90000.00</td><td>108</td></tr><tr><td>00012</td><td>2025-06-12</td><td>Salvador</td><td>Colheitadeira</td><td>290000.00</td><td>109</td></tr><tr><td>00013</td><td>2025/06/13</td><td>Sao Paulo</td><td>Trator</td><td>155000.00</td><td>101</td></tr><tr><td>00014</td><td>2025-06-14</td><td>Rio de Janeiro</td><td>Pulverizador</td><td>82000.00</td><td>102</td></tr><tr><td>00015</td><td>2025/06/15</td><td>Belo Horizonte</td><td>Colhetadeira</td><td>275000.00</td><td>103</td></tr><tr><td>00016</td><td>2025-06-16</td><td>Brasilia</td><td>Trator</td><td>162000.00</td><td>105</td></tr><tr><td>00017</td><td>2025/06/17</td><td>Curitiba</td><td>Pulverizador</td><td>78000.00</td><td>106</td></tr><tr><td>00018</td><td>2025-06-18</td><td>Recife</td><td>Colheitadeira</td><td>295000.00</td><td>107</td></tr><tr><td>00019</td><td>2025/06/19</td><td>Porto Alegre</td><td>Trator</td><td>148000.00</td><td>108</td></tr><tr><td>00020</td><td>2025-06-20</td><td>Salvador</td><td>Pulverizador</td><td>85000.00</td><td>109</td></tr><tr><td>00021</td><td>2025/06/21</td><td>S. Paulo</td><td>Colheitadeira</td><td>305000.00</td><td>101</td></tr><tr><td>00022</td><td>2025-06-22</td><td>Rio de janeiro</td><td>Trator</td><td>153000.00</td><td>102</td></tr><tr><td>00023</td><td>2025/06/23</td><td>Belo Horizonte</td><td>Pulverizador</td><td>79000.00</td><td>103</td></tr><tr><td>00024</td><td>2025-06-24</td><td>Florianopolis</td><td>Colheitadeira</td><td>285000.00</td><td>104</td></tr><tr><td>00025</td><td>2025-06-25</td><td>Brasilia</td><td>Trator</td><td>165000.00</td><td>105</td></tr><tr><td>00026</td><td>2025-06-26</td><td>Curitiba</td><td>Pulverizdor</td><td>76000.00</td><td>106</td></tr><tr><td>00027</td><td>2025/06/27</td><td>Recife</td><td>Colheitadeira</td><td>288000.00</td><td>107</td></tr><tr><td>00028</td><td>2025-06-28</td><td>Porto Alegre</td><td>Trator</td><td>149000.00</td><td>108</td></tr><tr><td>00029</td><td>2025/06/29</td><td>Salvador</td><td>Pulverizador</td><td>81000.00</td><td>109</td></tr><tr><td>00030</td><td>2025-06-30</td><td>Sao Paulo</td><td>Colheitadeira</td><td>312000.00</td><td>101</td></tr><tr><td>00031</td><td>2025/07/01</td><td>Rio de Janeiro</td><td>Trator</td><td>157000.00</td><td>102</td></tr><tr><td>00032</td><td>2025-07-02</td><td>Belo Horizote</td><td>Pulverizador</td><td>83000.00</td><td>103</td></tr><tr><td>00033</td><td>2025/07/03</td><td>Florianopolis</td><td>Colheitadeira</td><td>292000.00</td><td>104</td></tr><tr><td>00034</td><td>2025-07-04</td><td>Brasilia</td><td>Trator</td><td>168000.00</td><td>105</td></tr><tr><td>00035</td><td>2025-07-05</td><td>Curitiba</td><td>Pulverizador</td><td>77000.00</td><td>106</td></tr><tr><td>00036</td><td>2025-07-06</td><td>Recife</td><td>Colheitadeira</td><td>298000.00</td><td>107</td></tr><tr><td>00037</td><td>2025-07-07</td><td>Porto Alegre</td><td>Trator</td><td>151000.00</td><td>108</td></tr><tr><td>00038</td><td>2025-07-08</td><td>Salvador</td><td>Pulverizador</td><td>86000.00</td><td>109</td></tr><tr><td>00039</td><td>2025-07-09</td><td>Sao Paulo</td><td>Colheitadeira</td><td>315000.00</td><td>101</td></tr><tr><td>00040</td><td>2025-07-10</td><td>Rio de Janeiro</td><td>Trator</td><td>159000.00</td><td>102</td></tr><tr><td>00041</td><td>2025/07/11</td><td>Belo Horizonte</td><td>Pulverizador</td><td>84000.00</td><td>103</td></tr><tr><td>00042</td><td>2025-07-12</td><td>Florianopolis</td><td>Colheitadeira</td><td>297000.00</td><td>104</td></tr><tr><td>00043</td><td>2025-07-13</td><td>Brasilia</td><td>Trator</td><td>170000.00</td><td>105</td></tr><tr><td>00044</td><td>2025-07-14</td><td>Curitiba</td><td>Pulverizador</td><td>79000.00</td><td>106</td></tr><tr><td>00045</td><td>2025/07/15</td><td>Recife</td><td>Colheitadeira</td><td>301000.00</td><td>107</td></tr><tr><td>00046</td><td>2025-07-16</td><td>Porto Alegre</td><td>Trator</td><td>153000.00</td><td>108</td></tr><tr><td>00047</td><td>2025/07/17</td><td>Salvador</td><td>Pulverizador</td><td>88000.00</td><td>109</td></tr><tr><td>00048</td><td>2025-07-18</td><td>Sao Paulo</td><td>Colheitadeira</td><td>318000.00</td><td>101</td></tr><tr><td>00049</td><td>2025-07-19</td><td>Rio de Janeiro</td><td>Trator</td><td>161000.00</td><td>102</td></tr><tr><td>00050</td><td>2025/07/20</td><td>Belo Horizonte</td><td>Pulverizador</td><td>85000.00</td><td>103</td></tr><tr><td>00051</td><td>2025-07-21</td><td>Florianopolis</td><td>Colheitadeira</td><td>305000.00</td><td>104</td></tr><tr><td>00052</td><td>2025/07/22</td><td>Brasilia</td><td>Trator</td><td>172000.00</td><td>105</td></tr></tbody></table></div>"
      ]
     },
     "metadata": {
      "application/vnd.databricks.v1+output": {
       "addedWidgets": {},
       "aggData": [],
       "aggError": "",
       "aggOverflow": false,
       "aggSchema": [],
       "aggSeriesLimitReached": false,
       "aggType": "",
       "arguments": {},
       "columnCustomDisplayInfos": {},
       "data": [
        [
         "1",
         "2025-06-01",
         "Sao Paulo",
         "Trator",
         "150000.00",
         "101"
        ],
        [
         "2",
         "2025-06-02",
         " Rio de Janeiro",
         "Colheitadeira",
         "300000.00",
         "102"
        ],
        [
         "3",
         "2025-06-03",
         "S. Paulo",
         "Pulverizador",
         "80000.00",
         "101"
        ],
        [
         "4",
         "2025-006-04",
         "Belo Horizote",
         "Trator",
         "160000.00",
         "103"
        ],
        [
         "5",
         "2025-06-05",
         "Florianopolis",
         "",
         "200000.00",
         "104"
        ],
        [
         "6",
         "2025-06-06",
         "Brasilia",
         "Colheitadeira",
         "280000.00",
         "105"
        ],
        [
         "7",
         "2025-06-07",
         "RIO DE JANEIRO",
         "Pulverizador",
         "75000.00",
         "102"
        ],
        [
         "8",
         "2025-06-08",
         "Curitiba",
         "Trator",
         "145000.00",
         "106"
        ],
        [
         "9",
         "2025-06-09",
         "Sao Paulo",
         "Colheitadeira",
         "310000.00",
         "101"
        ],
        [
         "10",
         "2025-06-10",
         "Recife",
         "Trator",
         "130000.00",
         "107"
        ],
        [
         "00011",
         "2025/06/11",
         "Porto Alegre",
         "Pulverizdor",
         "90000.00",
         "108"
        ],
        [
         "00012",
         "2025-06-12",
         "Salvador",
         "Colheitadeira",
         "290000.00",
         "109"
        ],
        [
         "00013",
         "2025/06/13",
         "Sao Paulo",
         "Trator",
         "155000.00",
         "101"
        ],
        [
         "00014",
         "2025-06-14",
         "Rio de Janeiro",
         "Pulverizador",
         "82000.00",
         "102"
        ],
        [
         "00015",
         "2025/06/15",
         "Belo Horizonte",
         "Colhetadeira",
         "275000.00",
         "103"
        ],
        [
         "00016",
         "2025-06-16",
         "Brasilia",
         "Trator",
         "162000.00",
         "105"
        ],
        [
         "00017",
         "2025/06/17",
         "Curitiba",
         "Pulverizador",
         "78000.00",
         "106"
        ],
        [
         "00018",
         "2025-06-18",
         "Recife",
         "Colheitadeira",
         "295000.00",
         "107"
        ],
        [
         "00019",
         "2025/06/19",
         "Porto Alegre",
         "Trator",
         "148000.00",
         "108"
        ],
        [
         "00020",
         "2025-06-20",
         "Salvador",
         "Pulverizador",
         "85000.00",
         "109"
        ],
        [
         "00021",
         "2025/06/21",
         "S. Paulo",
         "Colheitadeira",
         "305000.00",
         "101"
        ],
        [
         "00022",
         "2025-06-22",
         "Rio de janeiro",
         "Trator",
         "153000.00",
         "102"
        ],
        [
         "00023",
         "2025/06/23",
         "Belo Horizonte",
         "Pulverizador",
         "79000.00",
         "103"
        ],
        [
         "00024",
         "2025-06-24",
         "Florianopolis",
         "Colheitadeira",
         "285000.00",
         "104"
        ],
        [
         "00025",
         "2025-06-25",
         "Brasilia",
         "Trator",
         "165000.00",
         "105"
        ],
        [
         "00026",
         "2025-06-26",
         "Curitiba",
         "Pulverizdor",
         "76000.00",
         "106"
        ],
        [
         "00027",
         "2025/06/27",
         "Recife",
         "Colheitadeira",
         "288000.00",
         "107"
        ],
        [
         "00028",
         "2025-06-28",
         "Porto Alegre",
         "Trator",
         "149000.00",
         "108"
        ],
        [
         "00029",
         "2025/06/29",
         "Salvador",
         "Pulverizador",
         "81000.00",
         "109"
        ],
        [
         "00030",
         "2025-06-30",
         "Sao Paulo",
         "Colheitadeira",
         "312000.00",
         "101"
        ],
        [
         "00031",
         "2025/07/01",
         "Rio de Janeiro",
         "Trator",
         "157000.00",
         "102"
        ],
        [
         "00032",
         "2025-07-02",
         "Belo Horizote",
         "Pulverizador",
         "83000.00",
         "103"
        ],
        [
         "00033",
         "2025/07/03",
         "Florianopolis",
         "Colheitadeira",
         "292000.00",
         "104"
        ],
        [
         "00034",
         "2025-07-04",
         "Brasilia",
         "Trator",
         "168000.00",
         "105"
        ],
        [
         "00035",
         "2025-07-05",
         "Curitiba",
         "Pulverizador",
         "77000.00",
         "106"
        ],
        [
         "00036",
         "2025-07-06",
         "Recife",
         "Colheitadeira",
         "298000.00",
         "107"
        ],
        [
         "00037",
         "2025-07-07",
         "Porto Alegre",
         "Trator",
         "151000.00",
         "108"
        ],
        [
         "00038",
         "2025-07-08",
         "Salvador",
         "Pulverizador",
         "86000.00",
         "109"
        ],
        [
         "00039",
         "2025-07-09",
         "Sao Paulo",
         "Colheitadeira",
         "315000.00",
         "101"
        ],
        [
         "00040",
         "2025-07-10",
         "Rio de Janeiro",
         "Trator",
         "159000.00",
         "102"
        ],
        [
         "00041",
         "2025/07/11",
         "Belo Horizonte",
         "Pulverizador",
         "84000.00",
         "103"
        ],
        [
         "00042",
         "2025-07-12",
         "Florianopolis",
         "Colheitadeira",
         "297000.00",
         "104"
        ],
        [
         "00043",
         "2025-07-13",
         "Brasilia",
         "Trator",
         "170000.00",
         "105"
        ],
        [
         "00044",
         "2025-07-14",
         "Curitiba",
         "Pulverizador",
         "79000.00",
         "106"
        ],
        [
         "00045",
         "2025/07/15",
         "Recife",
         "Colheitadeira",
         "301000.00",
         "107"
        ],
        [
         "00046",
         "2025-07-16",
         "Porto Alegre",
         "Trator",
         "153000.00",
         "108"
        ],
        [
         "00047",
         "2025/07/17",
         "Salvador",
         "Pulverizador",
         "88000.00",
         "109"
        ],
        [
         "00048",
         "2025-07-18",
         "Sao Paulo",
         "Colheitadeira",
         "318000.00",
         "101"
        ],
        [
         "00049",
         "2025-07-19",
         "Rio de Janeiro",
         "Trator",
         "161000.00",
         "102"
        ],
        [
         "00050",
         "2025/07/20",
         "Belo Horizonte",
         "Pulverizador",
         "85000.00",
         "103"
        ],
        [
         "00051",
         "2025-07-21",
         "Florianopolis",
         "Colheitadeira",
         "305000.00",
         "104"
        ],
        [
         "00052",
         "2025/07/22",
         "Brasilia",
         "Trator",
         "172000.00",
         "105"
        ]
       ],
       "datasetInfos": [],
       "dbfsResultPath": null,
       "isJsonSchema": true,
       "metadata": {},
       "overflow": false,
       "plotOptions": {
        "customPlotOptions": {},
        "displayType": "table",
        "pivotAggregation": null,
        "pivotColumns": null,
        "xColumns": null,
        "yColumns": null
       },
       "removedWidgets": [],
       "schema": [
        {
         "metadata": "{}",
         "name": "id_venda",
         "type": "\"string\""
        },
        {
         "metadata": "{}",
         "name": "data_venda",
         "type": "\"string\""
        },
        {
         "metadata": "{}",
         "name": "local_venda",
         "type": "\"string\""
        },
        {
         "metadata": "{}",
         "name": "tipo_maquina",
         "type": "\"string\""
        },
        {
         "metadata": "{}",
         "name": "valor_total",
         "type": "\"string\""
        },
        {
         "metadata": "{}",
         "name": "revendedor_id",
         "type": "\"string\""
        }
       ],
       "type": "table"
      }
     },
     "output_type": "display_data"
    }
   ],
   "source": [
    "# passo 6 criando um novo dataframe com as colunas organizadas e entituladas\n",
    "\n",
    "df_vendas_text = df_vendas_filtered.select(\n",
    "    col(\"data_array\").getItem(0).alias(\"id_venda\"),\n",
    "    col(\"data_array\").getItem(1).alias(\"data_venda\"),\n",
    "    col(\"data_array\").getItem(2).alias(\"local_venda\"),\n",
    "    col(\"data_array\").getItem(3).alias(\"tipo_maquina\"),\n",
    "    col(\"data_array\").getItem(4).alias(\"valor_total\"),\n",
    "    col(\"data_array\").getItem(5).alias(\"revendedor_id\")\n",
    ")\n",
    "\n",
    "display(df_vendas_text)\n",
    "\n"
   ]
  },
  {
   "cell_type": "code",
   "execution_count": 0,
   "metadata": {
    "application/vnd.databricks.v1+cell": {
     "cellMetadata": {
      "byteLimit": 2048000,
      "rowLimit": 10000
     },
     "inputWidgets": {},
     "nuid": "85d23952-794c-4226-a618-eea40291ac40",
     "showTitle": false,
     "tableResultSettingsMap": {},
     "title": ""
    }
   },
   "outputs": [],
   "source": [
    "# passo 7 padronizando o nome das cidades\n",
    "df_vendas_text = df_vendas_text.withColumn(\"local_venda\",\n",
    "    when(trim(col(\"local_venda\")) == \"S. Paulo\", \"Sao Paulo\")\n",
    "    .when(trim(col(\"local_venda\")) == \"RIO DE JANEIRO\", \"Rio de Janeiro\")\n",
    "    .when(trim(col(\"local_venda\")) == \"Rio de janeiro\", \"Rio de Janeiro\")\n",
    "    .when(trim(col(\"local_venda\")) == \"Belo Horizote\", \"Belo Horizonte\")\n",
    "    .otherwise(trim(col(\"local_venda\")))\n",
    ")\n",
    "#função trim retira espaços do começo e do fim do objeto"
   ]
  },
  {
   "cell_type": "code",
   "execution_count": 0,
   "metadata": {
    "application/vnd.databricks.v1+cell": {
     "cellMetadata": {
      "byteLimit": 2048000,
      "rowLimit": 10000
     },
     "inputWidgets": {},
     "nuid": "e5bcbe0a-6e59-4de9-ae86-44bf3ad7a11c",
     "showTitle": false,
     "tableResultSettingsMap": {},
     "title": ""
    }
   },
   "outputs": [],
   "source": [
    "# Passo 8: Limpeza e Padronização das Datas (como Texto)\n",
    "# Aqui, preparo a coluna de data para a conversão final\n",
    "# 1. Substitui todas as barras (\"/\") por hífens (\"-\").\n",
    "df_vendas_text = df_vendas_text.withColumn(\"data_venda_str\", regexp_replace(col(\"data_venda\"), \"/\", \"-\"))\n",
    "# 2. Corrigi erros de digitação comuns no mês, como \"-006-\", para \"-06-\".\n",
    "df_vendas_text = df_vendas_text.withColumn(\"data_venda_str\", regexp_replace(col(\"data_venda_str\"), \"-00\", \"-0\"))\n"
   ]
  },
  {
   "cell_type": "code",
   "execution_count": 0,
   "metadata": {
    "application/vnd.databricks.v1+cell": {
     "cellMetadata": {
      "byteLimit": 2048000,
      "rowLimit": 10000
     },
     "inputWidgets": {},
     "nuid": "f40da804-0953-4da9-9cc8-3e4f2bc2c57a",
     "showTitle": false,
     "tableResultSettingsMap": {},
     "title": ""
    }
   },
   "outputs": [
    {
     "output_type": "display_data",
     "data": {
      "text/html": [
       "<style scoped>\n",
       "  .table-result-container {\n",
       "    max-height: 300px;\n",
       "    overflow: auto;\n",
       "  }\n",
       "  table, th, td {\n",
       "    border: 1px solid black;\n",
       "    border-collapse: collapse;\n",
       "  }\n",
       "  th, td {\n",
       "    padding: 5px;\n",
       "  }\n",
       "  th {\n",
       "    text-align: left;\n",
       "  }\n",
       "</style><div class='table-result-container'><table class='table-result'><thead style='background-color: white'><tr><th>id_venda</th><th>data_venda</th><th>local_venda</th><th>tipo_maquina</th><th>valor_total</th><th>revendedor_id</th></tr></thead><tbody><tr><td>1</td><td>2025-06-01</td><td>Sao Paulo</td><td>Trator</td><td>150000.0</td><td>101</td></tr><tr><td>2</td><td>2025-06-02</td><td>Rio de Janeiro</td><td>Colheitadeira</td><td>300000.0</td><td>102</td></tr><tr><td>3</td><td>2025-06-03</td><td>Sao Paulo</td><td>Pulverizador</td><td>80000.0</td><td>101</td></tr><tr><td>4</td><td>2025-06-04</td><td>Belo Horizonte</td><td>Trator</td><td>160000.0</td><td>103</td></tr><tr><td>5</td><td>2025-06-05</td><td>Florianopolis</td><td></td><td>200000.0</td><td>104</td></tr><tr><td>6</td><td>2025-06-06</td><td>Brasilia</td><td>Colheitadeira</td><td>280000.0</td><td>105</td></tr><tr><td>7</td><td>2025-06-07</td><td>Rio de Janeiro</td><td>Pulverizador</td><td>75000.0</td><td>102</td></tr><tr><td>8</td><td>2025-06-08</td><td>Curitiba</td><td>Trator</td><td>145000.0</td><td>106</td></tr><tr><td>9</td><td>2025-06-09</td><td>Sao Paulo</td><td>Colheitadeira</td><td>310000.0</td><td>101</td></tr><tr><td>10</td><td>2025-06-10</td><td>Recife</td><td>Trator</td><td>130000.0</td><td>107</td></tr><tr><td>11</td><td>2025-06-11</td><td>Porto Alegre</td><td>Pulverizdor</td><td>90000.0</td><td>108</td></tr><tr><td>12</td><td>2025-06-12</td><td>Salvador</td><td>Colheitadeira</td><td>290000.0</td><td>109</td></tr><tr><td>13</td><td>2025-06-13</td><td>Sao Paulo</td><td>Trator</td><td>155000.0</td><td>101</td></tr><tr><td>14</td><td>2025-06-14</td><td>Rio de Janeiro</td><td>Pulverizador</td><td>82000.0</td><td>102</td></tr><tr><td>15</td><td>2025-06-15</td><td>Belo Horizonte</td><td>Colhetadeira</td><td>275000.0</td><td>103</td></tr><tr><td>16</td><td>2025-06-16</td><td>Brasilia</td><td>Trator</td><td>162000.0</td><td>105</td></tr><tr><td>17</td><td>2025-06-17</td><td>Curitiba</td><td>Pulverizador</td><td>78000.0</td><td>106</td></tr><tr><td>18</td><td>2025-06-18</td><td>Recife</td><td>Colheitadeira</td><td>295000.0</td><td>107</td></tr><tr><td>19</td><td>2025-06-19</td><td>Porto Alegre</td><td>Trator</td><td>148000.0</td><td>108</td></tr><tr><td>20</td><td>2025-06-20</td><td>Salvador</td><td>Pulverizador</td><td>85000.0</td><td>109</td></tr><tr><td>21</td><td>2025-06-21</td><td>Sao Paulo</td><td>Colheitadeira</td><td>305000.0</td><td>101</td></tr><tr><td>22</td><td>2025-06-22</td><td>Rio de Janeiro</td><td>Trator</td><td>153000.0</td><td>102</td></tr><tr><td>23</td><td>2025-06-23</td><td>Belo Horizonte</td><td>Pulverizador</td><td>79000.0</td><td>103</td></tr><tr><td>24</td><td>2025-06-24</td><td>Florianopolis</td><td>Colheitadeira</td><td>285000.0</td><td>104</td></tr><tr><td>25</td><td>2025-06-25</td><td>Brasilia</td><td>Trator</td><td>165000.0</td><td>105</td></tr><tr><td>26</td><td>2025-06-26</td><td>Curitiba</td><td>Pulverizdor</td><td>76000.0</td><td>106</td></tr><tr><td>27</td><td>2025-06-27</td><td>Recife</td><td>Colheitadeira</td><td>288000.0</td><td>107</td></tr><tr><td>28</td><td>2025-06-28</td><td>Porto Alegre</td><td>Trator</td><td>149000.0</td><td>108</td></tr><tr><td>29</td><td>2025-06-29</td><td>Salvador</td><td>Pulverizador</td><td>81000.0</td><td>109</td></tr><tr><td>30</td><td>2025-06-30</td><td>Sao Paulo</td><td>Colheitadeira</td><td>312000.0</td><td>101</td></tr><tr><td>31</td><td>2025-07-01</td><td>Rio de Janeiro</td><td>Trator</td><td>157000.0</td><td>102</td></tr><tr><td>32</td><td>2025-07-02</td><td>Belo Horizonte</td><td>Pulverizador</td><td>83000.0</td><td>103</td></tr><tr><td>33</td><td>2025-07-03</td><td>Florianopolis</td><td>Colheitadeira</td><td>292000.0</td><td>104</td></tr><tr><td>34</td><td>2025-07-04</td><td>Brasilia</td><td>Trator</td><td>168000.0</td><td>105</td></tr><tr><td>35</td><td>2025-07-05</td><td>Curitiba</td><td>Pulverizador</td><td>77000.0</td><td>106</td></tr><tr><td>36</td><td>2025-07-06</td><td>Recife</td><td>Colheitadeira</td><td>298000.0</td><td>107</td></tr><tr><td>37</td><td>2025-07-07</td><td>Porto Alegre</td><td>Trator</td><td>151000.0</td><td>108</td></tr><tr><td>38</td><td>2025-07-08</td><td>Salvador</td><td>Pulverizador</td><td>86000.0</td><td>109</td></tr><tr><td>39</td><td>2025-07-09</td><td>Sao Paulo</td><td>Colheitadeira</td><td>315000.0</td><td>101</td></tr><tr><td>40</td><td>2025-07-10</td><td>Rio de Janeiro</td><td>Trator</td><td>159000.0</td><td>102</td></tr><tr><td>41</td><td>2025-07-11</td><td>Belo Horizonte</td><td>Pulverizador</td><td>84000.0</td><td>103</td></tr><tr><td>42</td><td>2025-07-12</td><td>Florianopolis</td><td>Colheitadeira</td><td>297000.0</td><td>104</td></tr><tr><td>43</td><td>2025-07-13</td><td>Brasilia</td><td>Trator</td><td>170000.0</td><td>105</td></tr><tr><td>44</td><td>2025-07-14</td><td>Curitiba</td><td>Pulverizador</td><td>79000.0</td><td>106</td></tr><tr><td>45</td><td>2025-07-15</td><td>Recife</td><td>Colheitadeira</td><td>301000.0</td><td>107</td></tr><tr><td>46</td><td>2025-07-16</td><td>Porto Alegre</td><td>Trator</td><td>153000.0</td><td>108</td></tr><tr><td>47</td><td>2025-07-17</td><td>Salvador</td><td>Pulverizador</td><td>88000.0</td><td>109</td></tr><tr><td>48</td><td>2025-07-18</td><td>Sao Paulo</td><td>Colheitadeira</td><td>318000.0</td><td>101</td></tr><tr><td>49</td><td>2025-07-19</td><td>Rio de Janeiro</td><td>Trator</td><td>161000.0</td><td>102</td></tr><tr><td>50</td><td>2025-07-20</td><td>Belo Horizonte</td><td>Pulverizador</td><td>85000.0</td><td>103</td></tr><tr><td>51</td><td>2025-07-21</td><td>Florianopolis</td><td>Colheitadeira</td><td>305000.0</td><td>104</td></tr><tr><td>52</td><td>2025-07-22</td><td>Brasilia</td><td>Trator</td><td>172000.0</td><td>105</td></tr></tbody></table></div>"
      ]
     },
     "metadata": {
      "application/vnd.databricks.v1+output": {
       "addedWidgets": {},
       "aggData": [],
       "aggError": "",
       "aggOverflow": false,
       "aggSchema": [],
       "aggSeriesLimitReached": false,
       "aggType": "",
       "arguments": {},
       "columnCustomDisplayInfos": {},
       "data": [
        [
         1,
         "2025-06-01",
         "Sao Paulo",
         "Trator",
         150000.0,
         101
        ],
        [
         2,
         "2025-06-02",
         "Rio de Janeiro",
         "Colheitadeira",
         300000.0,
         102
        ],
        [
         3,
         "2025-06-03",
         "Sao Paulo",
         "Pulverizador",
         80000.0,
         101
        ],
        [
         4,
         "2025-06-04",
         "Belo Horizonte",
         "Trator",
         160000.0,
         103
        ],
        [
         5,
         "2025-06-05",
         "Florianopolis",
         "",
         200000.0,
         104
        ],
        [
         6,
         "2025-06-06",
         "Brasilia",
         "Colheitadeira",
         280000.0,
         105
        ],
        [
         7,
         "2025-06-07",
         "Rio de Janeiro",
         "Pulverizador",
         75000.0,
         102
        ],
        [
         8,
         "2025-06-08",
         "Curitiba",
         "Trator",
         145000.0,
         106
        ],
        [
         9,
         "2025-06-09",
         "Sao Paulo",
         "Colheitadeira",
         310000.0,
         101
        ],
        [
         10,
         "2025-06-10",
         "Recife",
         "Trator",
         130000.0,
         107
        ],
        [
         11,
         "2025-06-11",
         "Porto Alegre",
         "Pulverizdor",
         90000.0,
         108
        ],
        [
         12,
         "2025-06-12",
         "Salvador",
         "Colheitadeira",
         290000.0,
         109
        ],
        [
         13,
         "2025-06-13",
         "Sao Paulo",
         "Trator",
         155000.0,
         101
        ],
        [
         14,
         "2025-06-14",
         "Rio de Janeiro",
         "Pulverizador",
         82000.0,
         102
        ],
        [
         15,
         "2025-06-15",
         "Belo Horizonte",
         "Colhetadeira",
         275000.0,
         103
        ],
        [
         16,
         "2025-06-16",
         "Brasilia",
         "Trator",
         162000.0,
         105
        ],
        [
         17,
         "2025-06-17",
         "Curitiba",
         "Pulverizador",
         78000.0,
         106
        ],
        [
         18,
         "2025-06-18",
         "Recife",
         "Colheitadeira",
         295000.0,
         107
        ],
        [
         19,
         "2025-06-19",
         "Porto Alegre",
         "Trator",
         148000.0,
         108
        ],
        [
         20,
         "2025-06-20",
         "Salvador",
         "Pulverizador",
         85000.0,
         109
        ],
        [
         21,
         "2025-06-21",
         "Sao Paulo",
         "Colheitadeira",
         305000.0,
         101
        ],
        [
         22,
         "2025-06-22",
         "Rio de Janeiro",
         "Trator",
         153000.0,
         102
        ],
        [
         23,
         "2025-06-23",
         "Belo Horizonte",
         "Pulverizador",
         79000.0,
         103
        ],
        [
         24,
         "2025-06-24",
         "Florianopolis",
         "Colheitadeira",
         285000.0,
         104
        ],
        [
         25,
         "2025-06-25",
         "Brasilia",
         "Trator",
         165000.0,
         105
        ],
        [
         26,
         "2025-06-26",
         "Curitiba",
         "Pulverizdor",
         76000.0,
         106
        ],
        [
         27,
         "2025-06-27",
         "Recife",
         "Colheitadeira",
         288000.0,
         107
        ],
        [
         28,
         "2025-06-28",
         "Porto Alegre",
         "Trator",
         149000.0,
         108
        ],
        [
         29,
         "2025-06-29",
         "Salvador",
         "Pulverizador",
         81000.0,
         109
        ],
        [
         30,
         "2025-06-30",
         "Sao Paulo",
         "Colheitadeira",
         312000.0,
         101
        ],
        [
         31,
         "2025-07-01",
         "Rio de Janeiro",
         "Trator",
         157000.0,
         102
        ],
        [
         32,
         "2025-07-02",
         "Belo Horizonte",
         "Pulverizador",
         83000.0,
         103
        ],
        [
         33,
         "2025-07-03",
         "Florianopolis",
         "Colheitadeira",
         292000.0,
         104
        ],
        [
         34,
         "2025-07-04",
         "Brasilia",
         "Trator",
         168000.0,
         105
        ],
        [
         35,
         "2025-07-05",
         "Curitiba",
         "Pulverizador",
         77000.0,
         106
        ],
        [
         36,
         "2025-07-06",
         "Recife",
         "Colheitadeira",
         298000.0,
         107
        ],
        [
         37,
         "2025-07-07",
         "Porto Alegre",
         "Trator",
         151000.0,
         108
        ],
        [
         38,
         "2025-07-08",
         "Salvador",
         "Pulverizador",
         86000.0,
         109
        ],
        [
         39,
         "2025-07-09",
         "Sao Paulo",
         "Colheitadeira",
         315000.0,
         101
        ],
        [
         40,
         "2025-07-10",
         "Rio de Janeiro",
         "Trator",
         159000.0,
         102
        ],
        [
         41,
         "2025-07-11",
         "Belo Horizonte",
         "Pulverizador",
         84000.0,
         103
        ],
        [
         42,
         "2025-07-12",
         "Florianopolis",
         "Colheitadeira",
         297000.0,
         104
        ],
        [
         43,
         "2025-07-13",
         "Brasilia",
         "Trator",
         170000.0,
         105
        ],
        [
         44,
         "2025-07-14",
         "Curitiba",
         "Pulverizador",
         79000.0,
         106
        ],
        [
         45,
         "2025-07-15",
         "Recife",
         "Colheitadeira",
         301000.0,
         107
        ],
        [
         46,
         "2025-07-16",
         "Porto Alegre",
         "Trator",
         153000.0,
         108
        ],
        [
         47,
         "2025-07-17",
         "Salvador",
         "Pulverizador",
         88000.0,
         109
        ],
        [
         48,
         "2025-07-18",
         "Sao Paulo",
         "Colheitadeira",
         318000.0,
         101
        ],
        [
         49,
         "2025-07-19",
         "Rio de Janeiro",
         "Trator",
         161000.0,
         102
        ],
        [
         50,
         "2025-07-20",
         "Belo Horizonte",
         "Pulverizador",
         85000.0,
         103
        ],
        [
         51,
         "2025-07-21",
         "Florianopolis",
         "Colheitadeira",
         305000.0,
         104
        ],
        [
         52,
         "2025-07-22",
         "Brasilia",
         "Trator",
         172000.0,
         105
        ]
       ],
       "datasetInfos": [],
       "dbfsResultPath": null,
       "isJsonSchema": true,
       "metadata": {},
       "overflow": false,
       "plotOptions": {
        "customPlotOptions": {},
        "displayType": "table",
        "pivotAggregation": null,
        "pivotColumns": null,
        "xColumns": null,
        "yColumns": null
       },
       "removedWidgets": [],
       "schema": [
        {
         "metadata": "{}",
         "name": "id_venda",
         "type": "\"integer\""
        },
        {
         "metadata": "{}",
         "name": "data_venda",
         "type": "\"date\""
        },
        {
         "metadata": "{}",
         "name": "local_venda",
         "type": "\"string\""
        },
        {
         "metadata": "{}",
         "name": "tipo_maquina",
         "type": "\"string\""
        },
        {
         "metadata": "{}",
         "name": "valor_total",
         "type": "\"double\""
        },
        {
         "metadata": "{}",
         "name": "revendedor_id",
         "type": "\"integer\""
        }
       ],
       "type": "table"
      }
     },
     "output_type": "display_data"
    }
   ],
   "source": [
    "# Passo 9: Conversão Final dos Tipos de Dados\n",
    "# fazendo o cast das colunas para o tipo de dado apropriado\n",
    "df_vendas = df_vendas_text.select(\n",
    "    col(\"id_venda\").cast(\"int\"),\n",
    "    to_date(col(\"data_venda_str\"), \"yyyy-MM-dd\").alias(\"data_venda\"),\n",
    "    col(\"local_venda\"), col(\"tipo_maquina\"),\n",
    "    col(\"valor_total\").cast(\"double\"), col(\"revendedor_id\").cast(\"int\")\n",
    ")\n",
    "display(df_vendas)"
   ]
  },
  {
   "cell_type": "code",
   "execution_count": 0,
   "metadata": {
    "application/vnd.databricks.v1+cell": {
     "cellMetadata": {
      "byteLimit": 2048000,
      "rowLimit": 10000
     },
     "inputWidgets": {},
     "nuid": "716a32f3-fde4-4cd4-b04f-62597bd97837",
     "showTitle": false,
     "tableResultSettingsMap": {},
     "title": ""
    }
   },
   "outputs": [
    {
     "output_type": "display_data",
     "data": {
      "text/html": [
       "<style scoped>\n",
       "  .table-result-container {\n",
       "    max-height: 300px;\n",
       "    overflow: auto;\n",
       "  }\n",
       "  table, th, td {\n",
       "    border: 1px solid black;\n",
       "    border-collapse: collapse;\n",
       "  }\n",
       "  th, td {\n",
       "    padding: 5px;\n",
       "  }\n",
       "  th {\n",
       "    text-align: left;\n",
       "  }\n",
       "</style><div class='table-result-container'><table class='table-result'><thead style='background-color: white'><tr><th>id_cotacao</th><th>data_cotacao</th><th>local_cotacao</th><th>maquina_cotada</th><th>valor_estimado</th><th>revendedor_id</th><th>status_cotacao</th></tr></thead><tbody><tr><td>1001</td><td>2025-06-01</td><td>Sao Paulo</td><td>Trator Modelo A</td><td>155000.0</td><td>101</td><td>Em negociacao</td></tr><tr><td>1002</td><td>2025-06-01</td><td>Rio de Janeiro</td><td>Colheitadeira Modelo B</td><td>300000.0</td><td>102</td><td>Proposta enviada</td></tr><tr><td>1003</td><td>2025-06-02</td><td>Sao Paulo</td><td>Pulverizador Modelo C</td><td>82000.0</td><td>101</td><td>Em negociacao</td></tr><tr><td>1004</td><td>2025-06-03</td><td>Belo Horizonte</td><td>Trator Modelo D</td><td>165000.0</td><td>103</td><td>Proposta enviada</td></tr><tr><td>1005</td><td>2025-06-03</td><td>Florianopolis</td><td>Plantadeira Modelo E</td><td>210000.0</td><td>104</td><td>Em negociacao</td></tr><tr><td>1006</td><td>2025-06-04</td><td>Brasilia</td><td>Colheitadeira Modelo F</td><td>290000.0</td><td>105</td><td>Proposta enviada</td></tr><tr><td>1007</td><td>2025-06-04</td><td>Rio de Janeiro</td><td>Pulverizador Modelo G</td><td>78000.0</td><td>102</td><td>Em negociacao</td></tr><tr><td>1008</td><td>2025-06-05</td><td>Curitiba</td><td>Trator Modelo H</td><td>150000.0</td><td>106</td><td>Proposta enviada</td></tr><tr><td>1009</td><td>2025-06-05</td><td>Sao Paulo</td><td>Colheitadeira Modelo I</td><td>320000.0</td><td>101</td><td>Em negociacao</td></tr><tr><td>1010</td><td>2025-06-06</td><td>Recife</td><td>Trator Modelo J</td><td>130000.0</td><td>107</td><td>Proposta enviada</td></tr><tr><td>1011</td><td>2025-06-07</td><td>Porto Alegre</td><td>Pulverizador Modelo K</td><td>90000.0</td><td>108</td><td>Em negociacao</td></tr><tr><td>1012</td><td>2025-06-08</td><td>Salvador</td><td>Colheitadeira Modelo L</td><td>290000.0</td><td>109</td><td>Proposta enviada</td></tr><tr><td>1013</td><td>2025-06-09</td><td>Sao Paulo</td><td>Trator Modelo M</td><td>155000.0</td><td>101</td><td>Em negociacao</td></tr><tr><td>1014</td><td>2025-06-10</td><td>Rio de Janeiro</td><td>Pulverizador Modelo N</td><td>82000.0</td><td>102</td><td>Proposta enviada</td></tr><tr><td>1015</td><td>2025-06-11</td><td>Belo Horizonte</td><td>Colheitadeira Modelo O</td><td>275000.0</td><td>103</td><td>Em negociacao</td></tr><tr><td>1016</td><td>2025-06-12</td><td>Brasilia</td><td>Trator Modelo P</td><td>162000.0</td><td>105</td><td>Proposta enviada</td></tr><tr><td>1017</td><td>2025-06-13</td><td>Curitiba</td><td>Pulverizador Modelo Q</td><td>78000.0</td><td>106</td><td>Em negociacao</td></tr><tr><td>1018</td><td>2025-06-14</td><td>Recife</td><td>Colheitadeira Modelo R</td><td>295000.0</td><td>107</td><td>Proposta enviada</td></tr><tr><td>1019</td><td>2025-06-15</td><td>Porto Alegre</td><td>Trator Modelo S</td><td>148000.0</td><td>108</td><td>Em negociacao</td></tr><tr><td>1020</td><td>2025-06-16</td><td>Salvador</td><td>Pulverizador Modelo T</td><td>85000.0</td><td>109</td><td>Proposta enviada</td></tr><tr><td>1021</td><td>2025-06-17</td><td>Sao Paulo</td><td>Colheitadeira Modelo U</td><td>305000.0</td><td>101</td><td>Em negociacao</td></tr><tr><td>1022</td><td>2025-06-18</td><td>Rio de Janeiro</td><td>Trator Modelo V</td><td>153000.0</td><td>102</td><td>Proposta enviada</td></tr><tr><td>1023</td><td>2025-06-19</td><td>Belo Horizonte</td><td>Pulverizador Modelo W</td><td>79000.0</td><td>103</td><td>Em negociacao</td></tr><tr><td>1024</td><td>2025-06-20</td><td>Florianopolis</td><td>Colheitadeira Modelo X</td><td>285000.0</td><td>104</td><td>Proposta enviada</td></tr><tr><td>1025</td><td>2025-06-21</td><td>Brasilia</td><td>Trator Modelo Y</td><td>165000.0</td><td>105</td><td>Em negociacao</td></tr><tr><td>1026</td><td>2025-06-22</td><td>Curitiba</td><td>Pulverizador Modelo Z</td><td>76000.0</td><td>106</td><td>Proposta enviada</td></tr><tr><td>1027</td><td>2025-06-23</td><td>Recife</td><td>Colheitadeira Modelo AA</td><td>288000.0</td><td>107</td><td>Em negociacao</td></tr><tr><td>1028</td><td>2025-06-24</td><td>Porto Alegre</td><td>Trator Modelo BB</td><td>149000.0</td><td>108</td><td>Proposta enviada</td></tr><tr><td>1029</td><td>2025-06-25</td><td>Salvador</td><td>Pulverizador Modelo CC</td><td>81000.0</td><td>109</td><td>Em negociacao</td></tr><tr><td>1030</td><td>2025-06-26</td><td>Sao Paulo</td><td>Colheitadeira Modelo DD</td><td>312000.0</td><td>101</td><td>Proposta enviada</td></tr><tr><td>1031</td><td>2025-06-27</td><td>Rio de Janeiro</td><td>Trator Modelo EE</td><td>157000.0</td><td>102</td><td>Em negociacao</td></tr><tr><td>1032</td><td>2025-06-28</td><td>Belo Horizonte</td><td>Pulverizador Modelo FF</td><td>83000.0</td><td>103</td><td>Proposta enviada</td></tr><tr><td>1033</td><td>2025-06-29</td><td>Florianopolis</td><td>Colheitadeira Modelo GG</td><td>292000.0</td><td>104</td><td>Em negociacao</td></tr><tr><td>1034</td><td>2025-06-30</td><td>Brasilia</td><td>Trator Modelo HH</td><td>168000.0</td><td>105</td><td>Proposta enviada</td></tr><tr><td>1035</td><td>2025-07-01</td><td>Curitiba</td><td>Pulverizador Modelo II</td><td>77000.0</td><td>106</td><td>Em negociacao</td></tr><tr><td>1036</td><td>2025-07-02</td><td>Recife</td><td>Colheitadeira Modelo JJ</td><td>298000.0</td><td>107</td><td>Proposta enviada</td></tr><tr><td>1037</td><td>2025-07-03</td><td>Porto Alegre</td><td>Trator Modelo KK</td><td>151000.0</td><td>108</td><td>Em negociacao</td></tr><tr><td>1038</td><td>2025-07-04</td><td>Salvador</td><td>Pulverizador Modelo LL</td><td>86000.0</td><td>109</td><td>Proposta enviada</td></tr><tr><td>1039</td><td>2025-07-05</td><td>Sao Paulo</td><td>Colheitadeira Modelo MM</td><td>315000.0</td><td>101</td><td>Em negociacao</td></tr><tr><td>1040</td><td>2025-07-06</td><td>Rio de Janeiro</td><td>Trator Modelo NN</td><td>159000.0</td><td>102</td><td>Proposta enviada</td></tr><tr><td>1041</td><td>2025-07-07</td><td>Belo Horizonte</td><td>Pulverizador Modelo OO</td><td>84000.0</td><td>103</td><td>Em negociacao</td></tr><tr><td>1042</td><td>2025-07-08</td><td>Florianopolis</td><td>Colheitadeira Modelo PP</td><td>297000.0</td><td>104</td><td>Proposta enviada</td></tr><tr><td>1043</td><td>2025-07-09</td><td>Brasilia</td><td>Trator Modelo QQ</td><td>170000.0</td><td>105</td><td>Em negociacao</td></tr><tr><td>1044</td><td>2025-07-10</td><td>Curitiba</td><td>Pulverizador Modelo RR</td><td>79000.0</td><td>106</td><td>Proposta enviada</td></tr><tr><td>1001</td><td>2025-06-01</td><td>Sao Paulo</td><td>Trator Modelo A</td><td>155000.0</td><td>101</td><td>Aberta</td></tr><tr><td>1002</td><td>2025-06-01</td><td>Rio de Janeiro</td><td>Colheitadeira Modelo B</td><td>310000.0</td><td>102</td><td>Aberta</td></tr><tr><td>1003</td><td>2025-06-02</td><td>Sao Paulo</td><td>Pulverizador Modelo C</td><td>82000.0</td><td>101</td><td>Fechada</td></tr><tr><td>1004</td><td>2025-06-03</td><td>Belo Horizonte</td><td>Trator Modelo D</td><td>165000.0</td><td>103</td><td>Aberta</td></tr><tr><td>1005</td><td>2025-06-03</td><td>Florianopolis</td><td>Plantadeira Modelo E</td><td>210000.0</td><td>104</td><td>Aberta</td></tr><tr><td>1006</td><td>2025-06-04</td><td>Brasilia</td><td>Colheitadeira Modelo F</td><td>290000.0</td><td>105</td><td>Fechada</td></tr><tr><td>1007</td><td>2025-06-04</td><td>Rio de Janeiro</td><td>Pulverizador Modelo G</td><td>78000.0</td><td>102</td><td>Aberta</td></tr><tr><td>1008</td><td>2025-06-05</td><td>Curitiba</td><td>Trator Modelo H</td><td>150000.0</td><td>106</td><td>Aberta</td></tr><tr><td>1009</td><td>2025-06-05</td><td>Sao Paulo</td><td>Colheitadeira Modelo I</td><td>320000.0</td><td>101</td><td>Fechada</td></tr><tr><td>1010</td><td>2025-06-06</td><td>Recife</td><td>Trator Modelo J</td><td>135000.0</td><td>107</td><td>Aberta</td></tr><tr><td>1011</td><td>2025-06-07</td><td>Campinas</td><td></td><td>90000.0</td><td>108</td><td>Aberta</td></tr><tr><td>1012</td><td>2025-06-08</td><td>Belo Horizonte</td><td>Trator Modelo K</td><td>170000.0</td><td>103</td><td>Fechada</td></tr></tbody></table></div>"
      ]
     },
     "metadata": {
      "application/vnd.databricks.v1+output": {
       "addedWidgets": {},
       "aggData": [],
       "aggError": "",
       "aggOverflow": false,
       "aggSchema": [],
       "aggSeriesLimitReached": false,
       "aggType": "",
       "arguments": {},
       "columnCustomDisplayInfos": {},
       "data": [
        [
         1001,
         "2025-06-01",
         "Sao Paulo",
         "Trator Modelo A",
         155000.0,
         101,
         "Em negociacao"
        ],
        [
         1002,
         "2025-06-01",
         "Rio de Janeiro",
         "Colheitadeira Modelo B",
         300000.0,
         102,
         "Proposta enviada"
        ],
        [
         1003,
         "2025-06-02",
         "Sao Paulo",
         "Pulverizador Modelo C",
         82000.0,
         101,
         "Em negociacao"
        ],
        [
         1004,
         "2025-06-03",
         "Belo Horizonte",
         "Trator Modelo D",
         165000.0,
         103,
         "Proposta enviada"
        ],
        [
         1005,
         "2025-06-03",
         "Florianopolis",
         "Plantadeira Modelo E",
         210000.0,
         104,
         "Em negociacao"
        ],
        [
         1006,
         "2025-06-04",
         "Brasilia",
         "Colheitadeira Modelo F",
         290000.0,
         105,
         "Proposta enviada"
        ],
        [
         1007,
         "2025-06-04",
         "Rio de Janeiro",
         "Pulverizador Modelo G",
         78000.0,
         102,
         "Em negociacao"
        ],
        [
         1008,
         "2025-06-05",
         "Curitiba",
         "Trator Modelo H",
         150000.0,
         106,
         "Proposta enviada"
        ],
        [
         1009,
         "2025-06-05",
         "Sao Paulo",
         "Colheitadeira Modelo I",
         320000.0,
         101,
         "Em negociacao"
        ],
        [
         1010,
         "2025-06-06",
         "Recife",
         "Trator Modelo J",
         130000.0,
         107,
         "Proposta enviada"
        ],
        [
         1011,
         "2025-06-07",
         "Porto Alegre",
         "Pulverizador Modelo K",
         90000.0,
         108,
         "Em negociacao"
        ],
        [
         1012,
         "2025-06-08",
         "Salvador",
         "Colheitadeira Modelo L",
         290000.0,
         109,
         "Proposta enviada"
        ],
        [
         1013,
         "2025-06-09",
         "Sao Paulo",
         "Trator Modelo M",
         155000.0,
         101,
         "Em negociacao"
        ],
        [
         1014,
         "2025-06-10",
         "Rio de Janeiro",
         "Pulverizador Modelo N",
         82000.0,
         102,
         "Proposta enviada"
        ],
        [
         1015,
         "2025-06-11",
         "Belo Horizonte",
         "Colheitadeira Modelo O",
         275000.0,
         103,
         "Em negociacao"
        ],
        [
         1016,
         "2025-06-12",
         "Brasilia",
         "Trator Modelo P",
         162000.0,
         105,
         "Proposta enviada"
        ],
        [
         1017,
         "2025-06-13",
         "Curitiba",
         "Pulverizador Modelo Q",
         78000.0,
         106,
         "Em negociacao"
        ],
        [
         1018,
         "2025-06-14",
         "Recife",
         "Colheitadeira Modelo R",
         295000.0,
         107,
         "Proposta enviada"
        ],
        [
         1019,
         "2025-06-15",
         "Porto Alegre",
         "Trator Modelo S",
         148000.0,
         108,
         "Em negociacao"
        ],
        [
         1020,
         "2025-06-16",
         "Salvador",
         "Pulverizador Modelo T",
         85000.0,
         109,
         "Proposta enviada"
        ],
        [
         1021,
         "2025-06-17",
         "Sao Paulo",
         "Colheitadeira Modelo U",
         305000.0,
         101,
         "Em negociacao"
        ],
        [
         1022,
         "2025-06-18",
         "Rio de Janeiro",
         "Trator Modelo V",
         153000.0,
         102,
         "Proposta enviada"
        ],
        [
         1023,
         "2025-06-19",
         "Belo Horizonte",
         "Pulverizador Modelo W",
         79000.0,
         103,
         "Em negociacao"
        ],
        [
         1024,
         "2025-06-20",
         "Florianopolis",
         "Colheitadeira Modelo X",
         285000.0,
         104,
         "Proposta enviada"
        ],
        [
         1025,
         "2025-06-21",
         "Brasilia",
         "Trator Modelo Y",
         165000.0,
         105,
         "Em negociacao"
        ],
        [
         1026,
         "2025-06-22",
         "Curitiba",
         "Pulverizador Modelo Z",
         76000.0,
         106,
         "Proposta enviada"
        ],
        [
         1027,
         "2025-06-23",
         "Recife",
         "Colheitadeira Modelo AA",
         288000.0,
         107,
         "Em negociacao"
        ],
        [
         1028,
         "2025-06-24",
         "Porto Alegre",
         "Trator Modelo BB",
         149000.0,
         108,
         "Proposta enviada"
        ],
        [
         1029,
         "2025-06-25",
         "Salvador",
         "Pulverizador Modelo CC",
         81000.0,
         109,
         "Em negociacao"
        ],
        [
         1030,
         "2025-06-26",
         "Sao Paulo",
         "Colheitadeira Modelo DD",
         312000.0,
         101,
         "Proposta enviada"
        ],
        [
         1031,
         "2025-06-27",
         "Rio de Janeiro",
         "Trator Modelo EE",
         157000.0,
         102,
         "Em negociacao"
        ],
        [
         1032,
         "2025-06-28",
         "Belo Horizonte",
         "Pulverizador Modelo FF",
         83000.0,
         103,
         "Proposta enviada"
        ],
        [
         1033,
         "2025-06-29",
         "Florianopolis",
         "Colheitadeira Modelo GG",
         292000.0,
         104,
         "Em negociacao"
        ],
        [
         1034,
         "2025-06-30",
         "Brasilia",
         "Trator Modelo HH",
         168000.0,
         105,
         "Proposta enviada"
        ],
        [
         1035,
         "2025-07-01",
         "Curitiba",
         "Pulverizador Modelo II",
         77000.0,
         106,
         "Em negociacao"
        ],
        [
         1036,
         "2025-07-02",
         "Recife",
         "Colheitadeira Modelo JJ",
         298000.0,
         107,
         "Proposta enviada"
        ],
        [
         1037,
         "2025-07-03",
         "Porto Alegre",
         "Trator Modelo KK",
         151000.0,
         108,
         "Em negociacao"
        ],
        [
         1038,
         "2025-07-04",
         "Salvador",
         "Pulverizador Modelo LL",
         86000.0,
         109,
         "Proposta enviada"
        ],
        [
         1039,
         "2025-07-05",
         "Sao Paulo",
         "Colheitadeira Modelo MM",
         315000.0,
         101,
         "Em negociacao"
        ],
        [
         1040,
         "2025-07-06",
         "Rio de Janeiro",
         "Trator Modelo NN",
         159000.0,
         102,
         "Proposta enviada"
        ],
        [
         1041,
         "2025-07-07",
         "Belo Horizonte",
         "Pulverizador Modelo OO",
         84000.0,
         103,
         "Em negociacao"
        ],
        [
         1042,
         "2025-07-08",
         "Florianopolis",
         "Colheitadeira Modelo PP",
         297000.0,
         104,
         "Proposta enviada"
        ],
        [
         1043,
         "2025-07-09",
         "Brasilia",
         "Trator Modelo QQ",
         170000.0,
         105,
         "Em negociacao"
        ],
        [
         1044,
         "2025-07-10",
         "Curitiba",
         "Pulverizador Modelo RR",
         79000.0,
         106,
         "Proposta enviada"
        ],
        [
         1001,
         "2025-06-01",
         "Sao Paulo",
         "Trator Modelo A",
         155000.0,
         101,
         "Aberta"
        ],
        [
         1002,
         "2025-06-01",
         "Rio de Janeiro",
         "Colheitadeira Modelo B",
         310000.0,
         102,
         "Aberta"
        ],
        [
         1003,
         "2025-06-02",
         "Sao Paulo",
         "Pulverizador Modelo C",
         82000.0,
         101,
         "Fechada"
        ],
        [
         1004,
         "2025-06-03",
         "Belo Horizonte",
         "Trator Modelo D",
         165000.0,
         103,
         "Aberta"
        ],
        [
         1005,
         "2025-06-03",
         "Florianopolis",
         "Plantadeira Modelo E",
         210000.0,
         104,
         "Aberta"
        ],
        [
         1006,
         "2025-06-04",
         "Brasilia",
         "Colheitadeira Modelo F",
         290000.0,
         105,
         "Fechada"
        ],
        [
         1007,
         "2025-06-04",
         "Rio de Janeiro",
         "Pulverizador Modelo G",
         78000.0,
         102,
         "Aberta"
        ],
        [
         1008,
         "2025-06-05",
         "Curitiba",
         "Trator Modelo H",
         150000.0,
         106,
         "Aberta"
        ],
        [
         1009,
         "2025-06-05",
         "Sao Paulo",
         "Colheitadeira Modelo I",
         320000.0,
         101,
         "Fechada"
        ],
        [
         1010,
         "2025-06-06",
         "Recife",
         "Trator Modelo J",
         135000.0,
         107,
         "Aberta"
        ],
        [
         1011,
         "2025-06-07",
         "Campinas",
         "",
         90000.0,
         108,
         "Aberta"
        ],
        [
         1012,
         "2025-06-08",
         "Belo Horizonte",
         "Trator Modelo K",
         170000.0,
         103,
         "Fechada"
        ]
       ],
       "datasetInfos": [],
       "dbfsResultPath": null,
       "isJsonSchema": true,
       "metadata": {},
       "overflow": false,
       "plotOptions": {
        "customPlotOptions": {},
        "displayType": "table",
        "pivotAggregation": null,
        "pivotColumns": null,
        "xColumns": null,
        "yColumns": null
       },
       "removedWidgets": [],
       "schema": [
        {
         "metadata": "{}",
         "name": "id_cotacao",
         "type": "\"integer\""
        },
        {
         "metadata": "{}",
         "name": "data_cotacao",
         "type": "\"date\""
        },
        {
         "metadata": "{}",
         "name": "local_cotacao",
         "type": "\"string\""
        },
        {
         "metadata": "{}",
         "name": "maquina_cotada",
         "type": "\"string\""
        },
        {
         "metadata": "{}",
         "name": "valor_estimado",
         "type": "\"double\""
        },
        {
         "metadata": "{}",
         "name": "revendedor_id",
         "type": "\"integer\""
        },
        {
         "metadata": "{}",
         "name": "status_cotacao",
         "type": "\"string\""
        }
       ],
       "type": "table"
      }
     },
     "output_type": "display_data"
    }
   ],
   "source": [
    "\n",
    "# 3. PROCESSAMENTO DO ARQUIVO DE COTAÇÕES\n",
    "\n",
    "df_cotacoes_raw = spark.read.text(file_path_cotacoes) #lendo como um arquivo de texto\n",
    "df_cotacoes_indexed = df_cotacoes_raw.withColumn(\"index\", monotonically_increasing_id()) \n",
    "df_cotacoes_datalines = df_cotacoes_indexed.filter(col(\"index\") > 0).drop(\"index\") #removendo novamente a primeira linha que contem o nome das colunas\n",
    "df_cotacoes_cleaned_str = df_cotacoes_datalines.withColumn(\"value\", regexp_replace(col(\"value\"), '^\"|\"$', '')) #retirando as aspas\n",
    "df_cotacoes_cleaned_str = df_cotacoes_cleaned_str.withColumn(\"value\", translate(col(\"value\"), caracteres_acentuados, caracteres_nao_acentuados)) #retirando acentos\n",
    "\n",
    "df_cotacoes_split = df_cotacoes_cleaned_str.withColumn(\"data_array\", split(col(\"value\"), \",\")) #separando os dados de cada linha\n",
    "\n",
    "df_cotacoes_filtered = df_cotacoes_split.filter(size(col(\"data_array\")) == 7) #filtrando linhas que tem 7 elementos em cada array\n",
    "\n",
    "\n",
    "#adicionando cabeçalho e nomeando as colunas\n",
    "df_cotacoes_text = df_cotacoes_filtered.select(\n",
    "    col(\"data_array\").getItem(0).alias(\"id_cotacao\"),\n",
    "    col(\"data_array\").getItem(1).alias(\"data_cotacao\"),\n",
    "    col(\"data_array\").getItem(2).alias(\"local_cotacao\"),\n",
    "    col(\"data_array\").getItem(3).alias(\"maquina_cotada\"),\n",
    "    col(\"data_array\").getItem(4).alias(\"valor_estimado\"),\n",
    "    col(\"data_array\").getItem(5).alias(\"revendedor_id\"),\n",
    "    col(\"data_array\").getItem(6).alias(\"status_cotacao\")\n",
    ")\n",
    "#padronizando o nome das cidades para facilitar o B.I\n",
    "df_cotacoes_text = df_cotacoes_text.withColumn(\"local_cotacao\",\n",
    "    when(trim(col(\"local_cotacao\")) == \"sao paulo\", \"Sao Paulo\")\n",
    "    .when(trim(col(\"local_cotacao\")) == \"S. Paulo\", \"Sao Paulo\")\n",
    "    .when(trim(col(\"local_cotacao\")) == \"Rio de janeiro\", \"Rio de Janeiro\")\n",
    "    .when(trim(col(\"local_cotacao\")) == \"Belo Horizote\", \"Belo Horizonte\")\n",
    "    .when(trim(col(\"local_cotacao\")) == \"Floripa\", \"Florianopolis\")\n",
    "    .when(trim(col(\"local_cotacao\")) == \"S Paulo\", \"Sao Paulo\")\n",
    "    .when(trim(col(\"local_cotacao\")) == \"RIO\", \"Rio de Janeiro\")\n",
    "    .otherwise(trim(col(\"local_cotacao\")))\n",
    ")\n",
    "# Limpeza de múltiplos erros na string de data ANTES da conversão\n",
    "df_cotacoes_text = df_cotacoes_text.withColumn(\"data_cotacao_str\", regexp_replace(col(\"data_cotacao\"), \"/\", \"-\"))\n",
    "df_cotacoes_text = df_cotacoes_text.withColumn(\"data_cotacao_str\", regexp_replace(col(\"data_cotacao_str\"), \"^220\", \"20\"))\n",
    "\n",
    "\n",
    "#realizando o cast para cada tipo certo de dado\n",
    "df_cotacoes = df_cotacoes_text.select(\n",
    "    col(\"id_cotacao\").cast(\"int\"),\n",
    "    to_date(col(\"data_cotacao_str\"), \"yyyy-MM-dd\").alias(\"data_cotacao\"),\n",
    "    col(\"local_cotacao\"), col(\"maquina_cotada\"),\n",
    "    col(\"valor_estimado\").cast(\"double\"), col(\"revendedor_id\").cast(\"int\"),\n",
    "    col(\"status_cotacao\")\n",
    ")\n",
    "\n",
    "display(df_cotacoes)"
   ]
  },
  {
   "cell_type": "code",
   "execution_count": 0,
   "metadata": {
    "application/vnd.databricks.v1+cell": {
     "cellMetadata": {
      "byteLimit": 2048000,
      "rowLimit": 10000
     },
     "inputWidgets": {},
     "nuid": "d967351c-cb6f-4334-803d-7097b2eacfeb",
     "showTitle": false,
     "tableResultSettingsMap": {},
     "title": ""
    }
   },
   "outputs": [
    {
     "output_type": "stream",
     "name": "stdout",
     "output_type": "stream",
     "text": [
      "✅ DataFrame Unificado com Colunas-Chave Unificadas:\n"
     ]
    },
    {
     "output_type": "display_data",
     "data": {
      "text/html": [
       "<style scoped>\n",
       "  .table-result-container {\n",
       "    max-height: 300px;\n",
       "    overflow: auto;\n",
       "  }\n",
       "  table, th, td {\n",
       "    border: 1px solid black;\n",
       "    border-collapse: collapse;\n",
       "  }\n",
       "  th, td {\n",
       "    padding: 5px;\n",
       "  }\n",
       "  th {\n",
       "    text-align: left;\n",
       "  }\n",
       "</style><div class='table-result-container'><table class='table-result'><thead style='background-color: white'><tr><th>revendedor_id</th><th>local_venda</th><th>tipo_maquina</th><th>id_venda</th><th>data_venda</th><th>valor_total</th><th>id_cotacao</th><th>data_cotacao</th><th>maquina_cotada</th><th>valor_estimado</th><th>status_cotacao</th></tr></thead><tbody><tr><td>109</td><td>Salvador</td><td>Pulverizador</td><td>47</td><td>2025-07-17</td><td>88000.0</td><td>1020</td><td>2025-06-16</td><td>Pulverizador Modelo T</td><td>85000.0</td><td>Proposta enviada</td></tr><tr><td>109</td><td>Salvador</td><td>Pulverizador</td><td>47</td><td>2025-07-17</td><td>88000.0</td><td>1029</td><td>2025-06-25</td><td>Pulverizador Modelo CC</td><td>81000.0</td><td>Em negociacao</td></tr><tr><td>109</td><td>Salvador</td><td>Pulverizador</td><td>47</td><td>2025-07-17</td><td>88000.0</td><td>1038</td><td>2025-07-04</td><td>Pulverizador Modelo LL</td><td>86000.0</td><td>Proposta enviada</td></tr><tr><td>107</td><td>Recife</td><td>Colheitadeira</td><td>45</td><td>2025-07-15</td><td>301000.0</td><td>1018</td><td>2025-06-14</td><td>Colheitadeira Modelo R</td><td>295000.0</td><td>Proposta enviada</td></tr><tr><td>107</td><td>Recife</td><td>Colheitadeira</td><td>45</td><td>2025-07-15</td><td>301000.0</td><td>1027</td><td>2025-06-23</td><td>Colheitadeira Modelo AA</td><td>288000.0</td><td>Em negociacao</td></tr><tr><td>107</td><td>Recife</td><td>Colheitadeira</td><td>45</td><td>2025-07-15</td><td>301000.0</td><td>1036</td><td>2025-07-02</td><td>Colheitadeira Modelo JJ</td><td>298000.0</td><td>Proposta enviada</td></tr><tr><td>109</td><td>Salvador</td><td>Colheitadeira</td><td>12</td><td>2025-06-12</td><td>290000.0</td><td>1012</td><td>2025-06-08</td><td>Colheitadeira Modelo L</td><td>290000.0</td><td>Proposta enviada</td></tr><tr><td>108</td><td>Porto Alegre</td><td>Trator</td><td>46</td><td>2025-07-16</td><td>153000.0</td><td>1019</td><td>2025-06-15</td><td>Trator Modelo S</td><td>148000.0</td><td>Em negociacao</td></tr><tr><td>108</td><td>Porto Alegre</td><td>Trator</td><td>46</td><td>2025-07-16</td><td>153000.0</td><td>1028</td><td>2025-06-24</td><td>Trator Modelo BB</td><td>149000.0</td><td>Proposta enviada</td></tr><tr><td>108</td><td>Porto Alegre</td><td>Trator</td><td>46</td><td>2025-07-16</td><td>153000.0</td><td>1037</td><td>2025-07-03</td><td>Trator Modelo KK</td><td>151000.0</td><td>Em negociacao</td></tr><tr><td>102</td><td>Rio de Janeiro</td><td>Pulverizador</td><td>14</td><td>2025-06-14</td><td>82000.0</td><td>1007</td><td>2025-06-04</td><td>Pulverizador Modelo G</td><td>78000.0</td><td>Em negociacao</td></tr><tr><td>102</td><td>Rio de Janeiro</td><td>Pulverizador</td><td>14</td><td>2025-06-14</td><td>82000.0</td><td>1014</td><td>2025-06-10</td><td>Pulverizador Modelo N</td><td>82000.0</td><td>Proposta enviada</td></tr><tr><td>102</td><td>Rio de Janeiro</td><td>Pulverizador</td><td>14</td><td>2025-06-14</td><td>82000.0</td><td>1007</td><td>2025-06-04</td><td>Pulverizador Modelo G</td><td>78000.0</td><td>Aberta</td></tr><tr><td>101</td><td>Sao Paulo</td><td>Colheitadeira</td><td>48</td><td>2025-07-18</td><td>318000.0</td><td>1009</td><td>2025-06-05</td><td>Colheitadeira Modelo I</td><td>320000.0</td><td>Em negociacao</td></tr><tr><td>101</td><td>Sao Paulo</td><td>Colheitadeira</td><td>48</td><td>2025-07-18</td><td>318000.0</td><td>1021</td><td>2025-06-17</td><td>Colheitadeira Modelo U</td><td>305000.0</td><td>Em negociacao</td></tr><tr><td>101</td><td>Sao Paulo</td><td>Colheitadeira</td><td>48</td><td>2025-07-18</td><td>318000.0</td><td>1030</td><td>2025-06-26</td><td>Colheitadeira Modelo DD</td><td>312000.0</td><td>Proposta enviada</td></tr><tr><td>101</td><td>Sao Paulo</td><td>Colheitadeira</td><td>48</td><td>2025-07-18</td><td>318000.0</td><td>1039</td><td>2025-07-05</td><td>Colheitadeira Modelo MM</td><td>315000.0</td><td>Em negociacao</td></tr><tr><td>101</td><td>Sao Paulo</td><td>Colheitadeira</td><td>48</td><td>2025-07-18</td><td>318000.0</td><td>1009</td><td>2025-06-05</td><td>Colheitadeira Modelo I</td><td>320000.0</td><td>Fechada</td></tr><tr><td>106</td><td>Curitiba</td><td>Trator</td><td>8</td><td>2025-06-08</td><td>145000.0</td><td>1008</td><td>2025-06-05</td><td>Trator Modelo H</td><td>150000.0</td><td>Proposta enviada</td></tr><tr><td>106</td><td>Curitiba</td><td>Trator</td><td>8</td><td>2025-06-08</td><td>145000.0</td><td>1008</td><td>2025-06-05</td><td>Trator Modelo H</td><td>150000.0</td><td>Aberta</td></tr><tr><td>101</td><td>Sao Paulo</td><td>Trator</td><td>13</td><td>2025-06-13</td><td>155000.0</td><td>1001</td><td>2025-06-01</td><td>Trator Modelo A</td><td>155000.0</td><td>Em negociacao</td></tr><tr><td>101</td><td>Sao Paulo</td><td>Trator</td><td>13</td><td>2025-06-13</td><td>155000.0</td><td>1013</td><td>2025-06-09</td><td>Trator Modelo M</td><td>155000.0</td><td>Em negociacao</td></tr><tr><td>101</td><td>Sao Paulo</td><td>Trator</td><td>13</td><td>2025-06-13</td><td>155000.0</td><td>1001</td><td>2025-06-01</td><td>Trator Modelo A</td><td>155000.0</td><td>Aberta</td></tr><tr><td>105</td><td>Brasilia</td><td>Trator</td><td>52</td><td>2025-07-22</td><td>172000.0</td><td>1016</td><td>2025-06-12</td><td>Trator Modelo P</td><td>162000.0</td><td>Proposta enviada</td></tr><tr><td>105</td><td>Brasilia</td><td>Trator</td><td>52</td><td>2025-07-22</td><td>172000.0</td><td>1025</td><td>2025-06-21</td><td>Trator Modelo Y</td><td>165000.0</td><td>Em negociacao</td></tr><tr><td>105</td><td>Brasilia</td><td>Trator</td><td>52</td><td>2025-07-22</td><td>172000.0</td><td>1034</td><td>2025-06-30</td><td>Trator Modelo HH</td><td>168000.0</td><td>Proposta enviada</td></tr><tr><td>105</td><td>Brasilia</td><td>Trator</td><td>52</td><td>2025-07-22</td><td>172000.0</td><td>1043</td><td>2025-07-09</td><td>Trator Modelo QQ</td><td>170000.0</td><td>Em negociacao</td></tr><tr><td>103</td><td>Belo Horizonte</td><td>Trator</td><td>4</td><td>2025-06-04</td><td>160000.0</td><td>1004</td><td>2025-06-03</td><td>Trator Modelo D</td><td>165000.0</td><td>Proposta enviada</td></tr><tr><td>103</td><td>Belo Horizonte</td><td>Trator</td><td>4</td><td>2025-06-04</td><td>160000.0</td><td>1004</td><td>2025-06-03</td><td>Trator Modelo D</td><td>165000.0</td><td>Aberta</td></tr><tr><td>103</td><td>Belo Horizonte</td><td>Trator</td><td>4</td><td>2025-06-04</td><td>160000.0</td><td>1012</td><td>2025-06-08</td><td>Trator Modelo K</td><td>170000.0</td><td>Fechada</td></tr><tr><td>106</td><td>Curitiba</td><td>Pulverizador</td><td>44</td><td>2025-07-14</td><td>79000.0</td><td>1017</td><td>2025-06-13</td><td>Pulverizador Modelo Q</td><td>78000.0</td><td>Em negociacao</td></tr><tr><td>106</td><td>Curitiba</td><td>Pulverizador</td><td>44</td><td>2025-07-14</td><td>79000.0</td><td>1026</td><td>2025-06-22</td><td>Pulverizador Modelo Z</td><td>76000.0</td><td>Proposta enviada</td></tr><tr><td>106</td><td>Curitiba</td><td>Pulverizador</td><td>44</td><td>2025-07-14</td><td>79000.0</td><td>1035</td><td>2025-07-01</td><td>Pulverizador Modelo II</td><td>77000.0</td><td>Em negociacao</td></tr><tr><td>106</td><td>Curitiba</td><td>Pulverizador</td><td>44</td><td>2025-07-14</td><td>79000.0</td><td>1044</td><td>2025-07-10</td><td>Pulverizador Modelo RR</td><td>79000.0</td><td>Proposta enviada</td></tr><tr><td>107</td><td>Recife</td><td>Trator</td><td>10</td><td>2025-06-10</td><td>130000.0</td><td>1010</td><td>2025-06-06</td><td>Trator Modelo J</td><td>130000.0</td><td>Proposta enviada</td></tr><tr><td>107</td><td>Recife</td><td>Trator</td><td>10</td><td>2025-06-10</td><td>130000.0</td><td>1010</td><td>2025-06-06</td><td>Trator Modelo J</td><td>135000.0</td><td>Aberta</td></tr><tr><td>104</td><td>Florianopolis</td><td>Colheitadeira</td><td>51</td><td>2025-07-21</td><td>305000.0</td><td>1024</td><td>2025-06-20</td><td>Colheitadeira Modelo X</td><td>285000.0</td><td>Proposta enviada</td></tr><tr><td>104</td><td>Florianopolis</td><td>Colheitadeira</td><td>51</td><td>2025-07-21</td><td>305000.0</td><td>1033</td><td>2025-06-29</td><td>Colheitadeira Modelo GG</td><td>292000.0</td><td>Em negociacao</td></tr><tr><td>104</td><td>Florianopolis</td><td>Colheitadeira</td><td>51</td><td>2025-07-21</td><td>305000.0</td><td>1042</td><td>2025-07-08</td><td>Colheitadeira Modelo PP</td><td>297000.0</td><td>Proposta enviada</td></tr><tr><td>103</td><td>Belo Horizonte</td><td>Pulverizador</td><td>50</td><td>2025-07-20</td><td>85000.0</td><td>1023</td><td>2025-06-19</td><td>Pulverizador Modelo W</td><td>79000.0</td><td>Em negociacao</td></tr><tr><td>103</td><td>Belo Horizonte</td><td>Pulverizador</td><td>50</td><td>2025-07-20</td><td>85000.0</td><td>1032</td><td>2025-06-28</td><td>Pulverizador Modelo FF</td><td>83000.0</td><td>Proposta enviada</td></tr><tr><td>103</td><td>Belo Horizonte</td><td>Pulverizador</td><td>50</td><td>2025-07-20</td><td>85000.0</td><td>1041</td><td>2025-07-07</td><td>Pulverizador Modelo OO</td><td>84000.0</td><td>Em negociacao</td></tr><tr><td>105</td><td>Brasilia</td><td>Colheitadeira</td><td>6</td><td>2025-06-06</td><td>280000.0</td><td>1006</td><td>2025-06-04</td><td>Colheitadeira Modelo F</td><td>290000.0</td><td>Proposta enviada</td></tr><tr><td>105</td><td>Brasilia</td><td>Colheitadeira</td><td>6</td><td>2025-06-06</td><td>280000.0</td><td>1006</td><td>2025-06-04</td><td>Colheitadeira Modelo F</td><td>290000.0</td><td>Fechada</td></tr><tr><td>101</td><td>Sao Paulo</td><td>Pulverizador</td><td>3</td><td>2025-06-03</td><td>80000.0</td><td>1003</td><td>2025-06-02</td><td>Pulverizador Modelo C</td><td>82000.0</td><td>Em negociacao</td></tr><tr><td>101</td><td>Sao Paulo</td><td>Pulverizador</td><td>3</td><td>2025-06-03</td><td>80000.0</td><td>1003</td><td>2025-06-02</td><td>Pulverizador Modelo C</td><td>82000.0</td><td>Fechada</td></tr><tr><td>102</td><td>Rio de Janeiro</td><td>Colheitadeira</td><td>2</td><td>2025-06-02</td><td>300000.0</td><td>1002</td><td>2025-06-01</td><td>Colheitadeira Modelo B</td><td>300000.0</td><td>Proposta enviada</td></tr><tr><td>102</td><td>Rio de Janeiro</td><td>Colheitadeira</td><td>2</td><td>2025-06-02</td><td>300000.0</td><td>1002</td><td>2025-06-01</td><td>Colheitadeira Modelo B</td><td>310000.0</td><td>Aberta</td></tr><tr><td>102</td><td>Rio de Janeiro</td><td>Trator</td><td>49</td><td>2025-07-19</td><td>161000.0</td><td>1022</td><td>2025-06-18</td><td>Trator Modelo V</td><td>153000.0</td><td>Proposta enviada</td></tr><tr><td>102</td><td>Rio de Janeiro</td><td>Trator</td><td>49</td><td>2025-07-19</td><td>161000.0</td><td>1031</td><td>2025-06-27</td><td>Trator Modelo EE</td><td>157000.0</td><td>Em negociacao</td></tr><tr><td>102</td><td>Rio de Janeiro</td><td>Trator</td><td>49</td><td>2025-07-19</td><td>161000.0</td><td>1040</td><td>2025-07-06</td><td>Trator Modelo NN</td><td>159000.0</td><td>Proposta enviada</td></tr><tr><td>109</td><td>Salvador</td><td>Pulverizador</td><td>38</td><td>2025-07-08</td><td>86000.0</td><td>1020</td><td>2025-06-16</td><td>Pulverizador Modelo T</td><td>85000.0</td><td>Proposta enviada</td></tr><tr><td>109</td><td>Salvador</td><td>Pulverizador</td><td>38</td><td>2025-07-08</td><td>86000.0</td><td>1029</td><td>2025-06-25</td><td>Pulverizador Modelo CC</td><td>81000.0</td><td>Em negociacao</td></tr><tr><td>109</td><td>Salvador</td><td>Pulverizador</td><td>38</td><td>2025-07-08</td><td>86000.0</td><td>1038</td><td>2025-07-04</td><td>Pulverizador Modelo LL</td><td>86000.0</td><td>Proposta enviada</td></tr><tr><td>107</td><td>Recife</td><td>Colheitadeira</td><td>36</td><td>2025-07-06</td><td>298000.0</td><td>1018</td><td>2025-06-14</td><td>Colheitadeira Modelo R</td><td>295000.0</td><td>Proposta enviada</td></tr><tr><td>107</td><td>Recife</td><td>Colheitadeira</td><td>36</td><td>2025-07-06</td><td>298000.0</td><td>1027</td><td>2025-06-23</td><td>Colheitadeira Modelo AA</td><td>288000.0</td><td>Em negociacao</td></tr><tr><td>107</td><td>Recife</td><td>Colheitadeira</td><td>36</td><td>2025-07-06</td><td>298000.0</td><td>1036</td><td>2025-07-02</td><td>Colheitadeira Modelo JJ</td><td>298000.0</td><td>Proposta enviada</td></tr><tr><td>108</td><td>Porto Alegre</td><td>Trator</td><td>37</td><td>2025-07-07</td><td>151000.0</td><td>1019</td><td>2025-06-15</td><td>Trator Modelo S</td><td>148000.0</td><td>Em negociacao</td></tr><tr><td>108</td><td>Porto Alegre</td><td>Trator</td><td>37</td><td>2025-07-07</td><td>151000.0</td><td>1028</td><td>2025-06-24</td><td>Trator Modelo BB</td><td>149000.0</td><td>Proposta enviada</td></tr><tr><td>108</td><td>Porto Alegre</td><td>Trator</td><td>37</td><td>2025-07-07</td><td>151000.0</td><td>1037</td><td>2025-07-03</td><td>Trator Modelo KK</td><td>151000.0</td><td>Em negociacao</td></tr><tr><td>102</td><td>Rio de Janeiro</td><td>Pulverizador</td><td>7</td><td>2025-06-07</td><td>75000.0</td><td>1007</td><td>2025-06-04</td><td>Pulverizador Modelo G</td><td>78000.0</td><td>Em negociacao</td></tr><tr><td>102</td><td>Rio de Janeiro</td><td>Pulverizador</td><td>7</td><td>2025-06-07</td><td>75000.0</td><td>1014</td><td>2025-06-10</td><td>Pulverizador Modelo N</td><td>82000.0</td><td>Proposta enviada</td></tr><tr><td>102</td><td>Rio de Janeiro</td><td>Pulverizador</td><td>7</td><td>2025-06-07</td><td>75000.0</td><td>1007</td><td>2025-06-04</td><td>Pulverizador Modelo G</td><td>78000.0</td><td>Aberta</td></tr><tr><td>101</td><td>Sao Paulo</td><td>Colheitadeira</td><td>39</td><td>2025-07-09</td><td>315000.0</td><td>1009</td><td>2025-06-05</td><td>Colheitadeira Modelo I</td><td>320000.0</td><td>Em negociacao</td></tr><tr><td>101</td><td>Sao Paulo</td><td>Colheitadeira</td><td>39</td><td>2025-07-09</td><td>315000.0</td><td>1021</td><td>2025-06-17</td><td>Colheitadeira Modelo U</td><td>305000.0</td><td>Em negociacao</td></tr><tr><td>101</td><td>Sao Paulo</td><td>Colheitadeira</td><td>39</td><td>2025-07-09</td><td>315000.0</td><td>1030</td><td>2025-06-26</td><td>Colheitadeira Modelo DD</td><td>312000.0</td><td>Proposta enviada</td></tr><tr><td>101</td><td>Sao Paulo</td><td>Colheitadeira</td><td>39</td><td>2025-07-09</td><td>315000.0</td><td>1039</td><td>2025-07-05</td><td>Colheitadeira Modelo MM</td><td>315000.0</td><td>Em negociacao</td></tr><tr><td>101</td><td>Sao Paulo</td><td>Colheitadeira</td><td>39</td><td>2025-07-09</td><td>315000.0</td><td>1009</td><td>2025-06-05</td><td>Colheitadeira Modelo I</td><td>320000.0</td><td>Fechada</td></tr><tr><td>101</td><td>Sao Paulo</td><td>Trator</td><td>1</td><td>2025-06-01</td><td>150000.0</td><td>1001</td><td>2025-06-01</td><td>Trator Modelo A</td><td>155000.0</td><td>Em negociacao</td></tr><tr><td>101</td><td>Sao Paulo</td><td>Trator</td><td>1</td><td>2025-06-01</td><td>150000.0</td><td>1013</td><td>2025-06-09</td><td>Trator Modelo M</td><td>155000.0</td><td>Em negociacao</td></tr><tr><td>101</td><td>Sao Paulo</td><td>Trator</td><td>1</td><td>2025-06-01</td><td>150000.0</td><td>1001</td><td>2025-06-01</td><td>Trator Modelo A</td><td>155000.0</td><td>Aberta</td></tr><tr><td>105</td><td>Brasilia</td><td>Trator</td><td>43</td><td>2025-07-13</td><td>170000.0</td><td>1016</td><td>2025-06-12</td><td>Trator Modelo P</td><td>162000.0</td><td>Proposta enviada</td></tr><tr><td>105</td><td>Brasilia</td><td>Trator</td><td>43</td><td>2025-07-13</td><td>170000.0</td><td>1025</td><td>2025-06-21</td><td>Trator Modelo Y</td><td>165000.0</td><td>Em negociacao</td></tr><tr><td>105</td><td>Brasilia</td><td>Trator</td><td>43</td><td>2025-07-13</td><td>170000.0</td><td>1034</td><td>2025-06-30</td><td>Trator Modelo HH</td><td>168000.0</td><td>Proposta enviada</td></tr><tr><td>105</td><td>Brasilia</td><td>Trator</td><td>43</td><td>2025-07-13</td><td>170000.0</td><td>1043</td><td>2025-07-09</td><td>Trator Modelo QQ</td><td>170000.0</td><td>Em negociacao</td></tr><tr><td>106</td><td>Curitiba</td><td>Pulverizador</td><td>35</td><td>2025-07-05</td><td>77000.0</td><td>1017</td><td>2025-06-13</td><td>Pulverizador Modelo Q</td><td>78000.0</td><td>Em negociacao</td></tr><tr><td>106</td><td>Curitiba</td><td>Pulverizador</td><td>35</td><td>2025-07-05</td><td>77000.0</td><td>1026</td><td>2025-06-22</td><td>Pulverizador Modelo Z</td><td>76000.0</td><td>Proposta enviada</td></tr><tr><td>106</td><td>Curitiba</td><td>Pulverizador</td><td>35</td><td>2025-07-05</td><td>77000.0</td><td>1035</td><td>2025-07-01</td><td>Pulverizador Modelo II</td><td>77000.0</td><td>Em negociacao</td></tr><tr><td>106</td><td>Curitiba</td><td>Pulverizador</td><td>35</td><td>2025-07-05</td><td>77000.0</td><td>1044</td><td>2025-07-10</td><td>Pulverizador Modelo RR</td><td>79000.0</td><td>Proposta enviada</td></tr><tr><td>104</td><td>Florianopolis</td><td>Colheitadeira</td><td>42</td><td>2025-07-12</td><td>297000.0</td><td>1024</td><td>2025-06-20</td><td>Colheitadeira Modelo X</td><td>285000.0</td><td>Proposta enviada</td></tr><tr><td>104</td><td>Florianopolis</td><td>Colheitadeira</td><td>42</td><td>2025-07-12</td><td>297000.0</td><td>1033</td><td>2025-06-29</td><td>Colheitadeira Modelo GG</td><td>292000.0</td><td>Em negociacao</td></tr><tr><td>104</td><td>Florianopolis</td><td>Colheitadeira</td><td>42</td><td>2025-07-12</td><td>297000.0</td><td>1042</td><td>2025-07-08</td><td>Colheitadeira Modelo PP</td><td>297000.0</td><td>Proposta enviada</td></tr><tr><td>103</td><td>Belo Horizonte</td><td>Pulverizador</td><td>41</td><td>2025-07-11</td><td>84000.0</td><td>1023</td><td>2025-06-19</td><td>Pulverizador Modelo W</td><td>79000.0</td><td>Em negociacao</td></tr><tr><td>103</td><td>Belo Horizonte</td><td>Pulverizador</td><td>41</td><td>2025-07-11</td><td>84000.0</td><td>1032</td><td>2025-06-28</td><td>Pulverizador Modelo FF</td><td>83000.0</td><td>Proposta enviada</td></tr><tr><td>103</td><td>Belo Horizonte</td><td>Pulverizador</td><td>41</td><td>2025-07-11</td><td>84000.0</td><td>1041</td><td>2025-07-07</td><td>Pulverizador Modelo OO</td><td>84000.0</td><td>Em negociacao</td></tr><tr><td>102</td><td>Rio de Janeiro</td><td>Trator</td><td>40</td><td>2025-07-10</td><td>159000.0</td><td>1022</td><td>2025-06-18</td><td>Trator Modelo V</td><td>153000.0</td><td>Proposta enviada</td></tr><tr><td>102</td><td>Rio de Janeiro</td><td>Trator</td><td>40</td><td>2025-07-10</td><td>159000.0</td><td>1031</td><td>2025-06-27</td><td>Trator Modelo EE</td><td>157000.0</td><td>Em negociacao</td></tr><tr><td>102</td><td>Rio de Janeiro</td><td>Trator</td><td>40</td><td>2025-07-10</td><td>159000.0</td><td>1040</td><td>2025-07-06</td><td>Trator Modelo NN</td><td>159000.0</td><td>Proposta enviada</td></tr><tr><td>109</td><td>Salvador</td><td>Pulverizador</td><td>29</td><td>2025-06-29</td><td>81000.0</td><td>1020</td><td>2025-06-16</td><td>Pulverizador Modelo T</td><td>85000.0</td><td>Proposta enviada</td></tr><tr><td>109</td><td>Salvador</td><td>Pulverizador</td><td>29</td><td>2025-06-29</td><td>81000.0</td><td>1029</td><td>2025-06-25</td><td>Pulverizador Modelo CC</td><td>81000.0</td><td>Em negociacao</td></tr><tr><td>109</td><td>Salvador</td><td>Pulverizador</td><td>29</td><td>2025-06-29</td><td>81000.0</td><td>1038</td><td>2025-07-04</td><td>Pulverizador Modelo LL</td><td>86000.0</td><td>Proposta enviada</td></tr><tr><td>107</td><td>Recife</td><td>Colheitadeira</td><td>27</td><td>2025-06-27</td><td>288000.0</td><td>1018</td><td>2025-06-14</td><td>Colheitadeira Modelo R</td><td>295000.0</td><td>Proposta enviada</td></tr><tr><td>107</td><td>Recife</td><td>Colheitadeira</td><td>27</td><td>2025-06-27</td><td>288000.0</td><td>1027</td><td>2025-06-23</td><td>Colheitadeira Modelo AA</td><td>288000.0</td><td>Em negociacao</td></tr><tr><td>107</td><td>Recife</td><td>Colheitadeira</td><td>27</td><td>2025-06-27</td><td>288000.0</td><td>1036</td><td>2025-07-02</td><td>Colheitadeira Modelo JJ</td><td>298000.0</td><td>Proposta enviada</td></tr><tr><td>108</td><td>Porto Alegre</td><td>Trator</td><td>28</td><td>2025-06-28</td><td>149000.0</td><td>1019</td><td>2025-06-15</td><td>Trator Modelo S</td><td>148000.0</td><td>Em negociacao</td></tr><tr><td>108</td><td>Porto Alegre</td><td>Trator</td><td>28</td><td>2025-06-28</td><td>149000.0</td><td>1028</td><td>2025-06-24</td><td>Trator Modelo BB</td><td>149000.0</td><td>Proposta enviada</td></tr><tr><td>108</td><td>Porto Alegre</td><td>Trator</td><td>28</td><td>2025-06-28</td><td>149000.0</td><td>1037</td><td>2025-07-03</td><td>Trator Modelo KK</td><td>151000.0</td><td>Em negociacao</td></tr><tr><td>101</td><td>Sao Paulo</td><td>Colheitadeira</td><td>30</td><td>2025-06-30</td><td>312000.0</td><td>1009</td><td>2025-06-05</td><td>Colheitadeira Modelo I</td><td>320000.0</td><td>Em negociacao</td></tr><tr><td>101</td><td>Sao Paulo</td><td>Colheitadeira</td><td>30</td><td>2025-06-30</td><td>312000.0</td><td>1021</td><td>2025-06-17</td><td>Colheitadeira Modelo U</td><td>305000.0</td><td>Em negociacao</td></tr><tr><td>101</td><td>Sao Paulo</td><td>Colheitadeira</td><td>30</td><td>2025-06-30</td><td>312000.0</td><td>1030</td><td>2025-06-26</td><td>Colheitadeira Modelo DD</td><td>312000.0</td><td>Proposta enviada</td></tr><tr><td>101</td><td>Sao Paulo</td><td>Colheitadeira</td><td>30</td><td>2025-06-30</td><td>312000.0</td><td>1039</td><td>2025-07-05</td><td>Colheitadeira Modelo MM</td><td>315000.0</td><td>Em negociacao</td></tr><tr><td>101</td><td>Sao Paulo</td><td>Colheitadeira</td><td>30</td><td>2025-06-30</td><td>312000.0</td><td>1009</td><td>2025-06-05</td><td>Colheitadeira Modelo I</td><td>320000.0</td><td>Fechada</td></tr><tr><td>105</td><td>Brasilia</td><td>Trator</td><td>34</td><td>2025-07-04</td><td>168000.0</td><td>1016</td><td>2025-06-12</td><td>Trator Modelo P</td><td>162000.0</td><td>Proposta enviada</td></tr><tr><td>105</td><td>Brasilia</td><td>Trator</td><td>34</td><td>2025-07-04</td><td>168000.0</td><td>1025</td><td>2025-06-21</td><td>Trator Modelo Y</td><td>165000.0</td><td>Em negociacao</td></tr><tr><td>105</td><td>Brasilia</td><td>Trator</td><td>34</td><td>2025-07-04</td><td>168000.0</td><td>1034</td><td>2025-06-30</td><td>Trator Modelo HH</td><td>168000.0</td><td>Proposta enviada</td></tr><tr><td>105</td><td>Brasilia</td><td>Trator</td><td>34</td><td>2025-07-04</td><td>168000.0</td><td>1043</td><td>2025-07-09</td><td>Trator Modelo QQ</td><td>170000.0</td><td>Em negociacao</td></tr><tr><td>106</td><td>Curitiba</td><td>Pulverizador</td><td>17</td><td>2025-06-17</td><td>78000.0</td><td>1017</td><td>2025-06-13</td><td>Pulverizador Modelo Q</td><td>78000.0</td><td>Em negociacao</td></tr><tr><td>106</td><td>Curitiba</td><td>Pulverizador</td><td>17</td><td>2025-06-17</td><td>78000.0</td><td>1026</td><td>2025-06-22</td><td>Pulverizador Modelo Z</td><td>76000.0</td><td>Proposta enviada</td></tr><tr><td>106</td><td>Curitiba</td><td>Pulverizador</td><td>17</td><td>2025-06-17</td><td>78000.0</td><td>1035</td><td>2025-07-01</td><td>Pulverizador Modelo II</td><td>77000.0</td><td>Em negociacao</td></tr><tr><td>106</td><td>Curitiba</td><td>Pulverizador</td><td>17</td><td>2025-06-17</td><td>78000.0</td><td>1044</td><td>2025-07-10</td><td>Pulverizador Modelo RR</td><td>79000.0</td><td>Proposta enviada</td></tr><tr><td>104</td><td>Florianopolis</td><td>Colheitadeira</td><td>33</td><td>2025-07-03</td><td>292000.0</td><td>1024</td><td>2025-06-20</td><td>Colheitadeira Modelo X</td><td>285000.0</td><td>Proposta enviada</td></tr><tr><td>104</td><td>Florianopolis</td><td>Colheitadeira</td><td>33</td><td>2025-07-03</td><td>292000.0</td><td>1033</td><td>2025-06-29</td><td>Colheitadeira Modelo GG</td><td>292000.0</td><td>Em negociacao</td></tr><tr><td>104</td><td>Florianopolis</td><td>Colheitadeira</td><td>33</td><td>2025-07-03</td><td>292000.0</td><td>1042</td><td>2025-07-08</td><td>Colheitadeira Modelo PP</td><td>297000.0</td><td>Proposta enviada</td></tr><tr><td>103</td><td>Belo Horizonte</td><td>Pulverizador</td><td>32</td><td>2025-07-02</td><td>83000.0</td><td>1023</td><td>2025-06-19</td><td>Pulverizador Modelo W</td><td>79000.0</td><td>Em negociacao</td></tr><tr><td>103</td><td>Belo Horizonte</td><td>Pulverizador</td><td>32</td><td>2025-07-02</td><td>83000.0</td><td>1032</td><td>2025-06-28</td><td>Pulverizador Modelo FF</td><td>83000.0</td><td>Proposta enviada</td></tr><tr><td>103</td><td>Belo Horizonte</td><td>Pulverizador</td><td>32</td><td>2025-07-02</td><td>83000.0</td><td>1041</td><td>2025-07-07</td><td>Pulverizador Modelo OO</td><td>84000.0</td><td>Em negociacao</td></tr><tr><td>102</td><td>Rio de Janeiro</td><td>Trator</td><td>31</td><td>2025-07-01</td><td>157000.0</td><td>1022</td><td>2025-06-18</td><td>Trator Modelo V</td><td>153000.0</td><td>Proposta enviada</td></tr><tr><td>102</td><td>Rio de Janeiro</td><td>Trator</td><td>31</td><td>2025-07-01</td><td>157000.0</td><td>1031</td><td>2025-06-27</td><td>Trator Modelo EE</td><td>157000.0</td><td>Em negociacao</td></tr><tr><td>102</td><td>Rio de Janeiro</td><td>Trator</td><td>31</td><td>2025-07-01</td><td>157000.0</td><td>1040</td><td>2025-07-06</td><td>Trator Modelo NN</td><td>159000.0</td><td>Proposta enviada</td></tr><tr><td>109</td><td>Salvador</td><td>Pulverizador</td><td>20</td><td>2025-06-20</td><td>85000.0</td><td>1020</td><td>2025-06-16</td><td>Pulverizador Modelo T</td><td>85000.0</td><td>Proposta enviada</td></tr><tr><td>109</td><td>Salvador</td><td>Pulverizador</td><td>20</td><td>2025-06-20</td><td>85000.0</td><td>1029</td><td>2025-06-25</td><td>Pulverizador Modelo CC</td><td>81000.0</td><td>Em negociacao</td></tr><tr><td>109</td><td>Salvador</td><td>Pulverizador</td><td>20</td><td>2025-06-20</td><td>85000.0</td><td>1038</td><td>2025-07-04</td><td>Pulverizador Modelo LL</td><td>86000.0</td><td>Proposta enviada</td></tr><tr><td>107</td><td>Recife</td><td>Colheitadeira</td><td>18</td><td>2025-06-18</td><td>295000.0</td><td>1018</td><td>2025-06-14</td><td>Colheitadeira Modelo R</td><td>295000.0</td><td>Proposta enviada</td></tr><tr><td>107</td><td>Recife</td><td>Colheitadeira</td><td>18</td><td>2025-06-18</td><td>295000.0</td><td>1027</td><td>2025-06-23</td><td>Colheitadeira Modelo AA</td><td>288000.0</td><td>Em negociacao</td></tr><tr><td>107</td><td>Recife</td><td>Colheitadeira</td><td>18</td><td>2025-06-18</td><td>295000.0</td><td>1036</td><td>2025-07-02</td><td>Colheitadeira Modelo JJ</td><td>298000.0</td><td>Proposta enviada</td></tr><tr><td>108</td><td>Porto Alegre</td><td>Trator</td><td>19</td><td>2025-06-19</td><td>148000.0</td><td>1019</td><td>2025-06-15</td><td>Trator Modelo S</td><td>148000.0</td><td>Em negociacao</td></tr><tr><td>108</td><td>Porto Alegre</td><td>Trator</td><td>19</td><td>2025-06-19</td><td>148000.0</td><td>1028</td><td>2025-06-24</td><td>Trator Modelo BB</td><td>149000.0</td><td>Proposta enviada</td></tr><tr><td>108</td><td>Porto Alegre</td><td>Trator</td><td>19</td><td>2025-06-19</td><td>148000.0</td><td>1037</td><td>2025-07-03</td><td>Trator Modelo KK</td><td>151000.0</td><td>Em negociacao</td></tr><tr><td>101</td><td>Sao Paulo</td><td>Colheitadeira</td><td>21</td><td>2025-06-21</td><td>305000.0</td><td>1009</td><td>2025-06-05</td><td>Colheitadeira Modelo I</td><td>320000.0</td><td>Em negociacao</td></tr><tr><td>101</td><td>Sao Paulo</td><td>Colheitadeira</td><td>21</td><td>2025-06-21</td><td>305000.0</td><td>1021</td><td>2025-06-17</td><td>Colheitadeira Modelo U</td><td>305000.0</td><td>Em negociacao</td></tr><tr><td>101</td><td>Sao Paulo</td><td>Colheitadeira</td><td>21</td><td>2025-06-21</td><td>305000.0</td><td>1030</td><td>2025-06-26</td><td>Colheitadeira Modelo DD</td><td>312000.0</td><td>Proposta enviada</td></tr><tr><td>101</td><td>Sao Paulo</td><td>Colheitadeira</td><td>21</td><td>2025-06-21</td><td>305000.0</td><td>1039</td><td>2025-07-05</td><td>Colheitadeira Modelo MM</td><td>315000.0</td><td>Em negociacao</td></tr><tr><td>101</td><td>Sao Paulo</td><td>Colheitadeira</td><td>21</td><td>2025-06-21</td><td>305000.0</td><td>1009</td><td>2025-06-05</td><td>Colheitadeira Modelo I</td><td>320000.0</td><td>Fechada</td></tr><tr><td>105</td><td>Brasilia</td><td>Trator</td><td>25</td><td>2025-06-25</td><td>165000.0</td><td>1016</td><td>2025-06-12</td><td>Trator Modelo P</td><td>162000.0</td><td>Proposta enviada</td></tr><tr><td>105</td><td>Brasilia</td><td>Trator</td><td>25</td><td>2025-06-25</td><td>165000.0</td><td>1025</td><td>2025-06-21</td><td>Trator Modelo Y</td><td>165000.0</td><td>Em negociacao</td></tr><tr><td>105</td><td>Brasilia</td><td>Trator</td><td>25</td><td>2025-06-25</td><td>165000.0</td><td>1034</td><td>2025-06-30</td><td>Trator Modelo HH</td><td>168000.0</td><td>Proposta enviada</td></tr><tr><td>105</td><td>Brasilia</td><td>Trator</td><td>25</td><td>2025-06-25</td><td>165000.0</td><td>1043</td><td>2025-07-09</td><td>Trator Modelo QQ</td><td>170000.0</td><td>Em negociacao</td></tr><tr><td>104</td><td>Florianopolis</td><td>Colheitadeira</td><td>24</td><td>2025-06-24</td><td>285000.0</td><td>1024</td><td>2025-06-20</td><td>Colheitadeira Modelo X</td><td>285000.0</td><td>Proposta enviada</td></tr><tr><td>104</td><td>Florianopolis</td><td>Colheitadeira</td><td>24</td><td>2025-06-24</td><td>285000.0</td><td>1033</td><td>2025-06-29</td><td>Colheitadeira Modelo GG</td><td>292000.0</td><td>Em negociacao</td></tr><tr><td>104</td><td>Florianopolis</td><td>Colheitadeira</td><td>24</td><td>2025-06-24</td><td>285000.0</td><td>1042</td><td>2025-07-08</td><td>Colheitadeira Modelo PP</td><td>297000.0</td><td>Proposta enviada</td></tr><tr><td>103</td><td>Belo Horizonte</td><td>Pulverizador</td><td>23</td><td>2025-06-23</td><td>79000.0</td><td>1023</td><td>2025-06-19</td><td>Pulverizador Modelo W</td><td>79000.0</td><td>Em negociacao</td></tr><tr><td>103</td><td>Belo Horizonte</td><td>Pulverizador</td><td>23</td><td>2025-06-23</td><td>79000.0</td><td>1032</td><td>2025-06-28</td><td>Pulverizador Modelo FF</td><td>83000.0</td><td>Proposta enviada</td></tr><tr><td>103</td><td>Belo Horizonte</td><td>Pulverizador</td><td>23</td><td>2025-06-23</td><td>79000.0</td><td>1041</td><td>2025-07-07</td><td>Pulverizador Modelo OO</td><td>84000.0</td><td>Em negociacao</td></tr><tr><td>102</td><td>Rio de Janeiro</td><td>Trator</td><td>22</td><td>2025-06-22</td><td>153000.0</td><td>1022</td><td>2025-06-18</td><td>Trator Modelo V</td><td>153000.0</td><td>Proposta enviada</td></tr><tr><td>102</td><td>Rio de Janeiro</td><td>Trator</td><td>22</td><td>2025-06-22</td><td>153000.0</td><td>1031</td><td>2025-06-27</td><td>Trator Modelo EE</td><td>157000.0</td><td>Em negociacao</td></tr><tr><td>102</td><td>Rio de Janeiro</td><td>Trator</td><td>22</td><td>2025-06-22</td><td>153000.0</td><td>1040</td><td>2025-07-06</td><td>Trator Modelo NN</td><td>159000.0</td><td>Proposta enviada</td></tr><tr><td>101</td><td>Sao Paulo</td><td>Colheitadeira</td><td>9</td><td>2025-06-09</td><td>310000.0</td><td>1009</td><td>2025-06-05</td><td>Colheitadeira Modelo I</td><td>320000.0</td><td>Em negociacao</td></tr><tr><td>101</td><td>Sao Paulo</td><td>Colheitadeira</td><td>9</td><td>2025-06-09</td><td>310000.0</td><td>1021</td><td>2025-06-17</td><td>Colheitadeira Modelo U</td><td>305000.0</td><td>Em negociacao</td></tr><tr><td>101</td><td>Sao Paulo</td><td>Colheitadeira</td><td>9</td><td>2025-06-09</td><td>310000.0</td><td>1030</td><td>2025-06-26</td><td>Colheitadeira Modelo DD</td><td>312000.0</td><td>Proposta enviada</td></tr><tr><td>101</td><td>Sao Paulo</td><td>Colheitadeira</td><td>9</td><td>2025-06-09</td><td>310000.0</td><td>1039</td><td>2025-07-05</td><td>Colheitadeira Modelo MM</td><td>315000.0</td><td>Em negociacao</td></tr><tr><td>101</td><td>Sao Paulo</td><td>Colheitadeira</td><td>9</td><td>2025-06-09</td><td>310000.0</td><td>1009</td><td>2025-06-05</td><td>Colheitadeira Modelo I</td><td>320000.0</td><td>Fechada</td></tr><tr><td>105</td><td>Brasilia</td><td>Trator</td><td>16</td><td>2025-06-16</td><td>162000.0</td><td>1016</td><td>2025-06-12</td><td>Trator Modelo P</td><td>162000.0</td><td>Proposta enviada</td></tr><tr><td>105</td><td>Brasilia</td><td>Trator</td><td>16</td><td>2025-06-16</td><td>162000.0</td><td>1025</td><td>2025-06-21</td><td>Trator Modelo Y</td><td>165000.0</td><td>Em negociacao</td></tr><tr><td>105</td><td>Brasilia</td><td>Trator</td><td>16</td><td>2025-06-16</td><td>162000.0</td><td>1034</td><td>2025-06-30</td><td>Trator Modelo HH</td><td>168000.0</td><td>Proposta enviada</td></tr><tr><td>105</td><td>Brasilia</td><td>Trator</td><td>16</td><td>2025-06-16</td><td>162000.0</td><td>1043</td><td>2025-07-09</td><td>Trator Modelo QQ</td><td>170000.0</td><td>Em negociacao</td></tr><tr><td>106</td><td>Curitiba</td><td>Pulverizdor</td><td>26</td><td>2025-06-26</td><td>76000.0</td><td>null</td><td>null</td><td>null</td><td>null</td><td>null</td></tr><tr><td>104</td><td>Florianopolis</td><td></td><td>5</td><td>2025-06-05</td><td>200000.0</td><td>null</td><td>null</td><td>null</td><td>null</td><td>null</td></tr><tr><td>103</td><td>Belo Horizonte</td><td>Colhetadeira</td><td>15</td><td>2025-06-15</td><td>275000.0</td><td>null</td><td>null</td><td>null</td><td>null</td><td>null</td></tr><tr><td>108</td><td>Porto Alegre</td><td>Pulverizdor</td><td>11</td><td>2025-06-11</td><td>90000.0</td><td>null</td><td>null</td><td>null</td><td>null</td><td>null</td></tr></tbody></table></div>"
      ]
     },
     "metadata": {
      "application/vnd.databricks.v1+output": {
       "addedWidgets": {},
       "aggData": [],
       "aggError": "",
       "aggOverflow": false,
       "aggSchema": [],
       "aggSeriesLimitReached": false,
       "aggType": "",
       "arguments": {},
       "columnCustomDisplayInfos": {},
       "data": [
        [
         109,
         "Salvador",
         "Pulverizador",
         47,
         "2025-07-17",
         88000.0,
         1020,
         "2025-06-16",
         "Pulverizador Modelo T",
         85000.0,
         "Proposta enviada"
        ],
        [
         109,
         "Salvador",
         "Pulverizador",
         47,
         "2025-07-17",
         88000.0,
         1029,
         "2025-06-25",
         "Pulverizador Modelo CC",
         81000.0,
         "Em negociacao"
        ],
        [
         109,
         "Salvador",
         "Pulverizador",
         47,
         "2025-07-17",
         88000.0,
         1038,
         "2025-07-04",
         "Pulverizador Modelo LL",
         86000.0,
         "Proposta enviada"
        ],
        [
         107,
         "Recife",
         "Colheitadeira",
         45,
         "2025-07-15",
         301000.0,
         1018,
         "2025-06-14",
         "Colheitadeira Modelo R",
         295000.0,
         "Proposta enviada"
        ],
        [
         107,
         "Recife",
         "Colheitadeira",
         45,
         "2025-07-15",
         301000.0,
         1027,
         "2025-06-23",
         "Colheitadeira Modelo AA",
         288000.0,
         "Em negociacao"
        ],
        [
         107,
         "Recife",
         "Colheitadeira",
         45,
         "2025-07-15",
         301000.0,
         1036,
         "2025-07-02",
         "Colheitadeira Modelo JJ",
         298000.0,
         "Proposta enviada"
        ],
        [
         109,
         "Salvador",
         "Colheitadeira",
         12,
         "2025-06-12",
         290000.0,
         1012,
         "2025-06-08",
         "Colheitadeira Modelo L",
         290000.0,
         "Proposta enviada"
        ],
        [
         108,
         "Porto Alegre",
         "Trator",
         46,
         "2025-07-16",
         153000.0,
         1019,
         "2025-06-15",
         "Trator Modelo S",
         148000.0,
         "Em negociacao"
        ],
        [
         108,
         "Porto Alegre",
         "Trator",
         46,
         "2025-07-16",
         153000.0,
         1028,
         "2025-06-24",
         "Trator Modelo BB",
         149000.0,
         "Proposta enviada"
        ],
        [
         108,
         "Porto Alegre",
         "Trator",
         46,
         "2025-07-16",
         153000.0,
         1037,
         "2025-07-03",
         "Trator Modelo KK",
         151000.0,
         "Em negociacao"
        ],
        [
         102,
         "Rio de Janeiro",
         "Pulverizador",
         14,
         "2025-06-14",
         82000.0,
         1007,
         "2025-06-04",
         "Pulverizador Modelo G",
         78000.0,
         "Em negociacao"
        ],
        [
         102,
         "Rio de Janeiro",
         "Pulverizador",
         14,
         "2025-06-14",
         82000.0,
         1014,
         "2025-06-10",
         "Pulverizador Modelo N",
         82000.0,
         "Proposta enviada"
        ],
        [
         102,
         "Rio de Janeiro",
         "Pulverizador",
         14,
         "2025-06-14",
         82000.0,
         1007,
         "2025-06-04",
         "Pulverizador Modelo G",
         78000.0,
         "Aberta"
        ],
        [
         101,
         "Sao Paulo",
         "Colheitadeira",
         48,
         "2025-07-18",
         318000.0,
         1009,
         "2025-06-05",
         "Colheitadeira Modelo I",
         320000.0,
         "Em negociacao"
        ],
        [
         101,
         "Sao Paulo",
         "Colheitadeira",
         48,
         "2025-07-18",
         318000.0,
         1021,
         "2025-06-17",
         "Colheitadeira Modelo U",
         305000.0,
         "Em negociacao"
        ],
        [
         101,
         "Sao Paulo",
         "Colheitadeira",
         48,
         "2025-07-18",
         318000.0,
         1030,
         "2025-06-26",
         "Colheitadeira Modelo DD",
         312000.0,
         "Proposta enviada"
        ],
        [
         101,
         "Sao Paulo",
         "Colheitadeira",
         48,
         "2025-07-18",
         318000.0,
         1039,
         "2025-07-05",
         "Colheitadeira Modelo MM",
         315000.0,
         "Em negociacao"
        ],
        [
         101,
         "Sao Paulo",
         "Colheitadeira",
         48,
         "2025-07-18",
         318000.0,
         1009,
         "2025-06-05",
         "Colheitadeira Modelo I",
         320000.0,
         "Fechada"
        ],
        [
         106,
         "Curitiba",
         "Trator",
         8,
         "2025-06-08",
         145000.0,
         1008,
         "2025-06-05",
         "Trator Modelo H",
         150000.0,
         "Proposta enviada"
        ],
        [
         106,
         "Curitiba",
         "Trator",
         8,
         "2025-06-08",
         145000.0,
         1008,
         "2025-06-05",
         "Trator Modelo H",
         150000.0,
         "Aberta"
        ],
        [
         101,
         "Sao Paulo",
         "Trator",
         13,
         "2025-06-13",
         155000.0,
         1001,
         "2025-06-01",
         "Trator Modelo A",
         155000.0,
         "Em negociacao"
        ],
        [
         101,
         "Sao Paulo",
         "Trator",
         13,
         "2025-06-13",
         155000.0,
         1013,
         "2025-06-09",
         "Trator Modelo M",
         155000.0,
         "Em negociacao"
        ],
        [
         101,
         "Sao Paulo",
         "Trator",
         13,
         "2025-06-13",
         155000.0,
         1001,
         "2025-06-01",
         "Trator Modelo A",
         155000.0,
         "Aberta"
        ],
        [
         105,
         "Brasilia",
         "Trator",
         52,
         "2025-07-22",
         172000.0,
         1016,
         "2025-06-12",
         "Trator Modelo P",
         162000.0,
         "Proposta enviada"
        ],
        [
         105,
         "Brasilia",
         "Trator",
         52,
         "2025-07-22",
         172000.0,
         1025,
         "2025-06-21",
         "Trator Modelo Y",
         165000.0,
         "Em negociacao"
        ],
        [
         105,
         "Brasilia",
         "Trator",
         52,
         "2025-07-22",
         172000.0,
         1034,
         "2025-06-30",
         "Trator Modelo HH",
         168000.0,
         "Proposta enviada"
        ],
        [
         105,
         "Brasilia",
         "Trator",
         52,
         "2025-07-22",
         172000.0,
         1043,
         "2025-07-09",
         "Trator Modelo QQ",
         170000.0,
         "Em negociacao"
        ],
        [
         103,
         "Belo Horizonte",
         "Trator",
         4,
         "2025-06-04",
         160000.0,
         1004,
         "2025-06-03",
         "Trator Modelo D",
         165000.0,
         "Proposta enviada"
        ],
        [
         103,
         "Belo Horizonte",
         "Trator",
         4,
         "2025-06-04",
         160000.0,
         1004,
         "2025-06-03",
         "Trator Modelo D",
         165000.0,
         "Aberta"
        ],
        [
         103,
         "Belo Horizonte",
         "Trator",
         4,
         "2025-06-04",
         160000.0,
         1012,
         "2025-06-08",
         "Trator Modelo K",
         170000.0,
         "Fechada"
        ],
        [
         106,
         "Curitiba",
         "Pulverizador",
         44,
         "2025-07-14",
         79000.0,
         1017,
         "2025-06-13",
         "Pulverizador Modelo Q",
         78000.0,
         "Em negociacao"
        ],
        [
         106,
         "Curitiba",
         "Pulverizador",
         44,
         "2025-07-14",
         79000.0,
         1026,
         "2025-06-22",
         "Pulverizador Modelo Z",
         76000.0,
         "Proposta enviada"
        ],
        [
         106,
         "Curitiba",
         "Pulverizador",
         44,
         "2025-07-14",
         79000.0,
         1035,
         "2025-07-01",
         "Pulverizador Modelo II",
         77000.0,
         "Em negociacao"
        ],
        [
         106,
         "Curitiba",
         "Pulverizador",
         44,
         "2025-07-14",
         79000.0,
         1044,
         "2025-07-10",
         "Pulverizador Modelo RR",
         79000.0,
         "Proposta enviada"
        ],
        [
         107,
         "Recife",
         "Trator",
         10,
         "2025-06-10",
         130000.0,
         1010,
         "2025-06-06",
         "Trator Modelo J",
         130000.0,
         "Proposta enviada"
        ],
        [
         107,
         "Recife",
         "Trator",
         10,
         "2025-06-10",
         130000.0,
         1010,
         "2025-06-06",
         "Trator Modelo J",
         135000.0,
         "Aberta"
        ],
        [
         104,
         "Florianopolis",
         "Colheitadeira",
         51,
         "2025-07-21",
         305000.0,
         1024,
         "2025-06-20",
         "Colheitadeira Modelo X",
         285000.0,
         "Proposta enviada"
        ],
        [
         104,
         "Florianopolis",
         "Colheitadeira",
         51,
         "2025-07-21",
         305000.0,
         1033,
         "2025-06-29",
         "Colheitadeira Modelo GG",
         292000.0,
         "Em negociacao"
        ],
        [
         104,
         "Florianopolis",
         "Colheitadeira",
         51,
         "2025-07-21",
         305000.0,
         1042,
         "2025-07-08",
         "Colheitadeira Modelo PP",
         297000.0,
         "Proposta enviada"
        ],
        [
         103,
         "Belo Horizonte",
         "Pulverizador",
         50,
         "2025-07-20",
         85000.0,
         1023,
         "2025-06-19",
         "Pulverizador Modelo W",
         79000.0,
         "Em negociacao"
        ],
        [
         103,
         "Belo Horizonte",
         "Pulverizador",
         50,
         "2025-07-20",
         85000.0,
         1032,
         "2025-06-28",
         "Pulverizador Modelo FF",
         83000.0,
         "Proposta enviada"
        ],
        [
         103,
         "Belo Horizonte",
         "Pulverizador",
         50,
         "2025-07-20",
         85000.0,
         1041,
         "2025-07-07",
         "Pulverizador Modelo OO",
         84000.0,
         "Em negociacao"
        ],
        [
         105,
         "Brasilia",
         "Colheitadeira",
         6,
         "2025-06-06",
         280000.0,
         1006,
         "2025-06-04",
         "Colheitadeira Modelo F",
         290000.0,
         "Proposta enviada"
        ],
        [
         105,
         "Brasilia",
         "Colheitadeira",
         6,
         "2025-06-06",
         280000.0,
         1006,
         "2025-06-04",
         "Colheitadeira Modelo F",
         290000.0,
         "Fechada"
        ],
        [
         101,
         "Sao Paulo",
         "Pulverizador",
         3,
         "2025-06-03",
         80000.0,
         1003,
         "2025-06-02",
         "Pulverizador Modelo C",
         82000.0,
         "Em negociacao"
        ],
        [
         101,
         "Sao Paulo",
         "Pulverizador",
         3,
         "2025-06-03",
         80000.0,
         1003,
         "2025-06-02",
         "Pulverizador Modelo C",
         82000.0,
         "Fechada"
        ],
        [
         102,
         "Rio de Janeiro",
         "Colheitadeira",
         2,
         "2025-06-02",
         300000.0,
         1002,
         "2025-06-01",
         "Colheitadeira Modelo B",
         300000.0,
         "Proposta enviada"
        ],
        [
         102,
         "Rio de Janeiro",
         "Colheitadeira",
         2,
         "2025-06-02",
         300000.0,
         1002,
         "2025-06-01",
         "Colheitadeira Modelo B",
         310000.0,
         "Aberta"
        ],
        [
         102,
         "Rio de Janeiro",
         "Trator",
         49,
         "2025-07-19",
         161000.0,
         1022,
         "2025-06-18",
         "Trator Modelo V",
         153000.0,
         "Proposta enviada"
        ],
        [
         102,
         "Rio de Janeiro",
         "Trator",
         49,
         "2025-07-19",
         161000.0,
         1031,
         "2025-06-27",
         "Trator Modelo EE",
         157000.0,
         "Em negociacao"
        ],
        [
         102,
         "Rio de Janeiro",
         "Trator",
         49,
         "2025-07-19",
         161000.0,
         1040,
         "2025-07-06",
         "Trator Modelo NN",
         159000.0,
         "Proposta enviada"
        ],
        [
         109,
         "Salvador",
         "Pulverizador",
         38,
         "2025-07-08",
         86000.0,
         1020,
         "2025-06-16",
         "Pulverizador Modelo T",
         85000.0,
         "Proposta enviada"
        ],
        [
         109,
         "Salvador",
         "Pulverizador",
         38,
         "2025-07-08",
         86000.0,
         1029,
         "2025-06-25",
         "Pulverizador Modelo CC",
         81000.0,
         "Em negociacao"
        ],
        [
         109,
         "Salvador",
         "Pulverizador",
         38,
         "2025-07-08",
         86000.0,
         1038,
         "2025-07-04",
         "Pulverizador Modelo LL",
         86000.0,
         "Proposta enviada"
        ],
        [
         107,
         "Recife",
         "Colheitadeira",
         36,
         "2025-07-06",
         298000.0,
         1018,
         "2025-06-14",
         "Colheitadeira Modelo R",
         295000.0,
         "Proposta enviada"
        ],
        [
         107,
         "Recife",
         "Colheitadeira",
         36,
         "2025-07-06",
         298000.0,
         1027,
         "2025-06-23",
         "Colheitadeira Modelo AA",
         288000.0,
         "Em negociacao"
        ],
        [
         107,
         "Recife",
         "Colheitadeira",
         36,
         "2025-07-06",
         298000.0,
         1036,
         "2025-07-02",
         "Colheitadeira Modelo JJ",
         298000.0,
         "Proposta enviada"
        ],
        [
         108,
         "Porto Alegre",
         "Trator",
         37,
         "2025-07-07",
         151000.0,
         1019,
         "2025-06-15",
         "Trator Modelo S",
         148000.0,
         "Em negociacao"
        ],
        [
         108,
         "Porto Alegre",
         "Trator",
         37,
         "2025-07-07",
         151000.0,
         1028,
         "2025-06-24",
         "Trator Modelo BB",
         149000.0,
         "Proposta enviada"
        ],
        [
         108,
         "Porto Alegre",
         "Trator",
         37,
         "2025-07-07",
         151000.0,
         1037,
         "2025-07-03",
         "Trator Modelo KK",
         151000.0,
         "Em negociacao"
        ],
        [
         102,
         "Rio de Janeiro",
         "Pulverizador",
         7,
         "2025-06-07",
         75000.0,
         1007,
         "2025-06-04",
         "Pulverizador Modelo G",
         78000.0,
         "Em negociacao"
        ],
        [
         102,
         "Rio de Janeiro",
         "Pulverizador",
         7,
         "2025-06-07",
         75000.0,
         1014,
         "2025-06-10",
         "Pulverizador Modelo N",
         82000.0,
         "Proposta enviada"
        ],
        [
         102,
         "Rio de Janeiro",
         "Pulverizador",
         7,
         "2025-06-07",
         75000.0,
         1007,
         "2025-06-04",
         "Pulverizador Modelo G",
         78000.0,
         "Aberta"
        ],
        [
         101,
         "Sao Paulo",
         "Colheitadeira",
         39,
         "2025-07-09",
         315000.0,
         1009,
         "2025-06-05",
         "Colheitadeira Modelo I",
         320000.0,
         "Em negociacao"
        ],
        [
         101,
         "Sao Paulo",
         "Colheitadeira",
         39,
         "2025-07-09",
         315000.0,
         1021,
         "2025-06-17",
         "Colheitadeira Modelo U",
         305000.0,
         "Em negociacao"
        ],
        [
         101,
         "Sao Paulo",
         "Colheitadeira",
         39,
         "2025-07-09",
         315000.0,
         1030,
         "2025-06-26",
         "Colheitadeira Modelo DD",
         312000.0,
         "Proposta enviada"
        ],
        [
         101,
         "Sao Paulo",
         "Colheitadeira",
         39,
         "2025-07-09",
         315000.0,
         1039,
         "2025-07-05",
         "Colheitadeira Modelo MM",
         315000.0,
         "Em negociacao"
        ],
        [
         101,
         "Sao Paulo",
         "Colheitadeira",
         39,
         "2025-07-09",
         315000.0,
         1009,
         "2025-06-05",
         "Colheitadeira Modelo I",
         320000.0,
         "Fechada"
        ],
        [
         101,
         "Sao Paulo",
         "Trator",
         1,
         "2025-06-01",
         150000.0,
         1001,
         "2025-06-01",
         "Trator Modelo A",
         155000.0,
         "Em negociacao"
        ],
        [
         101,
         "Sao Paulo",
         "Trator",
         1,
         "2025-06-01",
         150000.0,
         1013,
         "2025-06-09",
         "Trator Modelo M",
         155000.0,
         "Em negociacao"
        ],
        [
         101,
         "Sao Paulo",
         "Trator",
         1,
         "2025-06-01",
         150000.0,
         1001,
         "2025-06-01",
         "Trator Modelo A",
         155000.0,
         "Aberta"
        ],
        [
         105,
         "Brasilia",
         "Trator",
         43,
         "2025-07-13",
         170000.0,
         1016,
         "2025-06-12",
         "Trator Modelo P",
         162000.0,
         "Proposta enviada"
        ],
        [
         105,
         "Brasilia",
         "Trator",
         43,
         "2025-07-13",
         170000.0,
         1025,
         "2025-06-21",
         "Trator Modelo Y",
         165000.0,
         "Em negociacao"
        ],
        [
         105,
         "Brasilia",
         "Trator",
         43,
         "2025-07-13",
         170000.0,
         1034,
         "2025-06-30",
         "Trator Modelo HH",
         168000.0,
         "Proposta enviada"
        ],
        [
         105,
         "Brasilia",
         "Trator",
         43,
         "2025-07-13",
         170000.0,
         1043,
         "2025-07-09",
         "Trator Modelo QQ",
         170000.0,
         "Em negociacao"
        ],
        [
         106,
         "Curitiba",
         "Pulverizador",
         35,
         "2025-07-05",
         77000.0,
         1017,
         "2025-06-13",
         "Pulverizador Modelo Q",
         78000.0,
         "Em negociacao"
        ],
        [
         106,
         "Curitiba",
         "Pulverizador",
         35,
         "2025-07-05",
         77000.0,
         1026,
         "2025-06-22",
         "Pulverizador Modelo Z",
         76000.0,
         "Proposta enviada"
        ],
        [
         106,
         "Curitiba",
         "Pulverizador",
         35,
         "2025-07-05",
         77000.0,
         1035,
         "2025-07-01",
         "Pulverizador Modelo II",
         77000.0,
         "Em negociacao"
        ],
        [
         106,
         "Curitiba",
         "Pulverizador",
         35,
         "2025-07-05",
         77000.0,
         1044,
         "2025-07-10",
         "Pulverizador Modelo RR",
         79000.0,
         "Proposta enviada"
        ],
        [
         104,
         "Florianopolis",
         "Colheitadeira",
         42,
         "2025-07-12",
         297000.0,
         1024,
         "2025-06-20",
         "Colheitadeira Modelo X",
         285000.0,
         "Proposta enviada"
        ],
        [
         104,
         "Florianopolis",
         "Colheitadeira",
         42,
         "2025-07-12",
         297000.0,
         1033,
         "2025-06-29",
         "Colheitadeira Modelo GG",
         292000.0,
         "Em negociacao"
        ],
        [
         104,
         "Florianopolis",
         "Colheitadeira",
         42,
         "2025-07-12",
         297000.0,
         1042,
         "2025-07-08",
         "Colheitadeira Modelo PP",
         297000.0,
         "Proposta enviada"
        ],
        [
         103,
         "Belo Horizonte",
         "Pulverizador",
         41,
         "2025-07-11",
         84000.0,
         1023,
         "2025-06-19",
         "Pulverizador Modelo W",
         79000.0,
         "Em negociacao"
        ],
        [
         103,
         "Belo Horizonte",
         "Pulverizador",
         41,
         "2025-07-11",
         84000.0,
         1032,
         "2025-06-28",
         "Pulverizador Modelo FF",
         83000.0,
         "Proposta enviada"
        ],
        [
         103,
         "Belo Horizonte",
         "Pulverizador",
         41,
         "2025-07-11",
         84000.0,
         1041,
         "2025-07-07",
         "Pulverizador Modelo OO",
         84000.0,
         "Em negociacao"
        ],
        [
         102,
         "Rio de Janeiro",
         "Trator",
         40,
         "2025-07-10",
         159000.0,
         1022,
         "2025-06-18",
         "Trator Modelo V",
         153000.0,
         "Proposta enviada"
        ],
        [
         102,
         "Rio de Janeiro",
         "Trator",
         40,
         "2025-07-10",
         159000.0,
         1031,
         "2025-06-27",
         "Trator Modelo EE",
         157000.0,
         "Em negociacao"
        ],
        [
         102,
         "Rio de Janeiro",
         "Trator",
         40,
         "2025-07-10",
         159000.0,
         1040,
         "2025-07-06",
         "Trator Modelo NN",
         159000.0,
         "Proposta enviada"
        ],
        [
         109,
         "Salvador",
         "Pulverizador",
         29,
         "2025-06-29",
         81000.0,
         1020,
         "2025-06-16",
         "Pulverizador Modelo T",
         85000.0,
         "Proposta enviada"
        ],
        [
         109,
         "Salvador",
         "Pulverizador",
         29,
         "2025-06-29",
         81000.0,
         1029,
         "2025-06-25",
         "Pulverizador Modelo CC",
         81000.0,
         "Em negociacao"
        ],
        [
         109,
         "Salvador",
         "Pulverizador",
         29,
         "2025-06-29",
         81000.0,
         1038,
         "2025-07-04",
         "Pulverizador Modelo LL",
         86000.0,
         "Proposta enviada"
        ],
        [
         107,
         "Recife",
         "Colheitadeira",
         27,
         "2025-06-27",
         288000.0,
         1018,
         "2025-06-14",
         "Colheitadeira Modelo R",
         295000.0,
         "Proposta enviada"
        ],
        [
         107,
         "Recife",
         "Colheitadeira",
         27,
         "2025-06-27",
         288000.0,
         1027,
         "2025-06-23",
         "Colheitadeira Modelo AA",
         288000.0,
         "Em negociacao"
        ],
        [
         107,
         "Recife",
         "Colheitadeira",
         27,
         "2025-06-27",
         288000.0,
         1036,
         "2025-07-02",
         "Colheitadeira Modelo JJ",
         298000.0,
         "Proposta enviada"
        ],
        [
         108,
         "Porto Alegre",
         "Trator",
         28,
         "2025-06-28",
         149000.0,
         1019,
         "2025-06-15",
         "Trator Modelo S",
         148000.0,
         "Em negociacao"
        ],
        [
         108,
         "Porto Alegre",
         "Trator",
         28,
         "2025-06-28",
         149000.0,
         1028,
         "2025-06-24",
         "Trator Modelo BB",
         149000.0,
         "Proposta enviada"
        ],
        [
         108,
         "Porto Alegre",
         "Trator",
         28,
         "2025-06-28",
         149000.0,
         1037,
         "2025-07-03",
         "Trator Modelo KK",
         151000.0,
         "Em negociacao"
        ],
        [
         101,
         "Sao Paulo",
         "Colheitadeira",
         30,
         "2025-06-30",
         312000.0,
         1009,
         "2025-06-05",
         "Colheitadeira Modelo I",
         320000.0,
         "Em negociacao"
        ],
        [
         101,
         "Sao Paulo",
         "Colheitadeira",
         30,
         "2025-06-30",
         312000.0,
         1021,
         "2025-06-17",
         "Colheitadeira Modelo U",
         305000.0,
         "Em negociacao"
        ],
        [
         101,
         "Sao Paulo",
         "Colheitadeira",
         30,
         "2025-06-30",
         312000.0,
         1030,
         "2025-06-26",
         "Colheitadeira Modelo DD",
         312000.0,
         "Proposta enviada"
        ],
        [
         101,
         "Sao Paulo",
         "Colheitadeira",
         30,
         "2025-06-30",
         312000.0,
         1039,
         "2025-07-05",
         "Colheitadeira Modelo MM",
         315000.0,
         "Em negociacao"
        ],
        [
         101,
         "Sao Paulo",
         "Colheitadeira",
         30,
         "2025-06-30",
         312000.0,
         1009,
         "2025-06-05",
         "Colheitadeira Modelo I",
         320000.0,
         "Fechada"
        ],
        [
         105,
         "Brasilia",
         "Trator",
         34,
         "2025-07-04",
         168000.0,
         1016,
         "2025-06-12",
         "Trator Modelo P",
         162000.0,
         "Proposta enviada"
        ],
        [
         105,
         "Brasilia",
         "Trator",
         34,
         "2025-07-04",
         168000.0,
         1025,
         "2025-06-21",
         "Trator Modelo Y",
         165000.0,
         "Em negociacao"
        ],
        [
         105,
         "Brasilia",
         "Trator",
         34,
         "2025-07-04",
         168000.0,
         1034,
         "2025-06-30",
         "Trator Modelo HH",
         168000.0,
         "Proposta enviada"
        ],
        [
         105,
         "Brasilia",
         "Trator",
         34,
         "2025-07-04",
         168000.0,
         1043,
         "2025-07-09",
         "Trator Modelo QQ",
         170000.0,
         "Em negociacao"
        ],
        [
         106,
         "Curitiba",
         "Pulverizador",
         17,
         "2025-06-17",
         78000.0,
         1017,
         "2025-06-13",
         "Pulverizador Modelo Q",
         78000.0,
         "Em negociacao"
        ],
        [
         106,
         "Curitiba",
         "Pulverizador",
         17,
         "2025-06-17",
         78000.0,
         1026,
         "2025-06-22",
         "Pulverizador Modelo Z",
         76000.0,
         "Proposta enviada"
        ],
        [
         106,
         "Curitiba",
         "Pulverizador",
         17,
         "2025-06-17",
         78000.0,
         1035,
         "2025-07-01",
         "Pulverizador Modelo II",
         77000.0,
         "Em negociacao"
        ],
        [
         106,
         "Curitiba",
         "Pulverizador",
         17,
         "2025-06-17",
         78000.0,
         1044,
         "2025-07-10",
         "Pulverizador Modelo RR",
         79000.0,
         "Proposta enviada"
        ],
        [
         104,
         "Florianopolis",
         "Colheitadeira",
         33,
         "2025-07-03",
         292000.0,
         1024,
         "2025-06-20",
         "Colheitadeira Modelo X",
         285000.0,
         "Proposta enviada"
        ],
        [
         104,
         "Florianopolis",
         "Colheitadeira",
         33,
         "2025-07-03",
         292000.0,
         1033,
         "2025-06-29",
         "Colheitadeira Modelo GG",
         292000.0,
         "Em negociacao"
        ],
        [
         104,
         "Florianopolis",
         "Colheitadeira",
         33,
         "2025-07-03",
         292000.0,
         1042,
         "2025-07-08",
         "Colheitadeira Modelo PP",
         297000.0,
         "Proposta enviada"
        ],
        [
         103,
         "Belo Horizonte",
         "Pulverizador",
         32,
         "2025-07-02",
         83000.0,
         1023,
         "2025-06-19",
         "Pulverizador Modelo W",
         79000.0,
         "Em negociacao"
        ],
        [
         103,
         "Belo Horizonte",
         "Pulverizador",
         32,
         "2025-07-02",
         83000.0,
         1032,
         "2025-06-28",
         "Pulverizador Modelo FF",
         83000.0,
         "Proposta enviada"
        ],
        [
         103,
         "Belo Horizonte",
         "Pulverizador",
         32,
         "2025-07-02",
         83000.0,
         1041,
         "2025-07-07",
         "Pulverizador Modelo OO",
         84000.0,
         "Em negociacao"
        ],
        [
         102,
         "Rio de Janeiro",
         "Trator",
         31,
         "2025-07-01",
         157000.0,
         1022,
         "2025-06-18",
         "Trator Modelo V",
         153000.0,
         "Proposta enviada"
        ],
        [
         102,
         "Rio de Janeiro",
         "Trator",
         31,
         "2025-07-01",
         157000.0,
         1031,
         "2025-06-27",
         "Trator Modelo EE",
         157000.0,
         "Em negociacao"
        ],
        [
         102,
         "Rio de Janeiro",
         "Trator",
         31,
         "2025-07-01",
         157000.0,
         1040,
         "2025-07-06",
         "Trator Modelo NN",
         159000.0,
         "Proposta enviada"
        ],
        [
         109,
         "Salvador",
         "Pulverizador",
         20,
         "2025-06-20",
         85000.0,
         1020,
         "2025-06-16",
         "Pulverizador Modelo T",
         85000.0,
         "Proposta enviada"
        ],
        [
         109,
         "Salvador",
         "Pulverizador",
         20,
         "2025-06-20",
         85000.0,
         1029,
         "2025-06-25",
         "Pulverizador Modelo CC",
         81000.0,
         "Em negociacao"
        ],
        [
         109,
         "Salvador",
         "Pulverizador",
         20,
         "2025-06-20",
         85000.0,
         1038,
         "2025-07-04",
         "Pulverizador Modelo LL",
         86000.0,
         "Proposta enviada"
        ],
        [
         107,
         "Recife",
         "Colheitadeira",
         18,
         "2025-06-18",
         295000.0,
         1018,
         "2025-06-14",
         "Colheitadeira Modelo R",
         295000.0,
         "Proposta enviada"
        ],
        [
         107,
         "Recife",
         "Colheitadeira",
         18,
         "2025-06-18",
         295000.0,
         1027,
         "2025-06-23",
         "Colheitadeira Modelo AA",
         288000.0,
         "Em negociacao"
        ],
        [
         107,
         "Recife",
         "Colheitadeira",
         18,
         "2025-06-18",
         295000.0,
         1036,
         "2025-07-02",
         "Colheitadeira Modelo JJ",
         298000.0,
         "Proposta enviada"
        ],
        [
         108,
         "Porto Alegre",
         "Trator",
         19,
         "2025-06-19",
         148000.0,
         1019,
         "2025-06-15",
         "Trator Modelo S",
         148000.0,
         "Em negociacao"
        ],
        [
         108,
         "Porto Alegre",
         "Trator",
         19,
         "2025-06-19",
         148000.0,
         1028,
         "2025-06-24",
         "Trator Modelo BB",
         149000.0,
         "Proposta enviada"
        ],
        [
         108,
         "Porto Alegre",
         "Trator",
         19,
         "2025-06-19",
         148000.0,
         1037,
         "2025-07-03",
         "Trator Modelo KK",
         151000.0,
         "Em negociacao"
        ],
        [
         101,
         "Sao Paulo",
         "Colheitadeira",
         21,
         "2025-06-21",
         305000.0,
         1009,
         "2025-06-05",
         "Colheitadeira Modelo I",
         320000.0,
         "Em negociacao"
        ],
        [
         101,
         "Sao Paulo",
         "Colheitadeira",
         21,
         "2025-06-21",
         305000.0,
         1021,
         "2025-06-17",
         "Colheitadeira Modelo U",
         305000.0,
         "Em negociacao"
        ],
        [
         101,
         "Sao Paulo",
         "Colheitadeira",
         21,
         "2025-06-21",
         305000.0,
         1030,
         "2025-06-26",
         "Colheitadeira Modelo DD",
         312000.0,
         "Proposta enviada"
        ],
        [
         101,
         "Sao Paulo",
         "Colheitadeira",
         21,
         "2025-06-21",
         305000.0,
         1039,
         "2025-07-05",
         "Colheitadeira Modelo MM",
         315000.0,
         "Em negociacao"
        ],
        [
         101,
         "Sao Paulo",
         "Colheitadeira",
         21,
         "2025-06-21",
         305000.0,
         1009,
         "2025-06-05",
         "Colheitadeira Modelo I",
         320000.0,
         "Fechada"
        ],
        [
         105,
         "Brasilia",
         "Trator",
         25,
         "2025-06-25",
         165000.0,
         1016,
         "2025-06-12",
         "Trator Modelo P",
         162000.0,
         "Proposta enviada"
        ],
        [
         105,
         "Brasilia",
         "Trator",
         25,
         "2025-06-25",
         165000.0,
         1025,
         "2025-06-21",
         "Trator Modelo Y",
         165000.0,
         "Em negociacao"
        ],
        [
         105,
         "Brasilia",
         "Trator",
         25,
         "2025-06-25",
         165000.0,
         1034,
         "2025-06-30",
         "Trator Modelo HH",
         168000.0,
         "Proposta enviada"
        ],
        [
         105,
         "Brasilia",
         "Trator",
         25,
         "2025-06-25",
         165000.0,
         1043,
         "2025-07-09",
         "Trator Modelo QQ",
         170000.0,
         "Em negociacao"
        ],
        [
         104,
         "Florianopolis",
         "Colheitadeira",
         24,
         "2025-06-24",
         285000.0,
         1024,
         "2025-06-20",
         "Colheitadeira Modelo X",
         285000.0,
         "Proposta enviada"
        ],
        [
         104,
         "Florianopolis",
         "Colheitadeira",
         24,
         "2025-06-24",
         285000.0,
         1033,
         "2025-06-29",
         "Colheitadeira Modelo GG",
         292000.0,
         "Em negociacao"
        ],
        [
         104,
         "Florianopolis",
         "Colheitadeira",
         24,
         "2025-06-24",
         285000.0,
         1042,
         "2025-07-08",
         "Colheitadeira Modelo PP",
         297000.0,
         "Proposta enviada"
        ],
        [
         103,
         "Belo Horizonte",
         "Pulverizador",
         23,
         "2025-06-23",
         79000.0,
         1023,
         "2025-06-19",
         "Pulverizador Modelo W",
         79000.0,
         "Em negociacao"
        ],
        [
         103,
         "Belo Horizonte",
         "Pulverizador",
         23,
         "2025-06-23",
         79000.0,
         1032,
         "2025-06-28",
         "Pulverizador Modelo FF",
         83000.0,
         "Proposta enviada"
        ],
        [
         103,
         "Belo Horizonte",
         "Pulverizador",
         23,
         "2025-06-23",
         79000.0,
         1041,
         "2025-07-07",
         "Pulverizador Modelo OO",
         84000.0,
         "Em negociacao"
        ],
        [
         102,
         "Rio de Janeiro",
         "Trator",
         22,
         "2025-06-22",
         153000.0,
         1022,
         "2025-06-18",
         "Trator Modelo V",
         153000.0,
         "Proposta enviada"
        ],
        [
         102,
         "Rio de Janeiro",
         "Trator",
         22,
         "2025-06-22",
         153000.0,
         1031,
         "2025-06-27",
         "Trator Modelo EE",
         157000.0,
         "Em negociacao"
        ],
        [
         102,
         "Rio de Janeiro",
         "Trator",
         22,
         "2025-06-22",
         153000.0,
         1040,
         "2025-07-06",
         "Trator Modelo NN",
         159000.0,
         "Proposta enviada"
        ],
        [
         101,
         "Sao Paulo",
         "Colheitadeira",
         9,
         "2025-06-09",
         310000.0,
         1009,
         "2025-06-05",
         "Colheitadeira Modelo I",
         320000.0,
         "Em negociacao"
        ],
        [
         101,
         "Sao Paulo",
         "Colheitadeira",
         9,
         "2025-06-09",
         310000.0,
         1021,
         "2025-06-17",
         "Colheitadeira Modelo U",
         305000.0,
         "Em negociacao"
        ],
        [
         101,
         "Sao Paulo",
         "Colheitadeira",
         9,
         "2025-06-09",
         310000.0,
         1030,
         "2025-06-26",
         "Colheitadeira Modelo DD",
         312000.0,
         "Proposta enviada"
        ],
        [
         101,
         "Sao Paulo",
         "Colheitadeira",
         9,
         "2025-06-09",
         310000.0,
         1039,
         "2025-07-05",
         "Colheitadeira Modelo MM",
         315000.0,
         "Em negociacao"
        ],
        [
         101,
         "Sao Paulo",
         "Colheitadeira",
         9,
         "2025-06-09",
         310000.0,
         1009,
         "2025-06-05",
         "Colheitadeira Modelo I",
         320000.0,
         "Fechada"
        ],
        [
         105,
         "Brasilia",
         "Trator",
         16,
         "2025-06-16",
         162000.0,
         1016,
         "2025-06-12",
         "Trator Modelo P",
         162000.0,
         "Proposta enviada"
        ],
        [
         105,
         "Brasilia",
         "Trator",
         16,
         "2025-06-16",
         162000.0,
         1025,
         "2025-06-21",
         "Trator Modelo Y",
         165000.0,
         "Em negociacao"
        ],
        [
         105,
         "Brasilia",
         "Trator",
         16,
         "2025-06-16",
         162000.0,
         1034,
         "2025-06-30",
         "Trator Modelo HH",
         168000.0,
         "Proposta enviada"
        ],
        [
         105,
         "Brasilia",
         "Trator",
         16,
         "2025-06-16",
         162000.0,
         1043,
         "2025-07-09",
         "Trator Modelo QQ",
         170000.0,
         "Em negociacao"
        ],
        [
         106,
         "Curitiba",
         "Pulverizdor",
         26,
         "2025-06-26",
         76000.0,
         null,
         null,
         null,
         null,
         null
        ],
        [
         104,
         "Florianopolis",
         "",
         5,
         "2025-06-05",
         200000.0,
         null,
         null,
         null,
         null,
         null
        ],
        [
         103,
         "Belo Horizonte",
         "Colhetadeira",
         15,
         "2025-06-15",
         275000.0,
         null,
         null,
         null,
         null,
         null
        ],
        [
         108,
         "Porto Alegre",
         "Pulverizdor",
         11,
         "2025-06-11",
         90000.0,
         null,
         null,
         null,
         null,
         null
        ]
       ],
       "datasetInfos": [],
       "dbfsResultPath": null,
       "isJsonSchema": true,
       "metadata": {},
       "overflow": false,
       "plotOptions": {
        "customPlotOptions": {},
        "displayType": "table",
        "pivotAggregation": null,
        "pivotColumns": null,
        "xColumns": null,
        "yColumns": null
       },
       "removedWidgets": [],
       "schema": [
        {
         "metadata": "{}",
         "name": "revendedor_id",
         "type": "\"integer\""
        },
        {
         "metadata": "{}",
         "name": "local_venda",
         "type": "\"string\""
        },
        {
         "metadata": "{}",
         "name": "tipo_maquina",
         "type": "\"string\""
        },
        {
         "metadata": "{}",
         "name": "id_venda",
         "type": "\"integer\""
        },
        {
         "metadata": "{}",
         "name": "data_venda",
         "type": "\"date\""
        },
        {
         "metadata": "{}",
         "name": "valor_total",
         "type": "\"double\""
        },
        {
         "metadata": "{}",
         "name": "id_cotacao",
         "type": "\"integer\""
        },
        {
         "metadata": "{}",
         "name": "data_cotacao",
         "type": "\"date\""
        },
        {
         "metadata": "{}",
         "name": "maquina_cotada",
         "type": "\"string\""
        },
        {
         "metadata": "{}",
         "name": "valor_estimado",
         "type": "\"double\""
        },
        {
         "metadata": "{}",
         "name": "status_cotacao",
         "type": "\"string\""
        }
       ],
       "type": "table"
      }
     },
     "output_type": "display_data"
    }
   ],
   "source": [
    "\n",
    "\n",
    "#unificando as tabelas\n",
    "\n",
    "# Passo 1: Criar a coluna padronizada 'tipo_maquina' em cotações\n",
    "df_cotacoes_com_tipo = df_cotacoes.withColumn(\"tipo_maquina\", split(col(\"maquina_cotada\"), \" \").getItem(0))\n",
    "\n",
    "# Passo 2: Renomeando a coluna 'local_cotacao' para 'local_venda' no dataframe de cotações para que o join funcione corretamente\n",
    "df_cotacoes_renomeado = df_cotacoes_com_tipo.withColumnRenamed(\"local_cotacao\", \"local_venda\")\n",
    "\n",
    "# Passo 3: Definir as chaves da união como uma lista de strings\n",
    "chaves_join = [\"revendedor_id\", \"local_venda\", \"tipo_maquina\"]\n",
    "\n",
    "# Passo 4: Executar o join usando a sintaxe simplificada 'on='\n",
    "# Ao usar 'on=', o Spark automaticamente unifica as colunas-chave.\n",
    "df_unificado_final = df_vendas.join(df_cotacoes_renomeado, on=chaves_join, how=\"left\")\n",
    "\n",
    "# Passo 5: Exibir o resultado final\n",
    "print(\"✅ DataFrame Unificado com Colunas-Chave Unificadas:\")\n",
    "display(df_unificado_final)"
   ]
  },
  {
   "cell_type": "code",
   "execution_count": 0,
   "metadata": {
    "application/vnd.databricks.v1+cell": {
     "cellMetadata": {
      "byteLimit": 2048000,
      "rowLimit": 10000
     },
     "inputWidgets": {},
     "nuid": "48ed4947-fe88-4e6e-a3a4-f0c296cc2105",
     "showTitle": false,
     "tableResultSettingsMap": {},
     "title": ""
    }
   },
   "outputs": [
    {
     "output_type": "display_data",
     "data": {
      "text/html": [
       "<style scoped>\n",
       "  .table-result-container {\n",
       "    max-height: 300px;\n",
       "    overflow: auto;\n",
       "  }\n",
       "  table, th, td {\n",
       "    border: 1px solid black;\n",
       "    border-collapse: collapse;\n",
       "  }\n",
       "  th, td {\n",
       "    padding: 5px;\n",
       "  }\n",
       "  th {\n",
       "    text-align: left;\n",
       "  }\n",
       "</style><div class='table-result-container'><table class='table-result'><thead style='background-color: white'><tr><th>local_venda</th><th>valor_total_vendas</th><th>numero_de_vendas</th></tr></thead><tbody><tr><td>Sao Paulo</td><td>1945000.0</td><td>8</td></tr><tr><td>Florianopolis</td><td>1379000.0</td><td>5</td></tr><tr><td>Recife</td><td>1312000.0</td><td>5</td></tr><tr><td>Brasilia</td><td>1117000.0</td><td>6</td></tr><tr><td>Rio de Janeiro</td><td>1087000.0</td><td>7</td></tr><tr><td>Belo Horizonte</td><td>766000.0</td><td>6</td></tr><tr><td>Porto Alegre</td><td>691000.0</td><td>5</td></tr><tr><td>Salvador</td><td>630000.0</td><td>5</td></tr><tr><td>Curitiba</td><td>455000.0</td><td>5</td></tr></tbody></table></div>"
      ]
     },
     "metadata": {
      "application/vnd.databricks.v1+output": {
       "addedWidgets": {},
       "aggData": [],
       "aggError": "",
       "aggOverflow": false,
       "aggSchema": [],
       "aggSeriesLimitReached": false,
       "aggType": "",
       "arguments": {},
       "columnCustomDisplayInfos": {},
       "data": [
        [
         "Sao Paulo",
         1945000.0,
         8
        ],
        [
         "Florianopolis",
         1379000.0,
         5
        ],
        [
         "Recife",
         1312000.0,
         5
        ],
        [
         "Brasilia",
         1117000.0,
         6
        ],
        [
         "Rio de Janeiro",
         1087000.0,
         7
        ],
        [
         "Belo Horizonte",
         766000.0,
         6
        ],
        [
         "Porto Alegre",
         691000.0,
         5
        ],
        [
         "Salvador",
         630000.0,
         5
        ],
        [
         "Curitiba",
         455000.0,
         5
        ]
       ],
       "datasetInfos": [],
       "dbfsResultPath": null,
       "isJsonSchema": true,
       "metadata": {},
       "overflow": false,
       "plotOptions": {
        "customPlotOptions": {},
        "displayType": "table",
        "pivotAggregation": null,
        "pivotColumns": null,
        "xColumns": null,
        "yColumns": null
       },
       "removedWidgets": [],
       "schema": [
        {
         "metadata": "{}",
         "name": "local_venda",
         "type": "\"string\""
        },
        {
         "metadata": "{}",
         "name": "valor_total_vendas",
         "type": "\"double\""
        },
        {
         "metadata": "{}",
         "name": "numero_de_vendas",
         "type": "\"long\""
        }
       ],
       "type": "table"
      }
     },
     "output_type": "display_data"
    }
   ],
   "source": [
    "\n",
    "\n",
    "# ANÁLISE: TOTAL DE VENDAS POR LOCAL \n",
    "\n",
    "\n",
    "total_vendas_por_local = df_vendas.groupBy(\"local_venda\") \\\n",
    "    .agg(\n",
    "        # Soma todos os valores da coluna 'valor_total'\n",
    "        sum(\"valor_total\").alias(\"valor_total_vendas\"),\n",
    "        \n",
    "        # Simplesmente conta todas as linhas em cada grupo (local)\n",
    "        count(\"*\").alias(\"numero_de_vendas\")\n",
    "    ) \\\n",
    "    .orderBy(col(\"valor_total_vendas\").desc())\n",
    "\n",
    "# Exibe o resultado final\n",
    "display(total_vendas_por_local)"
   ]
  },
  {
   "cell_type": "code",
   "execution_count": 0,
   "metadata": {
    "application/vnd.databricks.v1+cell": {
     "cellMetadata": {
      "byteLimit": 2048000,
      "rowLimit": 10000
     },
     "inputWidgets": {},
     "nuid": "f2958c5d-7d0b-46a1-b620-e41520be8cfb",
     "showTitle": false,
     "tableResultSettingsMap": {},
     "title": ""
    }
   },
   "outputs": [
    {
     "output_type": "display_data",
     "data": {
      "text/html": [
       "<style scoped>\n",
       "  .table-result-container {\n",
       "    max-height: 300px;\n",
       "    overflow: auto;\n",
       "  }\n",
       "  table, th, td {\n",
       "    border: 1px solid black;\n",
       "    border-collapse: collapse;\n",
       "  }\n",
       "  th, td {\n",
       "    padding: 5px;\n",
       "  }\n",
       "  th {\n",
       "    text-align: left;\n",
       "  }\n",
       "</style><div class='table-result-container'><table class='table-result'><thead style='background-color: white'><tr><th>local_cotacao</th><th>total_de_itens_cotados</th></tr></thead><tbody><tr><td>Sao Paulo</td><td>10</td></tr><tr><td>Rio de Janeiro</td><td>8</td></tr><tr><td>Belo Horizonte</td><td>7</td></tr><tr><td>Brasilia</td><td>6</td></tr><tr><td>Curitiba</td><td>6</td></tr><tr><td>Florianopolis</td><td>5</td></tr><tr><td>Recife</td><td>5</td></tr><tr><td>Porto Alegre</td><td>4</td></tr><tr><td>Salvador</td><td>4</td></tr><tr><td>Campinas</td><td>1</td></tr></tbody></table></div>"
      ]
     },
     "metadata": {
      "application/vnd.databricks.v1+output": {
       "addedWidgets": {},
       "aggData": [],
       "aggError": "",
       "aggOverflow": false,
       "aggSchema": [],
       "aggSeriesLimitReached": false,
       "aggType": "",
       "arguments": {},
       "columnCustomDisplayInfos": {},
       "data": [
        [
         "Sao Paulo",
         10
        ],
        [
         "Rio de Janeiro",
         8
        ],
        [
         "Belo Horizonte",
         7
        ],
        [
         "Brasilia",
         6
        ],
        [
         "Curitiba",
         6
        ],
        [
         "Florianopolis",
         5
        ],
        [
         "Recife",
         5
        ],
        [
         "Porto Alegre",
         4
        ],
        [
         "Salvador",
         4
        ],
        [
         "Campinas",
         1
        ]
       ],
       "datasetInfos": [],
       "dbfsResultPath": null,
       "isJsonSchema": true,
       "metadata": {},
       "overflow": false,
       "plotOptions": {
        "customPlotOptions": {},
        "displayType": "table",
        "pivotAggregation": null,
        "pivotColumns": null,
        "xColumns": null,
        "yColumns": null
       },
       "removedWidgets": [],
       "schema": [
        {
         "metadata": "{}",
         "name": "local_cotacao",
         "type": "\"string\""
        },
        {
         "metadata": "{}",
         "name": "total_de_itens_cotados",
         "type": "\"long\""
        }
       ],
       "type": "table"
      }
     },
     "output_type": "display_data"
    }
   ],
   "source": [
    "\n",
    "\n",
    "# ANÁLISE: NÚMERO TOTAL DE ITENS COTADOS POR LOCAL\n",
    "\n",
    "itens_cotados_por_local = df_cotacoes.groupBy(\"local_cotacao\") \\\n",
    "    .agg(\n",
    "        count(\"*\").alias(\"total_de_itens_cotados\")\n",
    "    ) \\\n",
    "    .orderBy(col(\"total_de_itens_cotados\").desc()) # Ordena pelo local com mais itens cotados\n",
    "\n",
    "# Exibe o resultado final\n",
    "display(itens_cotados_por_local)"
   ]
  },
  {
   "cell_type": "code",
   "execution_count": 0,
   "metadata": {
    "application/vnd.databricks.v1+cell": {
     "cellMetadata": {
      "byteLimit": 2048000,
      "rowLimit": 10000
     },
     "inputWidgets": {},
     "nuid": "eb9a30b8-827e-4b4b-8b8b-e20fc56b26ac",
     "showTitle": false,
     "tableResultSettingsMap": {
      "0": {
       "dataGridStateBlob": "{\"version\":1,\"tableState\":{\"columnPinning\":{\"left\":[\"#row_number#\"],\"right\":[]},\"columnSizing\":{},\"columnVisibility\":{}},\"settings\":{\"columns\":{}},\"syncTimestamp\":1756090055742}",
       "filterBlob": null,
       "queryPlanFiltersBlob": null,
       "tableResultIndex": 0
      }
     },
     "title": ""
    }
   },
   "outputs": [
    {
     "output_type": "display_data",
     "data": {
      "text/html": [
       "<style scoped>\n",
       "  .table-result-container {\n",
       "    max-height: 300px;\n",
       "    overflow: auto;\n",
       "  }\n",
       "  table, th, td {\n",
       "    border: 1px solid black;\n",
       "    border-collapse: collapse;\n",
       "  }\n",
       "  th, td {\n",
       "    padding: 5px;\n",
       "  }\n",
       "  th {\n",
       "    text-align: left;\n",
       "  }\n",
       "</style><div class='table-result-container'><table class='table-result'><thead style='background-color: white'><tr><th>local_venda</th><th>numero_de_vendas</th><th>numero_de_itens_cotados</th><th>taxa_conversao</th></tr></thead><tbody><tr><td>Porto Alegre</td><td>5</td><td>4</td><td>1.25</td></tr><tr><td>Salvador</td><td>5</td><td>4</td><td>1.25</td></tr><tr><td>Recife</td><td>5</td><td>5</td><td>1.0</td></tr><tr><td>Brasilia</td><td>6</td><td>6</td><td>1.0</td></tr><tr><td>Florianopolis</td><td>5</td><td>5</td><td>1.0</td></tr><tr><td>Rio de Janeiro</td><td>7</td><td>8</td><td>0.88</td></tr><tr><td>Belo Horizonte</td><td>6</td><td>7</td><td>0.86</td></tr><tr><td>Curitiba</td><td>5</td><td>6</td><td>0.83</td></tr><tr><td>Sao Paulo</td><td>8</td><td>10</td><td>0.8</td></tr></tbody></table></div>"
      ]
     },
     "metadata": {
      "application/vnd.databricks.v1+output": {
       "addedWidgets": {},
       "aggData": [],
       "aggError": "",
       "aggOverflow": false,
       "aggSchema": [],
       "aggSeriesLimitReached": false,
       "aggType": "",
       "arguments": {},
       "columnCustomDisplayInfos": {},
       "data": [
        [
         "Porto Alegre",
         5,
         4,
         1.25
        ],
        [
         "Salvador",
         5,
         4,
         1.25
        ],
        [
         "Recife",
         5,
         5,
         1.0
        ],
        [
         "Brasilia",
         6,
         6,
         1.0
        ],
        [
         "Florianopolis",
         5,
         5,
         1.0
        ],
        [
         "Rio de Janeiro",
         7,
         8,
         0.88
        ],
        [
         "Belo Horizonte",
         6,
         7,
         0.86
        ],
        [
         "Curitiba",
         5,
         6,
         0.83
        ],
        [
         "Sao Paulo",
         8,
         10,
         0.8
        ]
       ],
       "datasetInfos": [],
       "dbfsResultPath": null,
       "isJsonSchema": true,
       "metadata": {},
       "overflow": false,
       "plotOptions": {
        "customPlotOptions": {},
        "displayType": "table",
        "pivotAggregation": null,
        "pivotColumns": null,
        "xColumns": null,
        "yColumns": null
       },
       "removedWidgets": [],
       "schema": [
        {
         "metadata": "{}",
         "name": "local_venda",
         "type": "\"string\""
        },
        {
         "metadata": "{}",
         "name": "numero_de_vendas",
         "type": "\"long\""
        },
        {
         "metadata": "{}",
         "name": "numero_de_itens_cotados",
         "type": "\"long\""
        },
        {
         "metadata": "{}",
         "name": "taxa_conversao",
         "type": "\"double\""
        }
       ],
       "type": "table"
      }
     },
     "output_type": "display_data"
    }
   ],
   "source": [
    "from pyspark.sql.functions import col, round\n",
    "\n",
    "# MÉTRICA: TAXA DE CONVERSÃO POR LOCAL\n",
    "\n",
    "# 1.contando o número de vendas por local\n",
    "num_vendas_por_local = df_vendas.groupBy(\"local_venda\") \\\n",
    "    .count() \\\n",
    "    .withColumnRenamed(\"count\", \"numero_de_vendas\")\n",
    "\n",
    "# 2. contando o numero de cotações por local\n",
    "num_cotacoes_por_local = df_cotacoes.groupBy(\"local_cotacao\") \\\n",
    "    .count() \\\n",
    "    .withColumnRenamed(\"count\", \"numero_de_itens_cotados\")\n",
    "\n",
    "# 3. Unir as duas tabelas de contagem\n",
    "#realizando o join das duas tabelas através do local, renomeando a coluna local cotacao para local venda\n",
    "conversao_por_local = num_vendas_por_local.join(\n",
    "    num_cotacoes_por_local.withColumnRenamed(\"local_cotacao\", \"local_venda\"),\n",
    "    on=\"local_venda\",\n",
    "    how=\"inner\"\n",
    ")\n",
    "\n",
    "# 4. Calcular a taxa de conversão e ordenar\n",
    "# Criamos a nova coluna 'taxa_conversao' dividindo as vendas pelos itens cotados\n",
    "# e arredondando para 2 casas decimais.\n",
    "conversao_por_local = conversao_por_local.withColumn(\n",
    "    \"taxa_conversao\",\n",
    "    round((col(\"numero_de_vendas\") / col(\"numero_de_itens_cotados\")), 2)\n",
    ").orderBy(\"taxa_conversao\", ascending=False)\n",
    "\n",
    "#display(num_cotacoes_por_local)\n",
    "\n",
    "display(conversao_por_local)"
   ]
  },
  {
   "cell_type": "code",
   "execution_count": 0,
   "metadata": {
    "application/vnd.databricks.v1+cell": {
     "cellMetadata": {
      "byteLimit": 2048000,
      "rowLimit": 10000
     },
     "inputWidgets": {},
     "nuid": "0e076185-da74-4d18-8931-67d5640c13c5",
     "showTitle": false,
     "tableResultSettingsMap": {},
     "title": ""
    }
   },
   "outputs": [
    {
     "output_type": "stream",
     "name": "stdout",
     "output_type": "stream",
     "text": [
      "Iniciando o processo de armazenamento otimizado...\nSalvando a tabela 'df_vendas' como Delta Table...\n -> Tabela 'vendas_limpo' salva com sucesso!\n\nSalvando a tabela 'df_cotacoes' como Delta Table...\n -> Tabela 'cotacoes_limpo' salva com sucesso!\n\nSalvando a tabela 'df_unificado_final' como Delta Table...\n -> Tabela 'vendas_e_cotacoes_unificado' salva com sucesso!\n\nProcesso de armazenamento finalizado.\n"
     ]
    }
   ],
   "source": [
    "\n",
    "\n",
    "#ARMAZENAMENTO OTIMIZADO DE TODAS AS TABELAS\n",
    "\n",
    "print(\"Iniciando o processo de armazenamento otimizado...\")\n",
    "\n",
    "# --- ARMAZENANDO A TABELA DE VENDAS LIMPA ---\n",
    "try:\n",
    "    print(\"Salvando a tabela 'df_vendas' como Delta Table...\")\n",
    "    df_vendas.write.format(\"delta\").mode(\"overwrite\").saveAsTable(\"vendas_limpo\")\n",
    "    print(\" -> Tabela 'vendas_limpo' salva com sucesso!\")\n",
    "except Exception as e:\n",
    "    print(f\" -> Erro ao salvar 'vendas_limpo': {e}\")\n",
    "\n",
    "\n",
    "# --- ARMAZENANDO A TABELA DE COTAÇÕES LIMPA ---\n",
    "try:\n",
    "    print(\"\\nSalvando a tabela 'df_cotacoes' como Delta Table...\")\n",
    "    df_cotacoes.write.format(\"delta\").mode(\"overwrite\").saveAsTable(\"cotacoes_limpo\")\n",
    "    print(\" -> Tabela 'cotacoes_limpo' salva com sucesso!\")\n",
    "except Exception as e:\n",
    "    print(f\" -> Erro ao salvar 'cotacoes_limpo': {e}\")\n",
    "\n",
    "\n",
    "# --- ARMAZENANDO A TABELA FINAL UNIFICADA E CONSOLIDADA ---\n",
    "try:\n",
    "    print(\"\\nSalvando a tabela 'df_unificado_final' como Delta Table...\")\n",
    "    df_unificado_final.write.format(\"delta\").mode(\"overwrite\").saveAsTable(\"vendas_e_cotacoes_unificado\")\n",
    "    print(\" -> Tabela 'vendas_e_cotacoes_unificado' salva com sucesso!\")\n",
    "except Exception as e:\n",
    "    print(f\" -> Erro ao salvar 'vendas_e_cotacoes_unificado': {e}\")\n",
    "\n",
    "print(\"\\nProcesso de armazenamento finalizado.\")"
   ]
  }
 ],
 "metadata": {
  "application/vnd.databricks.v1+notebook": {
   "computePreferences": null,
   "dashboards": [],
   "environmentMetadata": {
    "base_environment": "",
    "environment_version": "2"
   },
   "inputWidgetPreferences": null,
   "language": "python",
   "notebookMetadata": {
    "pythonIndentUnit": 4
   },
   "notebookName": "Ray Consulting Teste Técnico",
   "widgets": {}
  },
  "language_info": {
   "name": "python"
  }
 },
 "nbformat": 4,
 "nbformat_minor": 0
}